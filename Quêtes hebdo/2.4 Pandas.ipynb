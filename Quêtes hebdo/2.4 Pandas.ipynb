{
 "cells": [
  {
   "cell_type": "markdown",
   "metadata": {},
   "source": [
    "Quêtes de l'exercice pandas 2.4"
   ]
  },
  {
   "cell_type": "code",
   "execution_count": 1,
   "metadata": {},
   "outputs": [
    {
     "data": {
      "text/plain": [
       "DATE        MAX_TEMPERATURE_C  MIN_TEMPERATURE_C  WINDSPEED_MAX_KMH  TEMPERATURE_MORNING_C  TEMPERATURE_NOON_C  TEMPERATURE_EVENING_C  PRECIP_TOTAL_DAY_MM  HUMIDITY_MAX_PERCENT  VISIBILITY_AVG_KM  PRESSURE_MAX_MB  CLOUDCOVER_AVG_PERCENT  HEATINDEX_MAX_C  DEWPOINT_MAX_C  WINDTEMP_MAX_C  WEATHER_CODE_EVENING  TOTAL_SNOW_MM  UV_INDEX  SUNHOUR  OPINION   flag \n",
       "2018-12-31  9                  5                  10                 5                      9                   6                      0.0                  95                    6.000              1038             40.250                  10               7               5               116.0                 0.0            1.0       8.7      very bad  False    1\n",
       "2018-01-01  12                 8                  61                 9                      11                  8                      8.9                  79                    9.500              1018             41.750                  12               8               7               113.0                 0.0            3.0       5.1      bad       False    1\n",
       "2018-01-02  13                 6                  26                 8                      12                  13                     0.6                  96                    9.000              1020             87.875                  13               12              6               122.0                 0.0            3.0       3.3      bad       False    1\n",
       "2018-01-03  15                 10                 40                 11                     12                  10                     5.5                  82                    8.500              1017             91.500                  15               13              7               122.0                 0.0            3.0       3.3      bad       False    1\n",
       "2018-01-04  14                 11                 45                 14                     14                  11                     0.0                  89                    10.000             1011             90.125                  14               12              10              116.0                 0.0            3.0       3.3      bad       False    1\n",
       "                                                                                                                                                                                                                                                                                                                                                                         ..\n",
       "2018-01-18  12                 8                  36                 11                     12                  10                     0.0                  92                    10.000             1018             82.750                  12               11              9               116.0                 0.0            1.0       3.4      bad       False    1\n",
       "2018-01-17  10                 5                  25                 5                      10                  8                      0.0                  76                    10.000             1022             52.125                  10               5               2               119.0                 0.0            2.0       8.7      very bad  False    1\n",
       "2018-01-16  12                 9                  32                 11                     12                  9                      0.0                  87                    10.000             1011             86.500                  12               9               7               119.0                 0.0            3.0       3.4      bad       False    1\n",
       "2018-01-15  12                 5                  40                 6                      10                  11                     2.8                  92                    9.625              1021             73.125                  12               11              6               116.0                 0.0            3.0       3.4      very bad  False    1\n",
       "2018-01-14  9                  5                  11                 6                      9                   6                      1.3                  95                    7.875              1020             68.125                  10               6               3               116.0                 0.0            2.0       5.1      very bad  False    1\n",
       "Name: count, Length: 365, dtype: int64"
      ]
     },
     "execution_count": 1,
     "metadata": {},
     "output_type": "execute_result"
    }
   ],
   "source": [
    "import pandas as pd\n",
    "import numpy as np\n",
    "link = \"https://raw.githubusercontent.com/WildCodeSchool/data-training-resources/main/quests/weather2018_quest_merge.csv\"\n",
    "weather_db = pd.read_csv(link)\n",
    "\n",
    "weather_db.value_counts()"
   ]
  },
  {
   "cell_type": "markdown",
   "metadata": {},
   "source": [
    "1/ Crée une fonction translate qui traduit chacune des 5 valeurs possibles présente dans OPINION en français. Ta fonction doit prendre un str en paramètre, et retourner un autre str avec la traduction. Par exemple : translate(\"bad\") doit retourner \"mauvais\". Idem pour very bad, not good not bad, good et very good. Tu peux utiliser un dictionnaire dict, ou bien des conditions imbriquées (le dictionnaire est plus élégant)."
   ]
  },
  {
   "cell_type": "code",
   "execution_count": 3,
   "metadata": {},
   "outputs": [],
   "source": [
    "#création d'une fonction permettant de traduire les termes da la colonne OPINION\n",
    "def func_translate(str):\n",
    "    #déclaration d'un dictionnaire de traduction\n",
    "    translate_dico = {\n",
    "        \"bad\" : \"mauvais\",\n",
    "        \"good\" : \"bon\",\n",
    "        \"very bad\" : \"très mauvais\",\n",
    "        \"not good not bad\" : \"ni bon ni mauvais\",\n",
    "        \"very good\" : \"très bien\",\n",
    "        \"unknown\" : \"inconnu\"\n",
    "    }\n",
    "    #on parcours le dico\n",
    "    for key_dico, value_dico in translate_dico.items():\n",
    "        if key_dico == str : return(value_dico)\n",
    "        else : \"inconnu\"\n"
   ]
  },
  {
   "cell_type": "markdown",
   "metadata": {},
   "source": [
    "2/ Applique avec apply ta fonction à la Série OPINION, vérifie que ca fonctionne, puis stocke le résultat dans cette même colonne OPINION."
   ]
  },
  {
   "cell_type": "code",
   "execution_count": 4,
   "metadata": {},
   "outputs": [],
   "source": [
    "weather_db['OPINION'] = weather_db['OPINION'].apply(func_translate)"
   ]
  },
  {
   "cell_type": "markdown",
   "metadata": {},
   "source": [
    "3/ Utilise apply pour créer une nouvelle colonne MONTH qui contiendra le numéro du mois (de 1 à 12). Tu peux définir une fonction, ou utiliser une fonction lambda."
   ]
  },
  {
   "cell_type": "code",
   "execution_count": 5,
   "metadata": {},
   "outputs": [],
   "source": [
    "weather_db['MONTH'] = weather_db['DATE'].apply(lambda x: int(x.split('-')[1]))\n"
   ]
  },
  {
   "cell_type": "markdown",
   "metadata": {},
   "source": [
    "4/ Utilise apply pour créer une nouvelle colonne DAY qui contiendra le numéro du jour (de 1 à 31). Tu peux définir une fonction, ou utiliser une fonction lambda."
   ]
  },
  {
   "cell_type": "code",
   "execution_count": 6,
   "metadata": {},
   "outputs": [
    {
     "data": {
      "text/plain": [
       "0       1\n",
       "1       2\n",
       "2       3\n",
       "3       4\n",
       "4       5\n",
       "       ..\n",
       "360    27\n",
       "361    28\n",
       "362    29\n",
       "363    30\n",
       "364    31\n",
       "Name: DAY, Length: 365, dtype: int64"
      ]
     },
     "execution_count": 6,
     "metadata": {},
     "output_type": "execute_result"
    }
   ],
   "source": [
    "weather_db['DAY'] = weather_db['DATE'].apply(lambda x: int(x.split('-')[2]))\n",
    "weather_db['DAY']"
   ]
  },
  {
   "cell_type": "markdown",
   "metadata": {},
   "source": [
    "5/ Concatène les lignes du DataFrame 2018, avec celles de 2019 (tu as dû l'importer tout en haut de ton notebook)."
   ]
  },
  {
   "cell_type": "code",
   "execution_count": 7,
   "metadata": {},
   "outputs": [],
   "source": [
    "#on importe la base de 2019\n",
    "link2 = \"https://raw.githubusercontent.com/WildCodeSchool/data-training-resources/main/quests/weather2019.csv\"\n",
    "weather_db2 = pd.read_csv(link2)"
   ]
  },
  {
   "cell_type": "code",
   "execution_count": 8,
   "metadata": {},
   "outputs": [],
   "source": [
    "#on test la base de 2019 pour la tester\n",
    "from numpy import concatenate\n",
    "\n",
    "\n",
    "weather_db2\n",
    "weather_db_total = pd.concat([weather_db,weather_db2], ignore_index=True)\n"
   ]
  },
  {
   "cell_type": "markdown",
   "metadata": {},
   "source": [
    "Utilise apply pour créer une 26e colonne YEAR qui contiendra le numéro de l'année (2018 ou 2019). Tu peux définir une fonction, ou utiliser une fonction lambda."
   ]
  },
  {
   "cell_type": "code",
   "execution_count": 9,
   "metadata": {},
   "outputs": [
    {
     "data": {
      "text/plain": [
       "0      2018\n",
       "1      2018\n",
       "2      2018\n",
       "3      2018\n",
       "4      2018\n",
       "       ... \n",
       "725    2019\n",
       "726    2019\n",
       "727    2019\n",
       "728    2019\n",
       "729    2019\n",
       "Name: YEAR, Length: 730, dtype: object"
      ]
     },
     "execution_count": 9,
     "metadata": {},
     "output_type": "execute_result"
    }
   ],
   "source": [
    "weather_db_total['YEAR'] = weather_db_total['DATE'].apply(lambda x: x.split('-')[0])\n",
    "weather_db_total['YEAR']"
   ]
  },
  {
   "cell_type": "markdown",
   "metadata": {},
   "source": [
    "Trace les 4 graphiques suivants pour comparer 2018 et 2019 :\n",
    "Histogramme de la vitesse du vent\n",
    "Boxplots pour les précipitations\n",
    "Scatterplots pour le SUNHOUR et la date\n",
    "Violinplots pour la température maximale\n",
    "Sur chaque graphique, on pourra lire si 2018 et 2019 sont différents ou similaires, alors utilisez de la couleur pour bien les distinguer !"
   ]
  },
  {
   "cell_type": "code",
   "execution_count": 10,
   "metadata": {},
   "outputs": [],
   "source": [
    "#On importe les bonnes lib pour les dessins, j'ai décidé d'utiliser Plotly express\n",
    "import plotly.express as px\n",
    "\n",
    "\n"
   ]
  },
  {
   "cell_type": "markdown",
   "metadata": {},
   "source": [
    "Histogramme de la vitesse du vent"
   ]
  },
  {
   "cell_type": "code",
   "execution_count": 11,
   "metadata": {},
   "outputs": [
    {
     "data": {
      "application/vnd.plotly.v1+json": {
       "config": {
        "plotlyServerURL": "https://plot.ly"
       },
       "data": [
        {
         "alignmentgroup": "True",
         "bingroup": "x",
         "hovertemplate": "YEAR=2018<br>WINDSPEED_MAX_KMH=%{x}<br>count=%{y}<extra></extra>",
         "legendgroup": "2018",
         "marker": {
          "color": "#636efa",
          "pattern": {
           "shape": ""
          }
         },
         "name": "2018",
         "nbinsx": 60,
         "offsetgroup": "2018",
         "orientation": "v",
         "showlegend": true,
         "type": "histogram",
         "x": [
          61,
          26,
          40,
          45,
          21,
          8,
          40,
          26,
          20,
          13,
          10,
          9,
          20,
          11,
          40,
          32,
          25,
          36,
          23,
          42,
          32,
          39,
          25,
          35,
          15,
          16,
          13,
          14,
          15,
          13,
          34,
          17,
          18,
          25,
          30,
          26,
          19,
          22,
          7,
          29,
          23,
          23,
          14,
          41,
          39,
          18,
          16,
          16,
          13,
          13,
          27,
          20,
          19,
          20,
          18,
          27,
          31,
          26,
          35,
          27,
          39,
          35,
          28,
          29,
          25,
          26,
          23,
          27,
          25,
          35,
          40,
          14,
          33,
          35,
          23,
          14,
          18,
          25,
          29,
          15,
          15,
          21,
          18,
          13,
          21,
          30,
          30,
          29,
          30,
          28,
          21,
          21,
          30,
          39,
          12,
          22,
          14,
          10,
          8,
          13,
          14,
          6,
          8,
          17,
          29,
          18,
          18,
          21,
          12,
          9,
          12,
          21,
          8,
          17,
          27,
          15,
          38,
          10,
          23,
          20,
          19,
          30,
          15,
          17,
          16,
          12,
          7,
          20,
          17,
          17,
          23,
          19,
          18,
          27,
          21,
          17,
          19,
          15,
          16,
          14,
          13,
          17,
          13,
          8,
          8,
          14,
          18,
          10,
          16,
          21,
          22,
          13,
          5,
          16,
          4,
          8,
          14,
          14,
          11,
          16,
          12,
          17,
          22,
          10,
          18,
          16,
          20,
          21,
          11,
          9,
          12,
          24,
          26,
          22,
          19,
          22,
          23,
          17,
          21,
          24,
          15,
          9,
          16,
          21,
          15,
          19,
          8,
          7,
          15,
          21,
          12,
          17,
          14,
          10,
          13,
          10,
          22,
          10,
          8,
          14,
          18,
          11,
          13,
          5,
          15,
          8,
          18,
          10,
          23,
          32,
          27,
          14,
          9,
          13,
          12,
          14,
          13,
          14,
          27,
          11,
          23,
          22,
          10,
          23,
          22,
          15,
          5,
          17,
          17,
          9,
          15,
          8,
          9,
          13,
          18,
          21,
          14,
          23,
          13,
          9,
          17,
          16,
          8,
          9,
          17,
          13,
          15,
          16,
          21,
          11,
          10,
          13,
          12,
          12,
          12,
          15,
          12,
          13,
          7,
          21,
          20,
          23,
          26,
          21,
          32,
          30,
          23,
          26,
          17,
          12,
          18,
          20,
          16,
          21,
          18,
          13,
          16,
          12,
          30,
          33,
          13,
          14,
          27,
          29,
          28,
          28,
          30,
          5,
          12,
          9,
          23,
          19,
          19,
          16,
          28,
          16,
          12,
          10,
          15,
          17,
          33,
          21,
          11,
          14,
          14,
          9,
          12,
          15,
          15,
          22,
          35,
          27,
          27,
          30,
          23,
          19,
          12,
          16,
          17,
          15,
          21,
          27,
          26,
          10,
          18,
          16,
          18,
          18,
          24,
          13,
          26,
          29,
          29,
          18,
          35,
          33,
          37,
          8,
          21,
          19,
          39,
          37,
          34,
          10,
          11,
          13,
          23,
          12,
          29,
          23,
          15,
          35,
          20,
          20,
          40,
          18,
          24,
          6,
          14,
          12,
          6,
          8,
          6,
          6,
          10
         ],
         "xaxis": "x",
         "yaxis": "y"
        },
        {
         "alignmentgroup": "True",
         "bingroup": "x",
         "hovertemplate": "YEAR=2019<br>WINDSPEED_MAX_KMH=%{x}<br>count=%{y}<extra></extra>",
         "legendgroup": "2019",
         "marker": {
          "color": "#EF553B",
          "pattern": {
           "shape": ""
          }
         },
         "name": "2019",
         "nbinsx": 60,
         "offsetgroup": "2019",
         "orientation": "v",
         "showlegend": true,
         "type": "histogram",
         "x": [
          10,
          18,
          18,
          15,
          8,
          7,
          9,
          18,
          18,
          14,
          10,
          12,
          19,
          14,
          3,
          15,
          18,
          16,
          12,
          16,
          8,
          18,
          25,
          8,
          12,
          21,
          38,
          14,
          24,
          20,
          30,
          17,
          30,
          10,
          32,
          9,
          26,
          24,
          28,
          29,
          40,
          20,
          7,
          15,
          14,
          12,
          14,
          23,
          15,
          9,
          10,
          8,
          14,
          10,
          14,
          14,
          10,
          11,
          26,
          14,
          23,
          36,
          46,
          28,
          28,
          28,
          22,
          23,
          31,
          20,
          36,
          31,
          38,
          30,
          28,
          34,
          17,
          5,
          6,
          15,
          8,
          10,
          19,
          21,
          18,
          19,
          19,
          15,
          13,
          9,
          13,
          30,
          17,
          25,
          24,
          16,
          24,
          15,
          6,
          17,
          17,
          12,
          16,
          14,
          28,
          18,
          26,
          16,
          8,
          21,
          11,
          24,
          22,
          30,
          33,
          32,
          29,
          17,
          11,
          10,
          9,
          19,
          17,
          26,
          17,
          9,
          13,
          37,
          27,
          23,
          18,
          19,
          27,
          29,
          26,
          21,
          16,
          9,
          16,
          16,
          13,
          7,
          9,
          20,
          15,
          15,
          17,
          23,
          18,
          17,
          5,
          9,
          17,
          14,
          25,
          15,
          16,
          42,
          27,
          14,
          23,
          15,
          23,
          21,
          16,
          28,
          17,
          8,
          19,
          26,
          15,
          13,
          15,
          16,
          21,
          9,
          23,
          18,
          13,
          18,
          10,
          17,
          18,
          26,
          24,
          20,
          8,
          12,
          19,
          25,
          9,
          21,
          13,
          15,
          21,
          14,
          7,
          18,
          22,
          18,
          28,
          17,
          6,
          27,
          13,
          23,
          13,
          17,
          22,
          29,
          32,
          19,
          8,
          15,
          12,
          19,
          24,
          17,
          22,
          18,
          37,
          32,
          25,
          28,
          21,
          27,
          21,
          24,
          23,
          24,
          19,
          11,
          13,
          13,
          19,
          14,
          13,
          9,
          20,
          20,
          9,
          8,
          24,
          14,
          14,
          9,
          17,
          20,
          14,
          18,
          16,
          15,
          19,
          17,
          11,
          16,
          21,
          14,
          15,
          20,
          31,
          33,
          27,
          27,
          33,
          24,
          34,
          25,
          31,
          31,
          24,
          41,
          19,
          35,
          14,
          17,
          25,
          16,
          24,
          19,
          17,
          32,
          18,
          22,
          21,
          28,
          33,
          28,
          38,
          27,
          28,
          12,
          16,
          12,
          21,
          22,
          19,
          24,
          23,
          21,
          19,
          18,
          12,
          19,
          25,
          32,
          36,
          39,
          30,
          18,
          22,
          26,
          28,
          20,
          26,
          20,
          16,
          5,
          14,
          18,
          8,
          8,
          15,
          13,
          20,
          32,
          14,
          12,
          18,
          33,
          39,
          30,
          12,
          23,
          22,
          25,
          19,
          9,
          5,
          26,
          12,
          27,
          34,
          24,
          29,
          31,
          36,
          22,
          22,
          14,
          11,
          31,
          38,
          28,
          36,
          34,
          19,
          26,
          9,
          24,
          13,
          12,
          11,
          7,
          13
         ],
         "xaxis": "x",
         "yaxis": "y"
        }
       ],
       "layout": {
        "barmode": "group",
        "legend": {
         "title": {
          "text": "YEAR"
         },
         "tracegroupgap": 0
        },
        "margin": {
         "t": 60
        },
        "template": {
         "data": {
          "bar": [
           {
            "error_x": {
             "color": "#2a3f5f"
            },
            "error_y": {
             "color": "#2a3f5f"
            },
            "marker": {
             "line": {
              "color": "#E5ECF6",
              "width": 0.5
             },
             "pattern": {
              "fillmode": "overlay",
              "size": 10,
              "solidity": 0.2
             }
            },
            "type": "bar"
           }
          ],
          "barpolar": [
           {
            "marker": {
             "line": {
              "color": "#E5ECF6",
              "width": 0.5
             },
             "pattern": {
              "fillmode": "overlay",
              "size": 10,
              "solidity": 0.2
             }
            },
            "type": "barpolar"
           }
          ],
          "carpet": [
           {
            "aaxis": {
             "endlinecolor": "#2a3f5f",
             "gridcolor": "white",
             "linecolor": "white",
             "minorgridcolor": "white",
             "startlinecolor": "#2a3f5f"
            },
            "baxis": {
             "endlinecolor": "#2a3f5f",
             "gridcolor": "white",
             "linecolor": "white",
             "minorgridcolor": "white",
             "startlinecolor": "#2a3f5f"
            },
            "type": "carpet"
           }
          ],
          "choropleth": [
           {
            "colorbar": {
             "outlinewidth": 0,
             "ticks": ""
            },
            "type": "choropleth"
           }
          ],
          "contour": [
           {
            "colorbar": {
             "outlinewidth": 0,
             "ticks": ""
            },
            "colorscale": [
             [
              0,
              "#0d0887"
             ],
             [
              0.1111111111111111,
              "#46039f"
             ],
             [
              0.2222222222222222,
              "#7201a8"
             ],
             [
              0.3333333333333333,
              "#9c179e"
             ],
             [
              0.4444444444444444,
              "#bd3786"
             ],
             [
              0.5555555555555556,
              "#d8576b"
             ],
             [
              0.6666666666666666,
              "#ed7953"
             ],
             [
              0.7777777777777778,
              "#fb9f3a"
             ],
             [
              0.8888888888888888,
              "#fdca26"
             ],
             [
              1,
              "#f0f921"
             ]
            ],
            "type": "contour"
           }
          ],
          "contourcarpet": [
           {
            "colorbar": {
             "outlinewidth": 0,
             "ticks": ""
            },
            "type": "contourcarpet"
           }
          ],
          "heatmap": [
           {
            "colorbar": {
             "outlinewidth": 0,
             "ticks": ""
            },
            "colorscale": [
             [
              0,
              "#0d0887"
             ],
             [
              0.1111111111111111,
              "#46039f"
             ],
             [
              0.2222222222222222,
              "#7201a8"
             ],
             [
              0.3333333333333333,
              "#9c179e"
             ],
             [
              0.4444444444444444,
              "#bd3786"
             ],
             [
              0.5555555555555556,
              "#d8576b"
             ],
             [
              0.6666666666666666,
              "#ed7953"
             ],
             [
              0.7777777777777778,
              "#fb9f3a"
             ],
             [
              0.8888888888888888,
              "#fdca26"
             ],
             [
              1,
              "#f0f921"
             ]
            ],
            "type": "heatmap"
           }
          ],
          "heatmapgl": [
           {
            "colorbar": {
             "outlinewidth": 0,
             "ticks": ""
            },
            "colorscale": [
             [
              0,
              "#0d0887"
             ],
             [
              0.1111111111111111,
              "#46039f"
             ],
             [
              0.2222222222222222,
              "#7201a8"
             ],
             [
              0.3333333333333333,
              "#9c179e"
             ],
             [
              0.4444444444444444,
              "#bd3786"
             ],
             [
              0.5555555555555556,
              "#d8576b"
             ],
             [
              0.6666666666666666,
              "#ed7953"
             ],
             [
              0.7777777777777778,
              "#fb9f3a"
             ],
             [
              0.8888888888888888,
              "#fdca26"
             ],
             [
              1,
              "#f0f921"
             ]
            ],
            "type": "heatmapgl"
           }
          ],
          "histogram": [
           {
            "marker": {
             "pattern": {
              "fillmode": "overlay",
              "size": 10,
              "solidity": 0.2
             }
            },
            "type": "histogram"
           }
          ],
          "histogram2d": [
           {
            "colorbar": {
             "outlinewidth": 0,
             "ticks": ""
            },
            "colorscale": [
             [
              0,
              "#0d0887"
             ],
             [
              0.1111111111111111,
              "#46039f"
             ],
             [
              0.2222222222222222,
              "#7201a8"
             ],
             [
              0.3333333333333333,
              "#9c179e"
             ],
             [
              0.4444444444444444,
              "#bd3786"
             ],
             [
              0.5555555555555556,
              "#d8576b"
             ],
             [
              0.6666666666666666,
              "#ed7953"
             ],
             [
              0.7777777777777778,
              "#fb9f3a"
             ],
             [
              0.8888888888888888,
              "#fdca26"
             ],
             [
              1,
              "#f0f921"
             ]
            ],
            "type": "histogram2d"
           }
          ],
          "histogram2dcontour": [
           {
            "colorbar": {
             "outlinewidth": 0,
             "ticks": ""
            },
            "colorscale": [
             [
              0,
              "#0d0887"
             ],
             [
              0.1111111111111111,
              "#46039f"
             ],
             [
              0.2222222222222222,
              "#7201a8"
             ],
             [
              0.3333333333333333,
              "#9c179e"
             ],
             [
              0.4444444444444444,
              "#bd3786"
             ],
             [
              0.5555555555555556,
              "#d8576b"
             ],
             [
              0.6666666666666666,
              "#ed7953"
             ],
             [
              0.7777777777777778,
              "#fb9f3a"
             ],
             [
              0.8888888888888888,
              "#fdca26"
             ],
             [
              1,
              "#f0f921"
             ]
            ],
            "type": "histogram2dcontour"
           }
          ],
          "mesh3d": [
           {
            "colorbar": {
             "outlinewidth": 0,
             "ticks": ""
            },
            "type": "mesh3d"
           }
          ],
          "parcoords": [
           {
            "line": {
             "colorbar": {
              "outlinewidth": 0,
              "ticks": ""
             }
            },
            "type": "parcoords"
           }
          ],
          "pie": [
           {
            "automargin": true,
            "type": "pie"
           }
          ],
          "scatter": [
           {
            "fillpattern": {
             "fillmode": "overlay",
             "size": 10,
             "solidity": 0.2
            },
            "type": "scatter"
           }
          ],
          "scatter3d": [
           {
            "line": {
             "colorbar": {
              "outlinewidth": 0,
              "ticks": ""
             }
            },
            "marker": {
             "colorbar": {
              "outlinewidth": 0,
              "ticks": ""
             }
            },
            "type": "scatter3d"
           }
          ],
          "scattercarpet": [
           {
            "marker": {
             "colorbar": {
              "outlinewidth": 0,
              "ticks": ""
             }
            },
            "type": "scattercarpet"
           }
          ],
          "scattergeo": [
           {
            "marker": {
             "colorbar": {
              "outlinewidth": 0,
              "ticks": ""
             }
            },
            "type": "scattergeo"
           }
          ],
          "scattergl": [
           {
            "marker": {
             "colorbar": {
              "outlinewidth": 0,
              "ticks": ""
             }
            },
            "type": "scattergl"
           }
          ],
          "scattermapbox": [
           {
            "marker": {
             "colorbar": {
              "outlinewidth": 0,
              "ticks": ""
             }
            },
            "type": "scattermapbox"
           }
          ],
          "scatterpolar": [
           {
            "marker": {
             "colorbar": {
              "outlinewidth": 0,
              "ticks": ""
             }
            },
            "type": "scatterpolar"
           }
          ],
          "scatterpolargl": [
           {
            "marker": {
             "colorbar": {
              "outlinewidth": 0,
              "ticks": ""
             }
            },
            "type": "scatterpolargl"
           }
          ],
          "scatterternary": [
           {
            "marker": {
             "colorbar": {
              "outlinewidth": 0,
              "ticks": ""
             }
            },
            "type": "scatterternary"
           }
          ],
          "surface": [
           {
            "colorbar": {
             "outlinewidth": 0,
             "ticks": ""
            },
            "colorscale": [
             [
              0,
              "#0d0887"
             ],
             [
              0.1111111111111111,
              "#46039f"
             ],
             [
              0.2222222222222222,
              "#7201a8"
             ],
             [
              0.3333333333333333,
              "#9c179e"
             ],
             [
              0.4444444444444444,
              "#bd3786"
             ],
             [
              0.5555555555555556,
              "#d8576b"
             ],
             [
              0.6666666666666666,
              "#ed7953"
             ],
             [
              0.7777777777777778,
              "#fb9f3a"
             ],
             [
              0.8888888888888888,
              "#fdca26"
             ],
             [
              1,
              "#f0f921"
             ]
            ],
            "type": "surface"
           }
          ],
          "table": [
           {
            "cells": {
             "fill": {
              "color": "#EBF0F8"
             },
             "line": {
              "color": "white"
             }
            },
            "header": {
             "fill": {
              "color": "#C8D4E3"
             },
             "line": {
              "color": "white"
             }
            },
            "type": "table"
           }
          ]
         },
         "layout": {
          "annotationdefaults": {
           "arrowcolor": "#2a3f5f",
           "arrowhead": 0,
           "arrowwidth": 1
          },
          "autotypenumbers": "strict",
          "coloraxis": {
           "colorbar": {
            "outlinewidth": 0,
            "ticks": ""
           }
          },
          "colorscale": {
           "diverging": [
            [
             0,
             "#8e0152"
            ],
            [
             0.1,
             "#c51b7d"
            ],
            [
             0.2,
             "#de77ae"
            ],
            [
             0.3,
             "#f1b6da"
            ],
            [
             0.4,
             "#fde0ef"
            ],
            [
             0.5,
             "#f7f7f7"
            ],
            [
             0.6,
             "#e6f5d0"
            ],
            [
             0.7,
             "#b8e186"
            ],
            [
             0.8,
             "#7fbc41"
            ],
            [
             0.9,
             "#4d9221"
            ],
            [
             1,
             "#276419"
            ]
           ],
           "sequential": [
            [
             0,
             "#0d0887"
            ],
            [
             0.1111111111111111,
             "#46039f"
            ],
            [
             0.2222222222222222,
             "#7201a8"
            ],
            [
             0.3333333333333333,
             "#9c179e"
            ],
            [
             0.4444444444444444,
             "#bd3786"
            ],
            [
             0.5555555555555556,
             "#d8576b"
            ],
            [
             0.6666666666666666,
             "#ed7953"
            ],
            [
             0.7777777777777778,
             "#fb9f3a"
            ],
            [
             0.8888888888888888,
             "#fdca26"
            ],
            [
             1,
             "#f0f921"
            ]
           ],
           "sequentialminus": [
            [
             0,
             "#0d0887"
            ],
            [
             0.1111111111111111,
             "#46039f"
            ],
            [
             0.2222222222222222,
             "#7201a8"
            ],
            [
             0.3333333333333333,
             "#9c179e"
            ],
            [
             0.4444444444444444,
             "#bd3786"
            ],
            [
             0.5555555555555556,
             "#d8576b"
            ],
            [
             0.6666666666666666,
             "#ed7953"
            ],
            [
             0.7777777777777778,
             "#fb9f3a"
            ],
            [
             0.8888888888888888,
             "#fdca26"
            ],
            [
             1,
             "#f0f921"
            ]
           ]
          },
          "colorway": [
           "#636efa",
           "#EF553B",
           "#00cc96",
           "#ab63fa",
           "#FFA15A",
           "#19d3f3",
           "#FF6692",
           "#B6E880",
           "#FF97FF",
           "#FECB52"
          ],
          "font": {
           "color": "#2a3f5f"
          },
          "geo": {
           "bgcolor": "white",
           "lakecolor": "white",
           "landcolor": "#E5ECF6",
           "showlakes": true,
           "showland": true,
           "subunitcolor": "white"
          },
          "hoverlabel": {
           "align": "left"
          },
          "hovermode": "closest",
          "mapbox": {
           "style": "light"
          },
          "paper_bgcolor": "white",
          "plot_bgcolor": "#E5ECF6",
          "polar": {
           "angularaxis": {
            "gridcolor": "white",
            "linecolor": "white",
            "ticks": ""
           },
           "bgcolor": "#E5ECF6",
           "radialaxis": {
            "gridcolor": "white",
            "linecolor": "white",
            "ticks": ""
           }
          },
          "scene": {
           "xaxis": {
            "backgroundcolor": "#E5ECF6",
            "gridcolor": "white",
            "gridwidth": 2,
            "linecolor": "white",
            "showbackground": true,
            "ticks": "",
            "zerolinecolor": "white"
           },
           "yaxis": {
            "backgroundcolor": "#E5ECF6",
            "gridcolor": "white",
            "gridwidth": 2,
            "linecolor": "white",
            "showbackground": true,
            "ticks": "",
            "zerolinecolor": "white"
           },
           "zaxis": {
            "backgroundcolor": "#E5ECF6",
            "gridcolor": "white",
            "gridwidth": 2,
            "linecolor": "white",
            "showbackground": true,
            "ticks": "",
            "zerolinecolor": "white"
           }
          },
          "shapedefaults": {
           "line": {
            "color": "#2a3f5f"
           }
          },
          "ternary": {
           "aaxis": {
            "gridcolor": "white",
            "linecolor": "white",
            "ticks": ""
           },
           "baxis": {
            "gridcolor": "white",
            "linecolor": "white",
            "ticks": ""
           },
           "bgcolor": "#E5ECF6",
           "caxis": {
            "gridcolor": "white",
            "linecolor": "white",
            "ticks": ""
           }
          },
          "title": {
           "x": 0.05
          },
          "xaxis": {
           "automargin": true,
           "gridcolor": "white",
           "linecolor": "white",
           "ticks": "",
           "title": {
            "standoff": 15
           },
           "zerolinecolor": "white",
           "zerolinewidth": 2
          },
          "yaxis": {
           "automargin": true,
           "gridcolor": "white",
           "linecolor": "white",
           "ticks": "",
           "title": {
            "standoff": 15
           },
           "zerolinecolor": "white",
           "zerolinewidth": 2
          }
         }
        },
        "xaxis": {
         "anchor": "y",
         "domain": [
          0,
          1
         ],
         "title": {
          "text": "Vitesse du vent (mph)"
         }
        },
        "yaxis": {
         "anchor": "x",
         "domain": [
          0,
          1
         ],
         "title": {
          "text": "Nombre de jours"
         }
        }
       }
      }
     },
     "metadata": {},
     "output_type": "display_data"
    }
   ],
   "source": [
    "from matplotlib.axis import YAxis\n",
    "from matplotlib.pyplot import xlabel, ylabel, yticks\n",
    "\n",
    "\n",
    "fig = px.histogram(weather_db_total, x = 'WINDSPEED_MAX_KMH', color='YEAR', nbins=60, barmode=\"group\")\n",
    "fig.update_layout(\n",
    "    yaxis_title_text = 'Nombre de jours',\n",
    "    xaxis_title_text = 'Vitesse du vent (mph)'\n",
    "    )\n",
    "fig.show()"
   ]
  },
  {
   "cell_type": "markdown",
   "metadata": {},
   "source": [
    "Boxplots pour les précipitations"
   ]
  },
  {
   "cell_type": "code",
   "execution_count": 16,
   "metadata": {},
   "outputs": [
    {
     "data": {
      "application/vnd.plotly.v1+json": {
       "config": {
        "plotlyServerURL": "https://plot.ly"
       },
       "data": [
        {
         "alignmentgroup": "True",
         "hovertemplate": "YEAR=2018<br>PRECIP_TOTAL_DAY_MM=%{y}<extra></extra>",
         "legendgroup": "2018",
         "marker": {
          "color": "#636efa"
         },
         "name": "2018",
         "notched": false,
         "offsetgroup": "2018",
         "orientation": "v",
         "showlegend": true,
         "type": "box",
         "x0": " ",
         "xaxis": "x",
         "y": [
          8.9,
          0.6,
          5.5,
          0,
          1.5,
          0,
          5.9,
          0,
          3.1,
          0.4,
          0,
          0,
          0,
          1.3,
          2.8,
          0,
          0,
          0,
          0.7,
          7.5,
          1.3,
          0,
          0.6,
          2,
          0.7,
          0,
          0,
          0.2,
          0.1,
          0,
          4.7,
          0.2,
          0.1,
          0.8,
          0.7,
          0,
          0.1,
          1.1,
          0,
          3,
          0.3,
          1,
          0.1,
          6.5,
          11.6,
          0,
          1.6,
          3.3,
          3.7,
          1.3,
          0.8,
          0,
          0,
          0,
          0,
          0,
          0,
          0,
          0.3,
          3.1,
          1.8,
          1.9,
          2.6,
          1.6,
          0.6,
          0,
          0.4,
          0.5,
          0.2,
          0.4,
          0.8,
          0,
          8.4,
          0.7,
          1.5,
          0,
          0,
          0.3,
          0,
          0,
          0,
          1.2,
          1.5,
          0.5,
          0.2,
          3.6,
          5.6,
          4,
          3.1,
          2.1,
          0,
          3.2,
          3.9,
          0.8,
          0,
          0,
          4.5,
          3.5,
          1.4,
          1.9,
          1.2,
          2.4,
          2.5,
          1.2,
          0.3,
          0,
          0,
          0,
          0,
          0.5,
          1.9,
          0,
          0,
          0,
          0.2,
          0.1,
          0.5,
          0.3,
          0.7,
          0.3,
          0,
          2.5,
          0,
          0,
          0,
          3.2,
          4.1,
          3.4,
          0,
          0,
          0,
          1.5,
          0.2,
          0,
          0,
          0.6,
          0,
          0,
          0,
          0,
          0.1,
          0,
          1.4,
          1.4,
          1.1,
          8.1,
          0,
          3.2,
          3.3,
          0.5,
          4,
          0,
          1,
          6,
          1.9,
          4.1,
          2.6,
          0.3,
          1.8,
          1.9,
          1.6,
          12.9,
          0,
          0.3,
          0.2,
          0.1,
          0,
          0,
          0.1,
          0,
          0,
          0,
          0,
          0,
          0,
          0,
          0,
          0,
          0,
          0.1,
          0,
          4.7,
          7,
          0.3,
          0,
          1.4,
          0.6,
          0,
          0,
          0,
          0.8,
          0,
          0.2,
          0,
          0,
          0,
          4.1,
          0,
          0,
          0.9,
          0,
          0.6,
          0,
          0.1,
          0,
          0,
          0.3,
          2.5,
          0,
          0.4,
          3.4,
          0.1,
          0,
          0,
          0,
          0,
          0,
          0,
          0.7,
          0.4,
          0.5,
          0.1,
          0,
          0.5,
          0,
          0,
          0,
          0.2,
          0,
          0,
          0,
          0.3,
          0.1,
          0,
          0,
          0,
          0.2,
          0.1,
          0,
          0.4,
          1.1,
          0,
          0,
          0,
          0,
          0,
          0,
          0.6,
          0,
          0,
          0,
          0,
          0,
          0,
          0,
          0,
          0,
          0,
          0,
          0,
          0,
          0,
          0,
          4.8,
          0.1,
          0,
          0,
          0,
          0,
          0,
          0,
          0,
          0,
          0.1,
          0,
          0,
          0,
          0,
          4.4,
          0,
          0,
          0,
          0.7,
          1.8,
          0,
          0,
          1.4,
          1.1,
          0,
          0.5,
          0,
          0,
          0,
          0,
          0,
          0,
          0,
          0,
          0,
          0,
          0.3,
          0,
          0,
          0.3,
          1.3,
          0,
          0,
          0,
          0,
          0.3,
          5.6,
          0,
          5.7,
          1.3,
          6.1,
          2.8,
          0,
          0,
          0,
          0,
          0,
          0,
          0,
          0.1,
          0,
          0.8,
          7.9,
          1.6,
          10.7,
          0,
          5.4,
          1.1,
          1.7,
          0.4,
          15.3,
          3.9,
          0,
          0,
          0.7,
          0.1,
          1.1,
          0.9,
          0,
          0,
          0,
          0.4,
          1.4,
          0,
          3.7,
          1.6,
          0,
          3.5,
          2,
          1.1,
          13,
          0,
          0.7,
          0,
          0,
          0,
          0,
          0,
          0,
          0.1,
          0
         ],
         "y0": " ",
         "yaxis": "y"
        },
        {
         "alignmentgroup": "True",
         "hovertemplate": "YEAR=2019<br>PRECIP_TOTAL_DAY_MM=%{y}<extra></extra>",
         "legendgroup": "2019",
         "marker": {
          "color": "#EF553B"
         },
         "name": "2019",
         "notched": false,
         "offsetgroup": "2019",
         "orientation": "v",
         "showlegend": true,
         "type": "box",
         "x0": " ",
         "xaxis": "x",
         "y": [
          0.2,
          0,
          0,
          0,
          0,
          0,
          0,
          0.2,
          0,
          0.1,
          0.2,
          0,
          0.1,
          0.1,
          0,
          1.3,
          1.2,
          0.1,
          4.4,
          0.2,
          0,
          9.8,
          1.3,
          2.4,
          4.6,
          2.1,
          5.9,
          2.6,
          15.1,
          2,
          4.3,
          7.3,
          1,
          0,
          18.6,
          0.8,
          9.4,
          4,
          1.6,
          6.3,
          29.1,
          0.1,
          0,
          0,
          0,
          0,
          0,
          0,
          0.9,
          2.5,
          0,
          0,
          0,
          0,
          0,
          0,
          0,
          0,
          0.9,
          0,
          4.9,
          5.4,
          11.1,
          1.1,
          47.6,
          3.4,
          0.2,
          5.3,
          1.2,
          0.1,
          4.2,
          0.9,
          0.5,
          1.1,
          0.5,
          5,
          1.1,
          1,
          0.6,
          0.1,
          0,
          0,
          0.1,
          0.1,
          0,
          0,
          0,
          0.1,
          2.5,
          5.3,
          2,
          1.8,
          5.2,
          1.1,
          10.1,
          6.1,
          3,
          1.6,
          0.8,
          1.9,
          0.1,
          0,
          0,
          2.3,
          6.2,
          12.3,
          0,
          0,
          0,
          1.6,
          7.8,
          6,
          2.7,
          18.9,
          4.4,
          2,
          1.4,
          0.4,
          0,
          0,
          6,
          0.4,
          0.5,
          0.6,
          0.3,
          0,
          1.2,
          17.8,
          4.4,
          1.7,
          2,
          0,
          0,
          0,
          0,
          0,
          4.6,
          6,
          3.6,
          7,
          0.8,
          1.8,
          7.5,
          1.6,
          0.5,
          0.5,
          1.4,
          1.2,
          0.2,
          0,
          0,
          0,
          0,
          0.5,
          6.3,
          1.5,
          2.7,
          27.3,
          3.4,
          4,
          2.7,
          3.4,
          5.1,
          2.3,
          0,
          0.6,
          0.3,
          0,
          0,
          0.9,
          0,
          0.5,
          0,
          0,
          14.1,
          0.9,
          0,
          0,
          0,
          0,
          0.7,
          1,
          0,
          0,
          0,
          0.6,
          7.5,
          1.7,
          0,
          0,
          0,
          0,
          0.2,
          0,
          0,
          0,
          0,
          0,
          0,
          0,
          2.1,
          0,
          0,
          0,
          0,
          0.8,
          16.3,
          2.8,
          0,
          1.2,
          6.1,
          0.3,
          0,
          0,
          0,
          0,
          0.1,
          4.4,
          0.1,
          0,
          5.5,
          0.2,
          1.1,
          2.4,
          0,
          0.8,
          0.7,
          0,
          7.3,
          9.9,
          0.5,
          0,
          0,
          0,
          0,
          0,
          0,
          0,
          0.2,
          0,
          0,
          0,
          0,
          0,
          0,
          0,
          0.3,
          0,
          0,
          0.2,
          0,
          8.4,
          7.6,
          0,
          0,
          0,
          0,
          0,
          0,
          0,
          0,
          0,
          0,
          0.2,
          6.9,
          1.4,
          24.1,
          2,
          0.5,
          1.3,
          1.1,
          5.3,
          0.8,
          5.7,
          0.2,
          0.3,
          1.1,
          0.4,
          1.5,
          4.3,
          3.9,
          2.6,
          0.5,
          0,
          0,
          1.6,
          2.7,
          1.2,
          13.1,
          1.3,
          5.3,
          7.7,
          1.2,
          1.1,
          1.5,
          9.9,
          9.5,
          0.8,
          0,
          4.6,
          1.7,
          2.3,
          3.2,
          8.9,
          14.5,
          11,
          30,
          4.2,
          8,
          1.1,
          11.4,
          3.2,
          10.1,
          2.1,
          3.8,
          1.8,
          4.8,
          11.2,
          2.3,
          10.3,
          0,
          0,
          0,
          0,
          16,
          8.5,
          3.8,
          2.7,
          8.6,
          9.7,
          3.8,
          1.9,
          0.1,
          13.7,
          0,
          0,
          0,
          0,
          0,
          0.3,
          0.4,
          9.1,
          0.6,
          0.9,
          5.9,
          18.2,
          2.2,
          4.8,
          5,
          16.1,
          2.6,
          0,
          31,
          35.1,
          16.4,
          3,
          9,
          16.7,
          0,
          0.2,
          0,
          0,
          0,
          0,
          0.1
         ],
         "y0": " ",
         "yaxis": "y"
        }
       ],
       "layout": {
        "boxmode": "group",
        "legend": {
         "title": {
          "text": "YEAR"
         },
         "tracegroupgap": 0
        },
        "margin": {
         "t": 60
        },
        "template": {
         "data": {
          "bar": [
           {
            "error_x": {
             "color": "#2a3f5f"
            },
            "error_y": {
             "color": "#2a3f5f"
            },
            "marker": {
             "line": {
              "color": "#E5ECF6",
              "width": 0.5
             },
             "pattern": {
              "fillmode": "overlay",
              "size": 10,
              "solidity": 0.2
             }
            },
            "type": "bar"
           }
          ],
          "barpolar": [
           {
            "marker": {
             "line": {
              "color": "#E5ECF6",
              "width": 0.5
             },
             "pattern": {
              "fillmode": "overlay",
              "size": 10,
              "solidity": 0.2
             }
            },
            "type": "barpolar"
           }
          ],
          "carpet": [
           {
            "aaxis": {
             "endlinecolor": "#2a3f5f",
             "gridcolor": "white",
             "linecolor": "white",
             "minorgridcolor": "white",
             "startlinecolor": "#2a3f5f"
            },
            "baxis": {
             "endlinecolor": "#2a3f5f",
             "gridcolor": "white",
             "linecolor": "white",
             "minorgridcolor": "white",
             "startlinecolor": "#2a3f5f"
            },
            "type": "carpet"
           }
          ],
          "choropleth": [
           {
            "colorbar": {
             "outlinewidth": 0,
             "ticks": ""
            },
            "type": "choropleth"
           }
          ],
          "contour": [
           {
            "colorbar": {
             "outlinewidth": 0,
             "ticks": ""
            },
            "colorscale": [
             [
              0,
              "#0d0887"
             ],
             [
              0.1111111111111111,
              "#46039f"
             ],
             [
              0.2222222222222222,
              "#7201a8"
             ],
             [
              0.3333333333333333,
              "#9c179e"
             ],
             [
              0.4444444444444444,
              "#bd3786"
             ],
             [
              0.5555555555555556,
              "#d8576b"
             ],
             [
              0.6666666666666666,
              "#ed7953"
             ],
             [
              0.7777777777777778,
              "#fb9f3a"
             ],
             [
              0.8888888888888888,
              "#fdca26"
             ],
             [
              1,
              "#f0f921"
             ]
            ],
            "type": "contour"
           }
          ],
          "contourcarpet": [
           {
            "colorbar": {
             "outlinewidth": 0,
             "ticks": ""
            },
            "type": "contourcarpet"
           }
          ],
          "heatmap": [
           {
            "colorbar": {
             "outlinewidth": 0,
             "ticks": ""
            },
            "colorscale": [
             [
              0,
              "#0d0887"
             ],
             [
              0.1111111111111111,
              "#46039f"
             ],
             [
              0.2222222222222222,
              "#7201a8"
             ],
             [
              0.3333333333333333,
              "#9c179e"
             ],
             [
              0.4444444444444444,
              "#bd3786"
             ],
             [
              0.5555555555555556,
              "#d8576b"
             ],
             [
              0.6666666666666666,
              "#ed7953"
             ],
             [
              0.7777777777777778,
              "#fb9f3a"
             ],
             [
              0.8888888888888888,
              "#fdca26"
             ],
             [
              1,
              "#f0f921"
             ]
            ],
            "type": "heatmap"
           }
          ],
          "heatmapgl": [
           {
            "colorbar": {
             "outlinewidth": 0,
             "ticks": ""
            },
            "colorscale": [
             [
              0,
              "#0d0887"
             ],
             [
              0.1111111111111111,
              "#46039f"
             ],
             [
              0.2222222222222222,
              "#7201a8"
             ],
             [
              0.3333333333333333,
              "#9c179e"
             ],
             [
              0.4444444444444444,
              "#bd3786"
             ],
             [
              0.5555555555555556,
              "#d8576b"
             ],
             [
              0.6666666666666666,
              "#ed7953"
             ],
             [
              0.7777777777777778,
              "#fb9f3a"
             ],
             [
              0.8888888888888888,
              "#fdca26"
             ],
             [
              1,
              "#f0f921"
             ]
            ],
            "type": "heatmapgl"
           }
          ],
          "histogram": [
           {
            "marker": {
             "pattern": {
              "fillmode": "overlay",
              "size": 10,
              "solidity": 0.2
             }
            },
            "type": "histogram"
           }
          ],
          "histogram2d": [
           {
            "colorbar": {
             "outlinewidth": 0,
             "ticks": ""
            },
            "colorscale": [
             [
              0,
              "#0d0887"
             ],
             [
              0.1111111111111111,
              "#46039f"
             ],
             [
              0.2222222222222222,
              "#7201a8"
             ],
             [
              0.3333333333333333,
              "#9c179e"
             ],
             [
              0.4444444444444444,
              "#bd3786"
             ],
             [
              0.5555555555555556,
              "#d8576b"
             ],
             [
              0.6666666666666666,
              "#ed7953"
             ],
             [
              0.7777777777777778,
              "#fb9f3a"
             ],
             [
              0.8888888888888888,
              "#fdca26"
             ],
             [
              1,
              "#f0f921"
             ]
            ],
            "type": "histogram2d"
           }
          ],
          "histogram2dcontour": [
           {
            "colorbar": {
             "outlinewidth": 0,
             "ticks": ""
            },
            "colorscale": [
             [
              0,
              "#0d0887"
             ],
             [
              0.1111111111111111,
              "#46039f"
             ],
             [
              0.2222222222222222,
              "#7201a8"
             ],
             [
              0.3333333333333333,
              "#9c179e"
             ],
             [
              0.4444444444444444,
              "#bd3786"
             ],
             [
              0.5555555555555556,
              "#d8576b"
             ],
             [
              0.6666666666666666,
              "#ed7953"
             ],
             [
              0.7777777777777778,
              "#fb9f3a"
             ],
             [
              0.8888888888888888,
              "#fdca26"
             ],
             [
              1,
              "#f0f921"
             ]
            ],
            "type": "histogram2dcontour"
           }
          ],
          "mesh3d": [
           {
            "colorbar": {
             "outlinewidth": 0,
             "ticks": ""
            },
            "type": "mesh3d"
           }
          ],
          "parcoords": [
           {
            "line": {
             "colorbar": {
              "outlinewidth": 0,
              "ticks": ""
             }
            },
            "type": "parcoords"
           }
          ],
          "pie": [
           {
            "automargin": true,
            "type": "pie"
           }
          ],
          "scatter": [
           {
            "fillpattern": {
             "fillmode": "overlay",
             "size": 10,
             "solidity": 0.2
            },
            "type": "scatter"
           }
          ],
          "scatter3d": [
           {
            "line": {
             "colorbar": {
              "outlinewidth": 0,
              "ticks": ""
             }
            },
            "marker": {
             "colorbar": {
              "outlinewidth": 0,
              "ticks": ""
             }
            },
            "type": "scatter3d"
           }
          ],
          "scattercarpet": [
           {
            "marker": {
             "colorbar": {
              "outlinewidth": 0,
              "ticks": ""
             }
            },
            "type": "scattercarpet"
           }
          ],
          "scattergeo": [
           {
            "marker": {
             "colorbar": {
              "outlinewidth": 0,
              "ticks": ""
             }
            },
            "type": "scattergeo"
           }
          ],
          "scattergl": [
           {
            "marker": {
             "colorbar": {
              "outlinewidth": 0,
              "ticks": ""
             }
            },
            "type": "scattergl"
           }
          ],
          "scattermapbox": [
           {
            "marker": {
             "colorbar": {
              "outlinewidth": 0,
              "ticks": ""
             }
            },
            "type": "scattermapbox"
           }
          ],
          "scatterpolar": [
           {
            "marker": {
             "colorbar": {
              "outlinewidth": 0,
              "ticks": ""
             }
            },
            "type": "scatterpolar"
           }
          ],
          "scatterpolargl": [
           {
            "marker": {
             "colorbar": {
              "outlinewidth": 0,
              "ticks": ""
             }
            },
            "type": "scatterpolargl"
           }
          ],
          "scatterternary": [
           {
            "marker": {
             "colorbar": {
              "outlinewidth": 0,
              "ticks": ""
             }
            },
            "type": "scatterternary"
           }
          ],
          "surface": [
           {
            "colorbar": {
             "outlinewidth": 0,
             "ticks": ""
            },
            "colorscale": [
             [
              0,
              "#0d0887"
             ],
             [
              0.1111111111111111,
              "#46039f"
             ],
             [
              0.2222222222222222,
              "#7201a8"
             ],
             [
              0.3333333333333333,
              "#9c179e"
             ],
             [
              0.4444444444444444,
              "#bd3786"
             ],
             [
              0.5555555555555556,
              "#d8576b"
             ],
             [
              0.6666666666666666,
              "#ed7953"
             ],
             [
              0.7777777777777778,
              "#fb9f3a"
             ],
             [
              0.8888888888888888,
              "#fdca26"
             ],
             [
              1,
              "#f0f921"
             ]
            ],
            "type": "surface"
           }
          ],
          "table": [
           {
            "cells": {
             "fill": {
              "color": "#EBF0F8"
             },
             "line": {
              "color": "white"
             }
            },
            "header": {
             "fill": {
              "color": "#C8D4E3"
             },
             "line": {
              "color": "white"
             }
            },
            "type": "table"
           }
          ]
         },
         "layout": {
          "annotationdefaults": {
           "arrowcolor": "#2a3f5f",
           "arrowhead": 0,
           "arrowwidth": 1
          },
          "autotypenumbers": "strict",
          "coloraxis": {
           "colorbar": {
            "outlinewidth": 0,
            "ticks": ""
           }
          },
          "colorscale": {
           "diverging": [
            [
             0,
             "#8e0152"
            ],
            [
             0.1,
             "#c51b7d"
            ],
            [
             0.2,
             "#de77ae"
            ],
            [
             0.3,
             "#f1b6da"
            ],
            [
             0.4,
             "#fde0ef"
            ],
            [
             0.5,
             "#f7f7f7"
            ],
            [
             0.6,
             "#e6f5d0"
            ],
            [
             0.7,
             "#b8e186"
            ],
            [
             0.8,
             "#7fbc41"
            ],
            [
             0.9,
             "#4d9221"
            ],
            [
             1,
             "#276419"
            ]
           ],
           "sequential": [
            [
             0,
             "#0d0887"
            ],
            [
             0.1111111111111111,
             "#46039f"
            ],
            [
             0.2222222222222222,
             "#7201a8"
            ],
            [
             0.3333333333333333,
             "#9c179e"
            ],
            [
             0.4444444444444444,
             "#bd3786"
            ],
            [
             0.5555555555555556,
             "#d8576b"
            ],
            [
             0.6666666666666666,
             "#ed7953"
            ],
            [
             0.7777777777777778,
             "#fb9f3a"
            ],
            [
             0.8888888888888888,
             "#fdca26"
            ],
            [
             1,
             "#f0f921"
            ]
           ],
           "sequentialminus": [
            [
             0,
             "#0d0887"
            ],
            [
             0.1111111111111111,
             "#46039f"
            ],
            [
             0.2222222222222222,
             "#7201a8"
            ],
            [
             0.3333333333333333,
             "#9c179e"
            ],
            [
             0.4444444444444444,
             "#bd3786"
            ],
            [
             0.5555555555555556,
             "#d8576b"
            ],
            [
             0.6666666666666666,
             "#ed7953"
            ],
            [
             0.7777777777777778,
             "#fb9f3a"
            ],
            [
             0.8888888888888888,
             "#fdca26"
            ],
            [
             1,
             "#f0f921"
            ]
           ]
          },
          "colorway": [
           "#636efa",
           "#EF553B",
           "#00cc96",
           "#ab63fa",
           "#FFA15A",
           "#19d3f3",
           "#FF6692",
           "#B6E880",
           "#FF97FF",
           "#FECB52"
          ],
          "font": {
           "color": "#2a3f5f"
          },
          "geo": {
           "bgcolor": "white",
           "lakecolor": "white",
           "landcolor": "#E5ECF6",
           "showlakes": true,
           "showland": true,
           "subunitcolor": "white"
          },
          "hoverlabel": {
           "align": "left"
          },
          "hovermode": "closest",
          "mapbox": {
           "style": "light"
          },
          "paper_bgcolor": "white",
          "plot_bgcolor": "#E5ECF6",
          "polar": {
           "angularaxis": {
            "gridcolor": "white",
            "linecolor": "white",
            "ticks": ""
           },
           "bgcolor": "#E5ECF6",
           "radialaxis": {
            "gridcolor": "white",
            "linecolor": "white",
            "ticks": ""
           }
          },
          "scene": {
           "xaxis": {
            "backgroundcolor": "#E5ECF6",
            "gridcolor": "white",
            "gridwidth": 2,
            "linecolor": "white",
            "showbackground": true,
            "ticks": "",
            "zerolinecolor": "white"
           },
           "yaxis": {
            "backgroundcolor": "#E5ECF6",
            "gridcolor": "white",
            "gridwidth": 2,
            "linecolor": "white",
            "showbackground": true,
            "ticks": "",
            "zerolinecolor": "white"
           },
           "zaxis": {
            "backgroundcolor": "#E5ECF6",
            "gridcolor": "white",
            "gridwidth": 2,
            "linecolor": "white",
            "showbackground": true,
            "ticks": "",
            "zerolinecolor": "white"
           }
          },
          "shapedefaults": {
           "line": {
            "color": "#2a3f5f"
           }
          },
          "ternary": {
           "aaxis": {
            "gridcolor": "white",
            "linecolor": "white",
            "ticks": ""
           },
           "baxis": {
            "gridcolor": "white",
            "linecolor": "white",
            "ticks": ""
           },
           "bgcolor": "#E5ECF6",
           "caxis": {
            "gridcolor": "white",
            "linecolor": "white",
            "ticks": ""
           }
          },
          "title": {
           "x": 0.05
          },
          "xaxis": {
           "automargin": true,
           "gridcolor": "white",
           "linecolor": "white",
           "ticks": "",
           "title": {
            "standoff": 15
           },
           "zerolinecolor": "white",
           "zerolinewidth": 2
          },
          "yaxis": {
           "automargin": true,
           "gridcolor": "white",
           "linecolor": "white",
           "ticks": "",
           "title": {
            "standoff": 15
           },
           "zerolinecolor": "white",
           "zerolinewidth": 2
          }
         }
        },
        "xaxis": {
         "anchor": "y",
         "domain": [
          0,
          1
         ]
        },
        "yaxis": {
         "anchor": "x",
         "domain": [
          0,
          1
         ],
         "title": {
          "text": "PRECIP_TOTAL_DAY_MM"
         }
        }
       }
      }
     },
     "metadata": {},
     "output_type": "display_data"
    }
   ],
   "source": [
    "fig = px.box(weather_db_total, y='PRECIP_TOTAL_DAY_MM', color='YEAR')\n",
    "fig.show()"
   ]
  },
  {
   "cell_type": "markdown",
   "metadata": {},
   "source": [
    "Scatterplots pour le SUNHOUR et la date"
   ]
  },
  {
   "cell_type": "code",
   "execution_count": 187,
   "metadata": {},
   "outputs": [
    {
     "data": {
      "application/vnd.plotly.v1+json": {
       "config": {
        "plotlyServerURL": "https://plot.ly"
       },
       "data": [
        {
         "hovertemplate": "YEAR=2018<br>DATE=%{x}<br>SUNHOUR=%{y}<extra></extra>",
         "legendgroup": "2018",
         "marker": {
          "color": "#636efa",
          "symbol": "circle"
         },
         "mode": "markers",
         "name": "2018",
         "orientation": "v",
         "showlegend": true,
         "type": "scatter",
         "x": [
          "2018-01-01",
          "2018-01-02",
          "2018-01-03",
          "2018-01-04",
          "2018-01-05",
          "2018-01-06",
          "2018-01-07",
          "2018-01-08",
          "2018-01-09",
          "2018-01-10",
          "2018-01-11",
          "2018-01-12",
          "2018-01-13",
          "2018-01-14",
          "2018-01-15",
          "2018-01-16",
          "2018-01-17",
          "2018-01-18",
          "2018-01-19",
          "2018-01-20",
          "2018-01-21",
          "2018-01-22",
          "2018-01-23",
          "2018-01-24",
          "2018-01-25",
          "2018-01-26",
          "2018-01-27",
          "2018-01-28",
          "2018-01-29",
          "2018-01-30",
          "2018-01-31",
          "2018-02-01",
          "2018-02-02",
          "2018-02-03",
          "2018-02-04",
          "2018-02-05",
          "2018-02-06",
          "2018-02-07",
          "2018-02-08",
          "2018-02-09",
          "2018-02-10",
          "2018-02-11",
          "2018-02-12",
          "2018-02-13",
          "2018-02-14",
          "2018-02-15",
          "2018-02-16",
          "2018-02-17",
          "2018-02-18",
          "2018-02-19",
          "2018-02-20",
          "2018-02-21",
          "2018-02-22",
          "2018-02-23",
          "2018-02-24",
          "2018-02-25",
          "2018-02-26",
          "2018-02-27",
          "2018-02-28",
          "2018-03-01",
          "2018-03-02",
          "2018-03-03",
          "2018-03-04",
          "2018-03-05",
          "2018-03-06",
          "2018-03-07",
          "2018-03-08",
          "2018-03-09",
          "2018-03-10",
          "2018-03-11",
          "2018-03-12",
          "2018-03-13",
          "2018-03-14",
          "2018-03-15",
          "2018-03-16",
          "2018-03-17",
          "2018-03-18",
          "2018-03-19",
          "2018-03-20",
          "2018-03-21",
          "2018-03-22",
          "2018-03-23",
          "2018-03-24",
          "2018-03-25",
          "2018-03-26",
          "2018-03-27",
          "2018-03-28",
          "2018-03-29",
          "2018-03-30",
          "2018-03-31",
          "2018-04-01",
          "2018-04-02",
          "2018-04-03",
          "2018-04-04",
          "2018-04-05",
          "2018-04-06",
          "2018-04-07",
          "2018-04-08",
          "2018-04-09",
          "2018-04-10",
          "2018-04-11",
          "2018-04-12",
          "2018-04-13",
          "2018-04-14",
          "2018-04-15",
          "2018-04-16",
          "2018-04-17",
          "2018-04-18",
          "2018-04-19",
          "2018-04-20",
          "2018-04-21",
          "2018-04-22",
          "2018-04-23",
          "2018-04-24",
          "2018-04-25",
          "2018-04-26",
          "2018-04-27",
          "2018-04-28",
          "2018-04-29",
          "2018-04-30",
          "2018-05-01",
          "2018-05-02",
          "2018-05-03",
          "2018-05-04",
          "2018-05-05",
          "2018-05-06",
          "2018-05-07",
          "2018-05-08",
          "2018-05-09",
          "2018-05-10",
          "2018-05-11",
          "2018-05-12",
          "2018-05-13",
          "2018-05-14",
          "2018-05-15",
          "2018-05-16",
          "2018-05-17",
          "2018-05-18",
          "2018-05-19",
          "2018-05-20",
          "2018-05-21",
          "2018-05-22",
          "2018-05-23",
          "2018-05-24",
          "2018-05-25",
          "2018-05-26",
          "2018-05-27",
          "2018-05-28",
          "2018-05-29",
          "2018-05-30",
          "2018-05-31",
          "2018-06-01",
          "2018-06-02",
          "2018-06-03",
          "2018-06-04",
          "2018-06-05",
          "2018-06-06",
          "2018-06-07",
          "2018-06-08",
          "2018-06-09",
          "2018-06-10",
          "2018-06-11",
          "2018-06-12",
          "2018-06-13",
          "2018-06-14",
          "2018-06-15",
          "2018-06-16",
          "2018-06-17",
          "2018-06-18",
          "2018-06-19",
          "2018-06-20",
          "2018-06-21",
          "2018-06-22",
          "2018-06-23",
          "2018-06-24",
          "2018-06-25",
          "2018-06-26",
          "2018-06-27",
          "2018-06-28",
          "2018-06-29",
          "2018-06-30",
          "2018-07-01",
          "2018-07-02",
          "2018-07-03",
          "2018-07-04",
          "2018-07-05",
          "2018-07-06",
          "2018-07-07",
          "2018-07-08",
          "2018-07-09",
          "2018-07-10",
          "2018-07-11",
          "2018-07-12",
          "2018-07-13",
          "2018-07-14",
          "2018-07-15",
          "2018-07-16",
          "2018-07-17",
          "2018-07-18",
          "2018-07-19",
          "2018-07-20",
          "2018-07-21",
          "2018-07-22",
          "2018-07-23",
          "2018-07-24",
          "2018-07-25",
          "2018-07-26",
          "2018-07-27",
          "2018-07-28",
          "2018-07-29",
          "2018-07-30",
          "2018-07-31",
          "2018-08-01",
          "2018-08-02",
          "2018-08-03",
          "2018-08-04",
          "2018-08-05",
          "2018-08-06",
          "2018-08-07",
          "2018-08-08",
          "2018-08-09",
          "2018-08-10",
          "2018-08-11",
          "2018-08-12",
          "2018-08-13",
          "2018-08-14",
          "2018-08-15",
          "2018-08-16",
          "2018-08-17",
          "2018-08-18",
          "2018-08-19",
          "2018-08-20",
          "2018-08-21",
          "2018-08-22",
          "2018-08-23",
          "2018-08-24",
          "2018-08-25",
          "2018-08-26",
          "2018-08-27",
          "2018-08-28",
          "2018-08-29",
          "2018-08-30",
          "2018-08-31",
          "2018-09-01",
          "2018-09-02",
          "2018-09-03",
          "2018-09-04",
          "2018-09-05",
          "2018-09-06",
          "2018-09-07",
          "2018-09-08",
          "2018-09-09",
          "2018-09-10",
          "2018-09-11",
          "2018-09-12",
          "2018-09-13",
          "2018-09-14",
          "2018-09-15",
          "2018-09-16",
          "2018-09-17",
          "2018-09-18",
          "2018-09-19",
          "2018-09-20",
          "2018-09-21",
          "2018-09-22",
          "2018-09-23",
          "2018-09-24",
          "2018-09-25",
          "2018-09-26",
          "2018-09-27",
          "2018-09-28",
          "2018-09-29",
          "2018-09-30",
          "2018-10-01",
          "2018-10-02",
          "2018-10-03",
          "2018-10-04",
          "2018-10-05",
          "2018-10-06",
          "2018-10-07",
          "2018-10-08",
          "2018-10-09",
          "2018-10-10",
          "2018-10-11",
          "2018-10-12",
          "2018-10-13",
          "2018-10-14",
          "2018-10-15",
          "2018-10-16",
          "2018-10-17",
          "2018-10-18",
          "2018-10-19",
          "2018-10-20",
          "2018-10-21",
          "2018-10-22",
          "2018-10-23",
          "2018-10-24",
          "2018-10-25",
          "2018-10-26",
          "2018-10-27",
          "2018-10-28",
          "2018-10-29",
          "2018-10-30",
          "2018-10-31",
          "2018-11-01",
          "2018-11-02",
          "2018-11-03",
          "2018-11-04",
          "2018-11-05",
          "2018-11-06",
          "2018-11-07",
          "2018-11-08",
          "2018-11-09",
          "2018-11-10",
          "2018-11-11",
          "2018-11-12",
          "2018-11-13",
          "2018-11-14",
          "2018-11-15",
          "2018-11-16",
          "2018-11-17",
          "2018-11-18",
          "2018-11-19",
          "2018-11-20",
          "2018-11-21",
          "2018-11-22",
          "2018-11-23",
          "2018-11-24",
          "2018-11-25",
          "2018-11-26",
          "2018-11-27",
          "2018-11-28",
          "2018-11-29",
          "2018-11-30",
          "2018-12-01",
          "2018-12-02",
          "2018-12-03",
          "2018-12-04",
          "2018-12-05",
          "2018-12-06",
          "2018-12-07",
          "2018-12-08",
          "2018-12-09",
          "2018-12-10",
          "2018-12-11",
          "2018-12-12",
          "2018-12-13",
          "2018-12-14",
          "2018-12-15",
          "2018-12-16",
          "2018-12-17",
          "2018-12-18",
          "2018-12-19",
          "2018-12-20",
          "2018-12-21",
          "2018-12-22",
          "2018-12-23",
          "2018-12-24",
          "2018-12-25",
          "2018-12-26",
          "2018-12-27",
          "2018-12-28",
          "2018-12-29",
          "2018-12-30",
          "2018-12-31"
         ],
         "xaxis": "x",
         "y": [
          5.1,
          3.3,
          3.3,
          3.3,
          6.9,
          3.3,
          3.3,
          5.1,
          5.1,
          8.7,
          8.7,
          8.7,
          3.3,
          5.1,
          3.4,
          3.4,
          8.7,
          3.4,
          3.4,
          3.4,
          3.4,
          3.4,
          5.2,
          5.2,
          6.9,
          8.7,
          9.6,
          4.8,
          4.8,
          6.5,
          6.6,
          9.8,
          9.8,
          8.3,
          4.9,
          9.9,
          6.6,
          6.6,
          10,
          9.9,
          5,
          8.3,
          10.1,
          8.3,
          5.1,
          5.1,
          10,
          10,
          5.1,
          5.2,
          5.2,
          10.4,
          10.8,
          10.8,
          10.9,
          10.9,
          11,
          11,
          7,
          5.5,
          10.1,
          11.1,
          10.1,
          7.1,
          8.6,
          11.6,
          10.2,
          10.2,
          11.6,
          7.3,
          8.8,
          10.2,
          7.4,
          8.8,
          8.8,
          6,
          10.2,
          8.8,
          10.2,
          8.8,
          7.5,
          6.1,
          11.6,
          10.2,
          10.3,
          6.4,
          9,
          6.4,
          7.7,
          11.6,
          7.7,
          7.8,
          9,
          7.8,
          9.1,
          9.1,
          6.6,
          6.6,
          6.6,
          9.1,
          7.9,
          7.9,
          11.6,
          10.4,
          10.4,
          11.6,
          11.6,
          11.6,
          11.6,
          11.6,
          11.6,
          11.6,
          9.3,
          11.6,
          12.2,
          13.4,
          10.2,
          14.5,
          9.2,
          9.2,
          14.5,
          9.2,
          14.5,
          14.5,
          14.5,
          14.5,
          14.5,
          13.5,
          14.5,
          12.4,
          13.5,
          11.4,
          14.5,
          13.5,
          13.5,
          14.5,
          13.5,
          12.5,
          14.5,
          14.5,
          14.5,
          14.5,
          14.5,
          11.5,
          11.5,
          12.5,
          14.5,
          13.5,
          13.5,
          11.6,
          9.6,
          11.6,
          11.6,
          11.6,
          11.6,
          9.7,
          9.7,
          11.6,
          15.9,
          15.9,
          15.9,
          11.9,
          15.6,
          12.9,
          12.9,
          14.7,
          14.7,
          12.9,
          12.9,
          13.8,
          16,
          16,
          16,
          16,
          16,
          16,
          16,
          15.9,
          15.9,
          15.9,
          15.9,
          15.9,
          15.9,
          15.6,
          14.7,
          14.7,
          15.9,
          15.9,
          15.8,
          15.8,
          15.8,
          15.8,
          15.8,
          15.8,
          14.5,
          14.5,
          14.5,
          14.5,
          14.5,
          11.5,
          14.5,
          11.5,
          14.5,
          12.5,
          14.5,
          14.5,
          14.5,
          13.5,
          13.5,
          10.4,
          10.4,
          14.5,
          14.5,
          14.5,
          14.5,
          14.5,
          14.5,
          14.5,
          13.4,
          13.4,
          13.4,
          13.4,
          14.5,
          12.4,
          14.2,
          11.6,
          11.6,
          10.5,
          11.6,
          11.6,
          11.6,
          9.3,
          10.4,
          11.6,
          11.6,
          11.6,
          10.4,
          10.4,
          10.4,
          11.6,
          10.4,
          10.4,
          11.6,
          11.6,
          11.6,
          11.6,
          11.6,
          11.6,
          10.3,
          10.3,
          11.6,
          11.6,
          11.6,
          11.6,
          11.6,
          6.4,
          11.6,
          11.6,
          10.3,
          11.6,
          9,
          9,
          10.3,
          11.6,
          7.6,
          6.2,
          10.2,
          10.2,
          11.6,
          11.6,
          11.5,
          11.5,
          11.4,
          11.4,
          7.2,
          10.1,
          11.3,
          11.3,
          8.6,
          5.6,
          11.2,
          11.1,
          10.1,
          10.1,
          11,
          11,
          8.5,
          7,
          10.9,
          10.1,
          10.8,
          10.8,
          10.8,
          10.8,
          8.5,
          10.7,
          10.7,
          10.6,
          3.8,
          7.1,
          5.4,
          3.8,
          8.7,
          5.4,
          7.1,
          8.7,
          8.7,
          8.7,
          3.7,
          3.7,
          8.7,
          8.7,
          8.7,
          8.7,
          5.2,
          5.2,
          8.7,
          8.7,
          8.7,
          8.7,
          8.7,
          8.7,
          8.7,
          5.2,
          8.7,
          3.4,
          3.4,
          8.7,
          3.4,
          6.9,
          3.4,
          5.1,
          5.1,
          8.7,
          3.3,
          3.3,
          3.3,
          5.1,
          6.9,
          3.3,
          5.1,
          3.3,
          8.7,
          8.7,
          8.7,
          5.1,
          8.7,
          8.7,
          3.3,
          6.9,
          6.9,
          5.1,
          5.1,
          6.9,
          3.3,
          3.3,
          3.3,
          6.9,
          8.7,
          8.7,
          8.7,
          8.7,
          8.7,
          3.3,
          8.7
         ],
         "yaxis": "y"
        },
        {
         "hovertemplate": "YEAR=2019<br>DATE=%{x}<br>SUNHOUR=%{y}<extra></extra>",
         "legendgroup": "2019",
         "marker": {
          "color": "#EF553B",
          "symbol": "circle"
         },
         "mode": "markers",
         "name": "2019",
         "orientation": "v",
         "showlegend": true,
         "type": "scatter",
         "x": [
          "2019-01-01",
          "2019-01-02",
          "2019-01-03",
          "2019-01-04",
          "2019-01-05",
          "2019-01-06",
          "2019-01-07",
          "2019-01-08",
          "2019-01-09",
          "2019-01-10",
          "2019-01-11",
          "2019-01-12",
          "2019-01-13",
          "2019-01-14",
          "2019-01-15",
          "2019-01-16",
          "2019-01-17",
          "2019-01-18",
          "2019-01-19",
          "2019-01-20",
          "2019-01-21",
          "2019-01-22",
          "2019-01-23",
          "2019-01-24",
          "2019-01-25",
          "2019-01-26",
          "2019-01-27",
          "2019-01-28",
          "2019-01-29",
          "2019-01-30",
          "2019-01-31",
          "2019-02-01",
          "2019-02-02",
          "2019-02-03",
          "2019-02-04",
          "2019-02-05",
          "2019-02-06",
          "2019-02-07",
          "2019-02-08",
          "2019-02-09",
          "2019-02-10",
          "2019-02-11",
          "2019-02-12",
          "2019-02-13",
          "2019-02-14",
          "2019-02-15",
          "2019-02-16",
          "2019-02-17",
          "2019-02-18",
          "2019-02-19",
          "2019-02-20",
          "2019-02-21",
          "2019-02-22",
          "2019-02-23",
          "2019-02-24",
          "2019-02-25",
          "2019-02-26",
          "2019-02-27",
          "2019-02-28",
          "2019-03-01",
          "2019-03-02",
          "2019-03-03",
          "2019-03-04",
          "2019-03-05",
          "2019-03-06",
          "2019-03-07",
          "2019-03-08",
          "2019-03-09",
          "2019-03-10",
          "2019-03-11",
          "2019-03-12",
          "2019-03-13",
          "2019-03-14",
          "2019-03-15",
          "2019-03-16",
          "2019-03-17",
          "2019-03-18",
          "2019-03-19",
          "2019-03-20",
          "2019-03-21",
          "2019-03-22",
          "2019-03-23",
          "2019-03-24",
          "2019-03-25",
          "2019-03-26",
          "2019-03-27",
          "2019-03-28",
          "2019-03-29",
          "2019-03-30",
          "2019-03-31",
          "2019-04-01",
          "2019-04-02",
          "2019-04-03",
          "2019-04-04",
          "2019-04-05",
          "2019-04-06",
          "2019-04-07",
          "2019-04-08",
          "2019-04-09",
          "2019-04-10",
          "2019-04-11",
          "2019-04-12",
          "2019-04-13",
          "2019-04-14",
          "2019-04-15",
          "2019-04-16",
          "2019-04-17",
          "2019-04-18",
          "2019-04-19",
          "2019-04-20",
          "2019-04-21",
          "2019-04-22",
          "2019-04-23",
          "2019-04-24",
          "2019-04-25",
          "2019-04-26",
          "2019-04-27",
          "2019-04-28",
          "2019-04-29",
          "2019-04-30",
          "2019-05-01",
          "2019-05-02",
          "2019-05-03",
          "2019-05-04",
          "2019-05-05",
          "2019-05-06",
          "2019-05-07",
          "2019-05-08",
          "2019-05-09",
          "2019-05-10",
          "2019-05-11",
          "2019-05-12",
          "2019-05-13",
          "2019-05-14",
          "2019-05-15",
          "2019-05-16",
          "2019-05-17",
          "2019-05-18",
          "2019-05-19",
          "2019-05-20",
          "2019-05-21",
          "2019-05-22",
          "2019-05-23",
          "2019-05-24",
          "2019-05-25",
          "2019-05-26",
          "2019-05-27",
          "2019-05-28",
          "2019-05-29",
          "2019-05-30",
          "2019-05-31",
          "2019-06-01",
          "2019-06-02",
          "2019-06-03",
          "2019-06-04",
          "2019-06-05",
          "2019-06-06",
          "2019-06-07",
          "2019-06-08",
          "2019-06-09",
          "2019-06-10",
          "2019-06-11",
          "2019-06-12",
          "2019-06-13",
          "2019-06-14",
          "2019-06-15",
          "2019-06-16",
          "2019-06-17",
          "2019-06-18",
          "2019-06-19",
          "2019-06-20",
          "2019-06-21",
          "2019-06-22",
          "2019-06-23",
          "2019-06-24",
          "2019-06-25",
          "2019-06-26",
          "2019-06-27",
          "2019-06-28",
          "2019-06-29",
          "2019-06-30",
          "2019-07-01",
          "2019-07-02",
          "2019-07-03",
          "2019-07-04",
          "2019-07-05",
          "2019-07-06",
          "2019-07-07",
          "2019-07-08",
          "2019-07-09",
          "2019-07-10",
          "2019-07-11",
          "2019-07-12",
          "2019-07-13",
          "2019-07-14",
          "2019-07-15",
          "2019-07-16",
          "2019-07-17",
          "2019-07-18",
          "2019-07-19",
          "2019-07-20",
          "2019-07-21",
          "2019-07-22",
          "2019-07-23",
          "2019-07-24",
          "2019-07-25",
          "2019-07-26",
          "2019-07-27",
          "2019-07-28",
          "2019-07-29",
          "2019-07-30",
          "2019-07-31",
          "2019-08-01",
          "2019-08-02",
          "2019-08-03",
          "2019-08-04",
          "2019-08-05",
          "2019-08-06",
          "2019-08-07",
          "2019-08-08",
          "2019-08-09",
          "2019-08-10",
          "2019-08-11",
          "2019-08-12",
          "2019-08-13",
          "2019-08-14",
          "2019-08-15",
          "2019-08-16",
          "2019-08-17",
          "2019-08-18",
          "2019-08-19",
          "2019-08-20",
          "2019-08-21",
          "2019-08-22",
          "2019-08-23",
          "2019-08-24",
          "2019-08-25",
          "2019-08-26",
          "2019-08-27",
          "2019-08-28",
          "2019-08-29",
          "2019-08-30",
          "2019-08-31",
          "2019-09-01",
          "2019-09-02",
          "2019-09-03",
          "2019-09-04",
          "2019-09-05",
          "2019-09-06",
          "2019-09-07",
          "2019-09-08",
          "2019-09-09",
          "2019-09-10",
          "2019-09-11",
          "2019-09-12",
          "2019-09-13",
          "2019-09-14",
          "2019-09-15",
          "2019-09-16",
          "2019-09-17",
          "2019-09-18",
          "2019-09-19",
          "2019-09-20",
          "2019-09-21",
          "2019-09-22",
          "2019-09-23",
          "2019-09-24",
          "2019-09-25",
          "2019-09-26",
          "2019-09-27",
          "2019-09-28",
          "2019-09-29",
          "2019-09-30",
          "2019-10-01",
          "2019-10-02",
          "2019-10-03",
          "2019-10-04",
          "2019-10-05",
          "2019-10-06",
          "2019-10-07",
          "2019-10-08",
          "2019-10-09",
          "2019-10-10",
          "2019-10-11",
          "2019-10-12",
          "2019-10-13",
          "2019-10-14",
          "2019-10-15",
          "2019-10-16",
          "2019-10-17",
          "2019-10-18",
          "2019-10-19",
          "2019-10-20",
          "2019-10-21",
          "2019-10-22",
          "2019-10-23",
          "2019-10-24",
          "2019-10-25",
          "2019-10-26",
          "2019-10-27",
          "2019-10-28",
          "2019-10-29",
          "2019-10-30",
          "2019-10-31",
          "2019-11-01",
          "2019-11-02",
          "2019-11-03",
          "2019-11-04",
          "2019-11-05",
          "2019-11-06",
          "2019-11-07",
          "2019-11-08",
          "2019-11-09",
          "2019-11-10",
          "2019-11-11",
          "2019-11-12",
          "2019-11-13",
          "2019-11-14",
          "2019-11-15",
          "2019-11-16",
          "2019-11-17",
          "2019-11-18",
          "2019-11-19",
          "2019-11-20",
          "2019-11-21",
          "2019-11-22",
          "2019-11-23",
          "2019-11-24",
          "2019-11-25",
          "2019-11-26",
          "2019-11-27",
          "2019-11-28",
          "2019-11-29",
          "2019-11-30",
          "2019-12-01",
          "2019-12-02",
          "2019-12-03",
          "2019-12-04",
          "2019-12-05",
          "2019-12-06",
          "2019-12-07",
          "2019-12-08",
          "2019-12-09",
          "2019-12-10",
          "2019-12-11",
          "2019-12-12",
          "2019-12-13",
          "2019-12-14",
          "2019-12-15",
          "2019-12-16",
          "2019-12-17",
          "2019-12-18",
          "2019-12-19",
          "2019-12-20",
          "2019-12-21",
          "2019-12-22",
          "2019-12-23",
          "2019-12-24",
          "2019-12-25",
          "2019-12-26",
          "2019-12-27",
          "2019-12-28",
          "2019-12-29",
          "2019-12-30",
          "2019-12-31"
         ],
         "xaxis": "x",
         "y": [
          5.1,
          8.7,
          8.7,
          5.1,
          8.7,
          3.3,
          5.1,
          3.3,
          3.3,
          8.7,
          5.1,
          6.9,
          3.3,
          3.3,
          8.7,
          3.4,
          8.7,
          8.7,
          3.4,
          5.2,
          8.7,
          3.4,
          5.2,
          5.2,
          3.4,
          3.5,
          8.2,
          6.5,
          4.8,
          6.5,
          4.9,
          4.9,
          9.8,
          9.8,
          4.9,
          4.9,
          5,
          6.6,
          5,
          6.6,
          8.3,
          8.3,
          10.1,
          10.1,
          10.2,
          10.2,
          8.4,
          10.2,
          6.8,
          5.2,
          10,
          10.4,
          10.4,
          10.8,
          8.5,
          10.9,
          10.9,
          11,
          5.5,
          10.1,
          10.1,
          5.6,
          8.6,
          10.1,
          5.6,
          8.7,
          10.2,
          5.9,
          7.3,
          10.2,
          7.3,
          11.6,
          5.9,
          6,
          6,
          11.6,
          8.8,
          7.4,
          7.4,
          11.6,
          11.6,
          11.6,
          10.2,
          8.9,
          11.6,
          11.6,
          10.3,
          9,
          10.3,
          10.3,
          9,
          6.5,
          7.8,
          7.8,
          6.5,
          6.5,
          7.8,
          9.1,
          10.3,
          7.9,
          11.6,
          11.6,
          11.6,
          7.9,
          9.1,
          11.6,
          10.4,
          11.6,
          11.6,
          9.3,
          9.3,
          9.3,
          8.2,
          7,
          9.3,
          13.4,
          10.2,
          9.1,
          10.2,
          14.5,
          12.4,
          12.4,
          11.3,
          11.3,
          13.4,
          11.4,
          10.3,
          11.4,
          9.3,
          9.3,
          11.4,
          14.5,
          14.5,
          14.5,
          14.5,
          10.4,
          11.5,
          9.5,
          10.5,
          9.5,
          12.5,
          11.5,
          13.5,
          13.5,
          11.5,
          9.6,
          12.5,
          11.5,
          10.6,
          11.6,
          14.5,
          14.5,
          13.5,
          12.6,
          9.7,
          9.7,
          11.6,
          9.7,
          13.7,
          13.8,
          14.7,
          13.8,
          12.9,
          14.7,
          15.9,
          13.8,
          14.7,
          16,
          16,
          12.9,
          16,
          14.7,
          16,
          16,
          12.9,
          16,
          16,
          15.9,
          15.9,
          15.9,
          15.6,
          15.9,
          15.9,
          15.9,
          15.9,
          15.9,
          14.6,
          15.9,
          15.8,
          15.8,
          15.8,
          15.8,
          13.7,
          15.8,
          14.5,
          14.5,
          13.5,
          14.5,
          10.5,
          13.5,
          11.5,
          14.5,
          14.5,
          14.5,
          14.5,
          13.5,
          9.4,
          10.4,
          14.5,
          13.5,
          10.4,
          13.5,
          14.5,
          14.5,
          14.5,
          14.5,
          11.4,
          9.3,
          12.4,
          14.5,
          11.3,
          11.3,
          12.4,
          9.2,
          13.4,
          7.1,
          9.3,
          11.6,
          7.1,
          9.3,
          10.5,
          11.6,
          9.3,
          11.6,
          11.6,
          10.4,
          11.6,
          10.4,
          10.4,
          9.1,
          9.1,
          10.4,
          11.6,
          11.6,
          11.6,
          11.6,
          7.8,
          9.1,
          11.6,
          10.3,
          11.6,
          7.8,
          11.6,
          11.6,
          10.3,
          11.6,
          11.6,
          11.6,
          11.6,
          11.6,
          11.6,
          11.6,
          11.6,
          10.3,
          7.6,
          6.2,
          7.6,
          6,
          6,
          8.8,
          5.8,
          7.2,
          5.7,
          5.7,
          5.7,
          11.4,
          7.1,
          5.6,
          11.3,
          5.6,
          7.1,
          7.1,
          8.6,
          10.1,
          11.1,
          8.6,
          7,
          8.5,
          5.5,
          7,
          8.5,
          5.4,
          5.4,
          10,
          10.7,
          5.3,
          5.3,
          6.9,
          10.6,
          3.8,
          3.8,
          3.8,
          5.4,
          3.8,
          3.8,
          3.7,
          3.7,
          5.4,
          3.7,
          7,
          3.7,
          7,
          3.5,
          5.2,
          5.2,
          5.2,
          5.2,
          7,
          7,
          3.5,
          8.7,
          8.7,
          6.9,
          5.2,
          3.4,
          3.4,
          6.9,
          5.2,
          3.4,
          3.4,
          3.4,
          3.3,
          6.9,
          3.3,
          3.3,
          8.7,
          8.7,
          6.9,
          8.7,
          3.3,
          3.3,
          3.3,
          5.1,
          3.3,
          8.7,
          3.3,
          3.3,
          3.3,
          6.9,
          3.3,
          3.3,
          5.1,
          3.3,
          5.1,
          6.9,
          5.1,
          6.9,
          8.7,
          8.7,
          5.1,
          8.7,
          6.9,
          8.7,
          8.7,
          8.7
         ],
         "yaxis": "y"
        }
       ],
       "layout": {
        "legend": {
         "title": {
          "text": "YEAR"
         },
         "tracegroupgap": 0
        },
        "margin": {
         "t": 60
        },
        "template": {
         "data": {
          "bar": [
           {
            "error_x": {
             "color": "#2a3f5f"
            },
            "error_y": {
             "color": "#2a3f5f"
            },
            "marker": {
             "line": {
              "color": "#E5ECF6",
              "width": 0.5
             },
             "pattern": {
              "fillmode": "overlay",
              "size": 10,
              "solidity": 0.2
             }
            },
            "type": "bar"
           }
          ],
          "barpolar": [
           {
            "marker": {
             "line": {
              "color": "#E5ECF6",
              "width": 0.5
             },
             "pattern": {
              "fillmode": "overlay",
              "size": 10,
              "solidity": 0.2
             }
            },
            "type": "barpolar"
           }
          ],
          "carpet": [
           {
            "aaxis": {
             "endlinecolor": "#2a3f5f",
             "gridcolor": "white",
             "linecolor": "white",
             "minorgridcolor": "white",
             "startlinecolor": "#2a3f5f"
            },
            "baxis": {
             "endlinecolor": "#2a3f5f",
             "gridcolor": "white",
             "linecolor": "white",
             "minorgridcolor": "white",
             "startlinecolor": "#2a3f5f"
            },
            "type": "carpet"
           }
          ],
          "choropleth": [
           {
            "colorbar": {
             "outlinewidth": 0,
             "ticks": ""
            },
            "type": "choropleth"
           }
          ],
          "contour": [
           {
            "colorbar": {
             "outlinewidth": 0,
             "ticks": ""
            },
            "colorscale": [
             [
              0,
              "#0d0887"
             ],
             [
              0.1111111111111111,
              "#46039f"
             ],
             [
              0.2222222222222222,
              "#7201a8"
             ],
             [
              0.3333333333333333,
              "#9c179e"
             ],
             [
              0.4444444444444444,
              "#bd3786"
             ],
             [
              0.5555555555555556,
              "#d8576b"
             ],
             [
              0.6666666666666666,
              "#ed7953"
             ],
             [
              0.7777777777777778,
              "#fb9f3a"
             ],
             [
              0.8888888888888888,
              "#fdca26"
             ],
             [
              1,
              "#f0f921"
             ]
            ],
            "type": "contour"
           }
          ],
          "contourcarpet": [
           {
            "colorbar": {
             "outlinewidth": 0,
             "ticks": ""
            },
            "type": "contourcarpet"
           }
          ],
          "heatmap": [
           {
            "colorbar": {
             "outlinewidth": 0,
             "ticks": ""
            },
            "colorscale": [
             [
              0,
              "#0d0887"
             ],
             [
              0.1111111111111111,
              "#46039f"
             ],
             [
              0.2222222222222222,
              "#7201a8"
             ],
             [
              0.3333333333333333,
              "#9c179e"
             ],
             [
              0.4444444444444444,
              "#bd3786"
             ],
             [
              0.5555555555555556,
              "#d8576b"
             ],
             [
              0.6666666666666666,
              "#ed7953"
             ],
             [
              0.7777777777777778,
              "#fb9f3a"
             ],
             [
              0.8888888888888888,
              "#fdca26"
             ],
             [
              1,
              "#f0f921"
             ]
            ],
            "type": "heatmap"
           }
          ],
          "heatmapgl": [
           {
            "colorbar": {
             "outlinewidth": 0,
             "ticks": ""
            },
            "colorscale": [
             [
              0,
              "#0d0887"
             ],
             [
              0.1111111111111111,
              "#46039f"
             ],
             [
              0.2222222222222222,
              "#7201a8"
             ],
             [
              0.3333333333333333,
              "#9c179e"
             ],
             [
              0.4444444444444444,
              "#bd3786"
             ],
             [
              0.5555555555555556,
              "#d8576b"
             ],
             [
              0.6666666666666666,
              "#ed7953"
             ],
             [
              0.7777777777777778,
              "#fb9f3a"
             ],
             [
              0.8888888888888888,
              "#fdca26"
             ],
             [
              1,
              "#f0f921"
             ]
            ],
            "type": "heatmapgl"
           }
          ],
          "histogram": [
           {
            "marker": {
             "pattern": {
              "fillmode": "overlay",
              "size": 10,
              "solidity": 0.2
             }
            },
            "type": "histogram"
           }
          ],
          "histogram2d": [
           {
            "colorbar": {
             "outlinewidth": 0,
             "ticks": ""
            },
            "colorscale": [
             [
              0,
              "#0d0887"
             ],
             [
              0.1111111111111111,
              "#46039f"
             ],
             [
              0.2222222222222222,
              "#7201a8"
             ],
             [
              0.3333333333333333,
              "#9c179e"
             ],
             [
              0.4444444444444444,
              "#bd3786"
             ],
             [
              0.5555555555555556,
              "#d8576b"
             ],
             [
              0.6666666666666666,
              "#ed7953"
             ],
             [
              0.7777777777777778,
              "#fb9f3a"
             ],
             [
              0.8888888888888888,
              "#fdca26"
             ],
             [
              1,
              "#f0f921"
             ]
            ],
            "type": "histogram2d"
           }
          ],
          "histogram2dcontour": [
           {
            "colorbar": {
             "outlinewidth": 0,
             "ticks": ""
            },
            "colorscale": [
             [
              0,
              "#0d0887"
             ],
             [
              0.1111111111111111,
              "#46039f"
             ],
             [
              0.2222222222222222,
              "#7201a8"
             ],
             [
              0.3333333333333333,
              "#9c179e"
             ],
             [
              0.4444444444444444,
              "#bd3786"
             ],
             [
              0.5555555555555556,
              "#d8576b"
             ],
             [
              0.6666666666666666,
              "#ed7953"
             ],
             [
              0.7777777777777778,
              "#fb9f3a"
             ],
             [
              0.8888888888888888,
              "#fdca26"
             ],
             [
              1,
              "#f0f921"
             ]
            ],
            "type": "histogram2dcontour"
           }
          ],
          "mesh3d": [
           {
            "colorbar": {
             "outlinewidth": 0,
             "ticks": ""
            },
            "type": "mesh3d"
           }
          ],
          "parcoords": [
           {
            "line": {
             "colorbar": {
              "outlinewidth": 0,
              "ticks": ""
             }
            },
            "type": "parcoords"
           }
          ],
          "pie": [
           {
            "automargin": true,
            "type": "pie"
           }
          ],
          "scatter": [
           {
            "fillpattern": {
             "fillmode": "overlay",
             "size": 10,
             "solidity": 0.2
            },
            "type": "scatter"
           }
          ],
          "scatter3d": [
           {
            "line": {
             "colorbar": {
              "outlinewidth": 0,
              "ticks": ""
             }
            },
            "marker": {
             "colorbar": {
              "outlinewidth": 0,
              "ticks": ""
             }
            },
            "type": "scatter3d"
           }
          ],
          "scattercarpet": [
           {
            "marker": {
             "colorbar": {
              "outlinewidth": 0,
              "ticks": ""
             }
            },
            "type": "scattercarpet"
           }
          ],
          "scattergeo": [
           {
            "marker": {
             "colorbar": {
              "outlinewidth": 0,
              "ticks": ""
             }
            },
            "type": "scattergeo"
           }
          ],
          "scattergl": [
           {
            "marker": {
             "colorbar": {
              "outlinewidth": 0,
              "ticks": ""
             }
            },
            "type": "scattergl"
           }
          ],
          "scattermapbox": [
           {
            "marker": {
             "colorbar": {
              "outlinewidth": 0,
              "ticks": ""
             }
            },
            "type": "scattermapbox"
           }
          ],
          "scatterpolar": [
           {
            "marker": {
             "colorbar": {
              "outlinewidth": 0,
              "ticks": ""
             }
            },
            "type": "scatterpolar"
           }
          ],
          "scatterpolargl": [
           {
            "marker": {
             "colorbar": {
              "outlinewidth": 0,
              "ticks": ""
             }
            },
            "type": "scatterpolargl"
           }
          ],
          "scatterternary": [
           {
            "marker": {
             "colorbar": {
              "outlinewidth": 0,
              "ticks": ""
             }
            },
            "type": "scatterternary"
           }
          ],
          "surface": [
           {
            "colorbar": {
             "outlinewidth": 0,
             "ticks": ""
            },
            "colorscale": [
             [
              0,
              "#0d0887"
             ],
             [
              0.1111111111111111,
              "#46039f"
             ],
             [
              0.2222222222222222,
              "#7201a8"
             ],
             [
              0.3333333333333333,
              "#9c179e"
             ],
             [
              0.4444444444444444,
              "#bd3786"
             ],
             [
              0.5555555555555556,
              "#d8576b"
             ],
             [
              0.6666666666666666,
              "#ed7953"
             ],
             [
              0.7777777777777778,
              "#fb9f3a"
             ],
             [
              0.8888888888888888,
              "#fdca26"
             ],
             [
              1,
              "#f0f921"
             ]
            ],
            "type": "surface"
           }
          ],
          "table": [
           {
            "cells": {
             "fill": {
              "color": "#EBF0F8"
             },
             "line": {
              "color": "white"
             }
            },
            "header": {
             "fill": {
              "color": "#C8D4E3"
             },
             "line": {
              "color": "white"
             }
            },
            "type": "table"
           }
          ]
         },
         "layout": {
          "annotationdefaults": {
           "arrowcolor": "#2a3f5f",
           "arrowhead": 0,
           "arrowwidth": 1
          },
          "autotypenumbers": "strict",
          "coloraxis": {
           "colorbar": {
            "outlinewidth": 0,
            "ticks": ""
           }
          },
          "colorscale": {
           "diverging": [
            [
             0,
             "#8e0152"
            ],
            [
             0.1,
             "#c51b7d"
            ],
            [
             0.2,
             "#de77ae"
            ],
            [
             0.3,
             "#f1b6da"
            ],
            [
             0.4,
             "#fde0ef"
            ],
            [
             0.5,
             "#f7f7f7"
            ],
            [
             0.6,
             "#e6f5d0"
            ],
            [
             0.7,
             "#b8e186"
            ],
            [
             0.8,
             "#7fbc41"
            ],
            [
             0.9,
             "#4d9221"
            ],
            [
             1,
             "#276419"
            ]
           ],
           "sequential": [
            [
             0,
             "#0d0887"
            ],
            [
             0.1111111111111111,
             "#46039f"
            ],
            [
             0.2222222222222222,
             "#7201a8"
            ],
            [
             0.3333333333333333,
             "#9c179e"
            ],
            [
             0.4444444444444444,
             "#bd3786"
            ],
            [
             0.5555555555555556,
             "#d8576b"
            ],
            [
             0.6666666666666666,
             "#ed7953"
            ],
            [
             0.7777777777777778,
             "#fb9f3a"
            ],
            [
             0.8888888888888888,
             "#fdca26"
            ],
            [
             1,
             "#f0f921"
            ]
           ],
           "sequentialminus": [
            [
             0,
             "#0d0887"
            ],
            [
             0.1111111111111111,
             "#46039f"
            ],
            [
             0.2222222222222222,
             "#7201a8"
            ],
            [
             0.3333333333333333,
             "#9c179e"
            ],
            [
             0.4444444444444444,
             "#bd3786"
            ],
            [
             0.5555555555555556,
             "#d8576b"
            ],
            [
             0.6666666666666666,
             "#ed7953"
            ],
            [
             0.7777777777777778,
             "#fb9f3a"
            ],
            [
             0.8888888888888888,
             "#fdca26"
            ],
            [
             1,
             "#f0f921"
            ]
           ]
          },
          "colorway": [
           "#636efa",
           "#EF553B",
           "#00cc96",
           "#ab63fa",
           "#FFA15A",
           "#19d3f3",
           "#FF6692",
           "#B6E880",
           "#FF97FF",
           "#FECB52"
          ],
          "font": {
           "color": "#2a3f5f"
          },
          "geo": {
           "bgcolor": "white",
           "lakecolor": "white",
           "landcolor": "#E5ECF6",
           "showlakes": true,
           "showland": true,
           "subunitcolor": "white"
          },
          "hoverlabel": {
           "align": "left"
          },
          "hovermode": "closest",
          "mapbox": {
           "style": "light"
          },
          "paper_bgcolor": "white",
          "plot_bgcolor": "#E5ECF6",
          "polar": {
           "angularaxis": {
            "gridcolor": "white",
            "linecolor": "white",
            "ticks": ""
           },
           "bgcolor": "#E5ECF6",
           "radialaxis": {
            "gridcolor": "white",
            "linecolor": "white",
            "ticks": ""
           }
          },
          "scene": {
           "xaxis": {
            "backgroundcolor": "#E5ECF6",
            "gridcolor": "white",
            "gridwidth": 2,
            "linecolor": "white",
            "showbackground": true,
            "ticks": "",
            "zerolinecolor": "white"
           },
           "yaxis": {
            "backgroundcolor": "#E5ECF6",
            "gridcolor": "white",
            "gridwidth": 2,
            "linecolor": "white",
            "showbackground": true,
            "ticks": "",
            "zerolinecolor": "white"
           },
           "zaxis": {
            "backgroundcolor": "#E5ECF6",
            "gridcolor": "white",
            "gridwidth": 2,
            "linecolor": "white",
            "showbackground": true,
            "ticks": "",
            "zerolinecolor": "white"
           }
          },
          "shapedefaults": {
           "line": {
            "color": "#2a3f5f"
           }
          },
          "ternary": {
           "aaxis": {
            "gridcolor": "white",
            "linecolor": "white",
            "ticks": ""
           },
           "baxis": {
            "gridcolor": "white",
            "linecolor": "white",
            "ticks": ""
           },
           "bgcolor": "#E5ECF6",
           "caxis": {
            "gridcolor": "white",
            "linecolor": "white",
            "ticks": ""
           }
          },
          "title": {
           "x": 0.05
          },
          "xaxis": {
           "automargin": true,
           "gridcolor": "white",
           "linecolor": "white",
           "ticks": "",
           "title": {
            "standoff": 15
           },
           "zerolinecolor": "white",
           "zerolinewidth": 2
          },
          "yaxis": {
           "automargin": true,
           "gridcolor": "white",
           "linecolor": "white",
           "ticks": "",
           "title": {
            "standoff": 15
           },
           "zerolinecolor": "white",
           "zerolinewidth": 2
          }
         }
        },
        "xaxis": {
         "anchor": "y",
         "domain": [
          0,
          1
         ],
         "title": {
          "text": "DATE"
         }
        },
        "yaxis": {
         "anchor": "x",
         "domain": [
          0,
          1
         ],
         "title": {
          "text": "SUNHOUR"
         }
        }
       }
      }
     },
     "metadata": {},
     "output_type": "display_data"
    }
   ],
   "source": [
    "fig = px.scatter(weather_db_total, y = 'SUNHOUR', x ='DATE',  color='YEAR')\n",
    "fig.show()"
   ]
  },
  {
   "cell_type": "markdown",
   "metadata": {},
   "source": [
    "Violinplots pour la température maximale"
   ]
  },
  {
   "cell_type": "code",
   "execution_count": 14,
   "metadata": {},
   "outputs": [
    {
     "data": {
      "application/vnd.plotly.v1+json": {
       "config": {
        "plotlyServerURL": "https://plot.ly"
       },
       "data": [
        {
         "alignmentgroup": "True",
         "box": {
          "visible": false
         },
         "hovertemplate": "YEAR=2018<br>MAX_TEMPERATURE_C=%{y}<extra></extra>",
         "legendgroup": "2018",
         "marker": {
          "color": "#636efa"
         },
         "name": "2018",
         "offsetgroup": "2018",
         "orientation": "v",
         "scalegroup": "True",
         "showlegend": true,
         "type": "violin",
         "x0": " ",
         "xaxis": "x",
         "y": [
          12,
          13,
          15,
          14,
          12,
          9,
          9,
          9,
          11,
          11,
          10,
          8,
          7,
          9,
          12,
          12,
          10,
          12,
          10,
          13,
          13,
          13,
          15,
          13,
          10,
          10,
          9,
          12,
          12,
          12,
          11,
          8,
          8,
          9,
          5,
          4,
          5,
          4,
          6,
          7,
          9,
          11,
          7,
          8,
          12,
          12,
          9,
          10,
          9,
          11,
          12,
          8,
          7,
          6,
          7,
          6,
          2,
          1,
          1,
          10,
          8,
          12,
          11,
          12,
          10,
          11,
          13,
          14,
          15,
          13,
          11,
          12,
          14,
          12,
          11,
          9,
          9,
          6,
          7,
          7,
          7,
          12,
          12,
          14,
          12,
          13,
          12,
          10,
          10,
          10,
          11,
          15,
          14,
          13,
          12,
          18,
          13,
          12,
          14,
          13,
          15,
          17,
          16,
          16,
          15,
          14,
          19,
          24,
          23,
          25,
          24,
          21,
          16,
          16,
          15,
          15,
          14,
          14,
          10,
          10,
          12,
          12,
          15,
          17,
          21,
          24,
          25,
          21,
          16,
          14,
          18,
          12,
          13,
          17,
          20,
          21,
          19,
          19,
          19,
          20,
          23,
          21,
          22,
          23,
          20,
          23,
          22,
          23,
          21,
          21,
          19,
          20,
          23,
          24,
          21,
          21,
          19,
          21,
          24,
          25,
          22,
          17,
          21,
          20,
          18,
          19,
          18,
          19,
          20,
          22,
          28,
          22,
          20,
          22,
          23,
          25,
          27,
          28,
          27,
          27,
          30,
          29,
          24,
          24,
          25,
          22,
          25,
          27,
          29,
          27,
          27,
          23,
          24,
          26,
          28,
          28,
          26,
          23,
          26,
          24,
          23,
          23,
          25,
          27,
          29,
          29,
          29,
          24,
          22,
          22,
          24,
          23,
          25,
          30,
          33,
          31,
          31,
          32,
          29,
          23,
          20,
          21,
          25,
          24,
          23,
          23,
          26,
          25,
          22,
          24,
          26,
          25,
          26,
          28,
          23,
          20,
          21,
          22,
          24,
          29,
          20,
          21,
          22,
          26,
          25,
          26,
          25,
          24,
          23,
          21,
          26,
          27,
          25,
          26,
          26,
          20,
          21,
          23,
          24,
          27,
          24,
          23,
          24,
          19,
          20,
          20,
          18,
          19,
          24,
          26,
          25,
          20,
          19,
          17,
          16,
          20,
          23,
          24,
          20,
          16,
          19,
          23,
          20,
          20,
          23,
          24,
          23,
          16,
          19,
          17,
          21,
          20,
          19,
          19,
          18,
          17,
          20,
          19,
          14,
          11,
          10,
          8,
          12,
          12,
          14,
          13,
          12,
          13,
          16,
          16,
          15,
          13,
          15,
          15,
          14,
          14,
          15,
          15,
          17,
          16,
          10,
          9,
          6,
          5,
          7,
          12,
          9,
          12,
          8,
          9,
          12,
          13,
          15,
          13,
          14,
          15,
          15,
          14,
          14,
          14,
          13,
          14,
          13,
          11,
          9,
          6,
          3,
          4,
          13,
          12,
          12,
          11,
          10,
          12,
          14,
          14,
          14,
          13,
          10,
          7,
          7,
          7,
          7,
          9,
          9
         ],
         "y0": " ",
         "yaxis": "y"
        },
        {
         "alignmentgroup": "True",
         "box": {
          "visible": false
         },
         "hovertemplate": "YEAR=2019<br>MAX_TEMPERATURE_C=%{y}<extra></extra>",
         "legendgroup": "2019",
         "marker": {
          "color": "#EF553B"
         },
         "name": "2019",
         "offsetgroup": "2019",
         "orientation": "v",
         "scalegroup": "True",
         "showlegend": true,
         "type": "violin",
         "x0": " ",
         "xaxis": "x",
         "y": [
          9,
          8,
          6,
          5,
          6,
          5,
          10,
          10,
          7,
          7,
          10,
          9,
          10,
          10,
          9,
          8,
          9,
          7,
          11,
          7,
          7,
          8,
          7,
          7,
          11,
          10,
          8,
          8,
          9,
          7,
          8,
          9,
          7,
          8,
          7,
          10,
          12,
          11,
          11,
          12,
          11,
          10,
          12,
          10,
          13,
          15,
          14,
          15,
          12,
          12,
          13,
          17,
          17,
          18,
          14,
          15,
          19,
          20,
          13,
          14,
          13,
          14,
          11,
          13,
          12,
          11,
          12,
          13,
          12,
          11,
          11,
          10,
          11,
          13,
          11,
          11,
          11,
          12,
          13,
          15,
          18,
          17,
          13,
          12,
          12,
          13,
          14,
          16,
          17,
          19,
          18,
          12,
          10,
          10,
          10,
          10,
          14,
          12,
          16,
          14,
          14,
          14,
          12,
          9,
          14,
          15,
          19,
          21,
          24,
          21,
          21,
          19,
          18,
          14,
          13,
          14,
          13,
          12,
          16,
          18,
          17,
          15,
          15,
          11,
          12,
          15,
          14,
          15,
          15,
          15,
          16,
          16,
          16,
          18,
          18,
          17,
          17,
          14,
          17,
          18,
          20,
          21,
          21,
          20,
          19,
          17,
          19,
          15,
          15,
          20,
          25,
          29,
          23,
          20,
          19,
          16,
          18,
          15,
          18,
          16,
          17,
          15,
          16,
          18,
          19,
          18,
          19,
          25,
          28,
          20,
          20,
          20,
          23,
          27,
          23,
          26,
          31,
          34,
          34,
          32,
          26,
          24,
          25,
          26,
          28,
          30,
          31,
          28,
          27,
          25,
          28,
          26,
          26,
          27,
          26,
          26,
          29,
          27,
          22,
          26,
          25,
          26,
          33,
          39,
          33,
          32,
          22,
          23,
          23,
          24,
          21,
          23,
          27,
          29,
          29,
          26,
          25,
          23,
          25,
          28,
          23,
          23,
          23,
          22,
          22,
          20,
          22,
          22,
          19,
          21,
          21,
          23,
          26,
          28,
          30,
          33,
          30,
          33,
          29,
          24,
          25,
          30,
          23,
          23,
          24,
          26,
          20,
          19,
          23,
          22,
          21,
          17,
          22,
          22,
          24,
          28,
          29,
          31,
          21,
          27,
          23,
          23,
          27,
          28,
          21,
          20,
          20,
          17,
          19,
          19,
          19,
          20,
          21,
          19,
          19,
          19,
          17,
          18,
          18,
          14,
          18,
          16,
          18,
          20,
          21,
          20,
          20,
          16,
          16,
          17,
          16,
          16,
          15,
          16,
          16,
          15,
          14,
          18,
          19,
          15,
          12,
          14,
          17,
          16,
          17,
          14,
          14,
          13,
          12,
          13,
          11,
          11,
          10,
          11,
          11,
          11,
          9,
          11,
          8,
          9,
          8,
          10,
          9,
          7,
          11,
          10,
          12,
          12,
          13,
          14,
          13,
          13,
          13,
          9,
          7,
          7,
          7,
          8,
          7,
          11,
          13,
          13,
          11,
          11,
          9,
          12,
          10,
          12,
          10,
          11,
          12,
          12,
          13,
          12,
          11,
          10,
          10,
          14,
          11,
          12,
          13,
          11,
          9,
          12,
          10
         ],
         "y0": " ",
         "yaxis": "y"
        }
       ],
       "layout": {
        "legend": {
         "title": {
          "text": "YEAR"
         },
         "tracegroupgap": 0
        },
        "margin": {
         "t": 60
        },
        "template": {
         "data": {
          "bar": [
           {
            "error_x": {
             "color": "#2a3f5f"
            },
            "error_y": {
             "color": "#2a3f5f"
            },
            "marker": {
             "line": {
              "color": "#E5ECF6",
              "width": 0.5
             },
             "pattern": {
              "fillmode": "overlay",
              "size": 10,
              "solidity": 0.2
             }
            },
            "type": "bar"
           }
          ],
          "barpolar": [
           {
            "marker": {
             "line": {
              "color": "#E5ECF6",
              "width": 0.5
             },
             "pattern": {
              "fillmode": "overlay",
              "size": 10,
              "solidity": 0.2
             }
            },
            "type": "barpolar"
           }
          ],
          "carpet": [
           {
            "aaxis": {
             "endlinecolor": "#2a3f5f",
             "gridcolor": "white",
             "linecolor": "white",
             "minorgridcolor": "white",
             "startlinecolor": "#2a3f5f"
            },
            "baxis": {
             "endlinecolor": "#2a3f5f",
             "gridcolor": "white",
             "linecolor": "white",
             "minorgridcolor": "white",
             "startlinecolor": "#2a3f5f"
            },
            "type": "carpet"
           }
          ],
          "choropleth": [
           {
            "colorbar": {
             "outlinewidth": 0,
             "ticks": ""
            },
            "type": "choropleth"
           }
          ],
          "contour": [
           {
            "colorbar": {
             "outlinewidth": 0,
             "ticks": ""
            },
            "colorscale": [
             [
              0,
              "#0d0887"
             ],
             [
              0.1111111111111111,
              "#46039f"
             ],
             [
              0.2222222222222222,
              "#7201a8"
             ],
             [
              0.3333333333333333,
              "#9c179e"
             ],
             [
              0.4444444444444444,
              "#bd3786"
             ],
             [
              0.5555555555555556,
              "#d8576b"
             ],
             [
              0.6666666666666666,
              "#ed7953"
             ],
             [
              0.7777777777777778,
              "#fb9f3a"
             ],
             [
              0.8888888888888888,
              "#fdca26"
             ],
             [
              1,
              "#f0f921"
             ]
            ],
            "type": "contour"
           }
          ],
          "contourcarpet": [
           {
            "colorbar": {
             "outlinewidth": 0,
             "ticks": ""
            },
            "type": "contourcarpet"
           }
          ],
          "heatmap": [
           {
            "colorbar": {
             "outlinewidth": 0,
             "ticks": ""
            },
            "colorscale": [
             [
              0,
              "#0d0887"
             ],
             [
              0.1111111111111111,
              "#46039f"
             ],
             [
              0.2222222222222222,
              "#7201a8"
             ],
             [
              0.3333333333333333,
              "#9c179e"
             ],
             [
              0.4444444444444444,
              "#bd3786"
             ],
             [
              0.5555555555555556,
              "#d8576b"
             ],
             [
              0.6666666666666666,
              "#ed7953"
             ],
             [
              0.7777777777777778,
              "#fb9f3a"
             ],
             [
              0.8888888888888888,
              "#fdca26"
             ],
             [
              1,
              "#f0f921"
             ]
            ],
            "type": "heatmap"
           }
          ],
          "heatmapgl": [
           {
            "colorbar": {
             "outlinewidth": 0,
             "ticks": ""
            },
            "colorscale": [
             [
              0,
              "#0d0887"
             ],
             [
              0.1111111111111111,
              "#46039f"
             ],
             [
              0.2222222222222222,
              "#7201a8"
             ],
             [
              0.3333333333333333,
              "#9c179e"
             ],
             [
              0.4444444444444444,
              "#bd3786"
             ],
             [
              0.5555555555555556,
              "#d8576b"
             ],
             [
              0.6666666666666666,
              "#ed7953"
             ],
             [
              0.7777777777777778,
              "#fb9f3a"
             ],
             [
              0.8888888888888888,
              "#fdca26"
             ],
             [
              1,
              "#f0f921"
             ]
            ],
            "type": "heatmapgl"
           }
          ],
          "histogram": [
           {
            "marker": {
             "pattern": {
              "fillmode": "overlay",
              "size": 10,
              "solidity": 0.2
             }
            },
            "type": "histogram"
           }
          ],
          "histogram2d": [
           {
            "colorbar": {
             "outlinewidth": 0,
             "ticks": ""
            },
            "colorscale": [
             [
              0,
              "#0d0887"
             ],
             [
              0.1111111111111111,
              "#46039f"
             ],
             [
              0.2222222222222222,
              "#7201a8"
             ],
             [
              0.3333333333333333,
              "#9c179e"
             ],
             [
              0.4444444444444444,
              "#bd3786"
             ],
             [
              0.5555555555555556,
              "#d8576b"
             ],
             [
              0.6666666666666666,
              "#ed7953"
             ],
             [
              0.7777777777777778,
              "#fb9f3a"
             ],
             [
              0.8888888888888888,
              "#fdca26"
             ],
             [
              1,
              "#f0f921"
             ]
            ],
            "type": "histogram2d"
           }
          ],
          "histogram2dcontour": [
           {
            "colorbar": {
             "outlinewidth": 0,
             "ticks": ""
            },
            "colorscale": [
             [
              0,
              "#0d0887"
             ],
             [
              0.1111111111111111,
              "#46039f"
             ],
             [
              0.2222222222222222,
              "#7201a8"
             ],
             [
              0.3333333333333333,
              "#9c179e"
             ],
             [
              0.4444444444444444,
              "#bd3786"
             ],
             [
              0.5555555555555556,
              "#d8576b"
             ],
             [
              0.6666666666666666,
              "#ed7953"
             ],
             [
              0.7777777777777778,
              "#fb9f3a"
             ],
             [
              0.8888888888888888,
              "#fdca26"
             ],
             [
              1,
              "#f0f921"
             ]
            ],
            "type": "histogram2dcontour"
           }
          ],
          "mesh3d": [
           {
            "colorbar": {
             "outlinewidth": 0,
             "ticks": ""
            },
            "type": "mesh3d"
           }
          ],
          "parcoords": [
           {
            "line": {
             "colorbar": {
              "outlinewidth": 0,
              "ticks": ""
             }
            },
            "type": "parcoords"
           }
          ],
          "pie": [
           {
            "automargin": true,
            "type": "pie"
           }
          ],
          "scatter": [
           {
            "fillpattern": {
             "fillmode": "overlay",
             "size": 10,
             "solidity": 0.2
            },
            "type": "scatter"
           }
          ],
          "scatter3d": [
           {
            "line": {
             "colorbar": {
              "outlinewidth": 0,
              "ticks": ""
             }
            },
            "marker": {
             "colorbar": {
              "outlinewidth": 0,
              "ticks": ""
             }
            },
            "type": "scatter3d"
           }
          ],
          "scattercarpet": [
           {
            "marker": {
             "colorbar": {
              "outlinewidth": 0,
              "ticks": ""
             }
            },
            "type": "scattercarpet"
           }
          ],
          "scattergeo": [
           {
            "marker": {
             "colorbar": {
              "outlinewidth": 0,
              "ticks": ""
             }
            },
            "type": "scattergeo"
           }
          ],
          "scattergl": [
           {
            "marker": {
             "colorbar": {
              "outlinewidth": 0,
              "ticks": ""
             }
            },
            "type": "scattergl"
           }
          ],
          "scattermapbox": [
           {
            "marker": {
             "colorbar": {
              "outlinewidth": 0,
              "ticks": ""
             }
            },
            "type": "scattermapbox"
           }
          ],
          "scatterpolar": [
           {
            "marker": {
             "colorbar": {
              "outlinewidth": 0,
              "ticks": ""
             }
            },
            "type": "scatterpolar"
           }
          ],
          "scatterpolargl": [
           {
            "marker": {
             "colorbar": {
              "outlinewidth": 0,
              "ticks": ""
             }
            },
            "type": "scatterpolargl"
           }
          ],
          "scatterternary": [
           {
            "marker": {
             "colorbar": {
              "outlinewidth": 0,
              "ticks": ""
             }
            },
            "type": "scatterternary"
           }
          ],
          "surface": [
           {
            "colorbar": {
             "outlinewidth": 0,
             "ticks": ""
            },
            "colorscale": [
             [
              0,
              "#0d0887"
             ],
             [
              0.1111111111111111,
              "#46039f"
             ],
             [
              0.2222222222222222,
              "#7201a8"
             ],
             [
              0.3333333333333333,
              "#9c179e"
             ],
             [
              0.4444444444444444,
              "#bd3786"
             ],
             [
              0.5555555555555556,
              "#d8576b"
             ],
             [
              0.6666666666666666,
              "#ed7953"
             ],
             [
              0.7777777777777778,
              "#fb9f3a"
             ],
             [
              0.8888888888888888,
              "#fdca26"
             ],
             [
              1,
              "#f0f921"
             ]
            ],
            "type": "surface"
           }
          ],
          "table": [
           {
            "cells": {
             "fill": {
              "color": "#EBF0F8"
             },
             "line": {
              "color": "white"
             }
            },
            "header": {
             "fill": {
              "color": "#C8D4E3"
             },
             "line": {
              "color": "white"
             }
            },
            "type": "table"
           }
          ]
         },
         "layout": {
          "annotationdefaults": {
           "arrowcolor": "#2a3f5f",
           "arrowhead": 0,
           "arrowwidth": 1
          },
          "autotypenumbers": "strict",
          "coloraxis": {
           "colorbar": {
            "outlinewidth": 0,
            "ticks": ""
           }
          },
          "colorscale": {
           "diverging": [
            [
             0,
             "#8e0152"
            ],
            [
             0.1,
             "#c51b7d"
            ],
            [
             0.2,
             "#de77ae"
            ],
            [
             0.3,
             "#f1b6da"
            ],
            [
             0.4,
             "#fde0ef"
            ],
            [
             0.5,
             "#f7f7f7"
            ],
            [
             0.6,
             "#e6f5d0"
            ],
            [
             0.7,
             "#b8e186"
            ],
            [
             0.8,
             "#7fbc41"
            ],
            [
             0.9,
             "#4d9221"
            ],
            [
             1,
             "#276419"
            ]
           ],
           "sequential": [
            [
             0,
             "#0d0887"
            ],
            [
             0.1111111111111111,
             "#46039f"
            ],
            [
             0.2222222222222222,
             "#7201a8"
            ],
            [
             0.3333333333333333,
             "#9c179e"
            ],
            [
             0.4444444444444444,
             "#bd3786"
            ],
            [
             0.5555555555555556,
             "#d8576b"
            ],
            [
             0.6666666666666666,
             "#ed7953"
            ],
            [
             0.7777777777777778,
             "#fb9f3a"
            ],
            [
             0.8888888888888888,
             "#fdca26"
            ],
            [
             1,
             "#f0f921"
            ]
           ],
           "sequentialminus": [
            [
             0,
             "#0d0887"
            ],
            [
             0.1111111111111111,
             "#46039f"
            ],
            [
             0.2222222222222222,
             "#7201a8"
            ],
            [
             0.3333333333333333,
             "#9c179e"
            ],
            [
             0.4444444444444444,
             "#bd3786"
            ],
            [
             0.5555555555555556,
             "#d8576b"
            ],
            [
             0.6666666666666666,
             "#ed7953"
            ],
            [
             0.7777777777777778,
             "#fb9f3a"
            ],
            [
             0.8888888888888888,
             "#fdca26"
            ],
            [
             1,
             "#f0f921"
            ]
           ]
          },
          "colorway": [
           "#636efa",
           "#EF553B",
           "#00cc96",
           "#ab63fa",
           "#FFA15A",
           "#19d3f3",
           "#FF6692",
           "#B6E880",
           "#FF97FF",
           "#FECB52"
          ],
          "font": {
           "color": "#2a3f5f"
          },
          "geo": {
           "bgcolor": "white",
           "lakecolor": "white",
           "landcolor": "#E5ECF6",
           "showlakes": true,
           "showland": true,
           "subunitcolor": "white"
          },
          "hoverlabel": {
           "align": "left"
          },
          "hovermode": "closest",
          "mapbox": {
           "style": "light"
          },
          "paper_bgcolor": "white",
          "plot_bgcolor": "#E5ECF6",
          "polar": {
           "angularaxis": {
            "gridcolor": "white",
            "linecolor": "white",
            "ticks": ""
           },
           "bgcolor": "#E5ECF6",
           "radialaxis": {
            "gridcolor": "white",
            "linecolor": "white",
            "ticks": ""
           }
          },
          "scene": {
           "xaxis": {
            "backgroundcolor": "#E5ECF6",
            "gridcolor": "white",
            "gridwidth": 2,
            "linecolor": "white",
            "showbackground": true,
            "ticks": "",
            "zerolinecolor": "white"
           },
           "yaxis": {
            "backgroundcolor": "#E5ECF6",
            "gridcolor": "white",
            "gridwidth": 2,
            "linecolor": "white",
            "showbackground": true,
            "ticks": "",
            "zerolinecolor": "white"
           },
           "zaxis": {
            "backgroundcolor": "#E5ECF6",
            "gridcolor": "white",
            "gridwidth": 2,
            "linecolor": "white",
            "showbackground": true,
            "ticks": "",
            "zerolinecolor": "white"
           }
          },
          "shapedefaults": {
           "line": {
            "color": "#2a3f5f"
           }
          },
          "ternary": {
           "aaxis": {
            "gridcolor": "white",
            "linecolor": "white",
            "ticks": ""
           },
           "baxis": {
            "gridcolor": "white",
            "linecolor": "white",
            "ticks": ""
           },
           "bgcolor": "#E5ECF6",
           "caxis": {
            "gridcolor": "white",
            "linecolor": "white",
            "ticks": ""
           }
          },
          "title": {
           "x": 0.05
          },
          "xaxis": {
           "automargin": true,
           "gridcolor": "white",
           "linecolor": "white",
           "ticks": "",
           "title": {
            "standoff": 15
           },
           "zerolinecolor": "white",
           "zerolinewidth": 2
          },
          "yaxis": {
           "automargin": true,
           "gridcolor": "white",
           "linecolor": "white",
           "ticks": "",
           "title": {
            "standoff": 15
           },
           "zerolinecolor": "white",
           "zerolinewidth": 2
          }
         }
        },
        "violinmode": "group",
        "xaxis": {
         "anchor": "y",
         "domain": [
          0,
          1
         ]
        },
        "yaxis": {
         "anchor": "x",
         "domain": [
          0,
          1
         ],
         "title": {
          "text": "MAX_TEMPERATURE_C"
         }
        }
       }
      }
     },
     "metadata": {},
     "output_type": "display_data"
    }
   ],
   "source": [
    "fig = px.violin(weather_db_total, y = 'MAX_TEMPERATURE_C',  color='YEAR')\n",
    "fig.show()"
   ]
  },
  {
   "cell_type": "markdown",
   "metadata": {},
   "source": [
    "Bonus en cours. Créer une seule vue pour les 4 graph. Tentive d'utilisation de plotly. A poursuivre...."
   ]
  },
  {
   "cell_type": "code",
   "execution_count": 22,
   "metadata": {},
   "outputs": [
    {
     "data": {
      "application/vnd.plotly.v1+json": {
       "config": {
        "plotlyServerURL": "https://plot.ly"
       },
       "data": [
        {
         "name": "2018",
         "type": "histogram",
         "x": [
          61,
          26,
          40,
          45,
          21,
          8,
          40,
          26,
          20,
          13,
          10,
          9,
          20,
          11,
          40,
          32,
          25,
          36,
          23,
          42,
          32,
          39,
          25,
          35,
          15,
          16,
          13,
          14,
          15,
          13,
          34,
          17,
          18,
          25,
          30,
          26,
          19,
          22,
          7,
          29,
          23,
          23,
          14,
          41,
          39,
          18,
          16,
          16,
          13,
          13,
          27,
          20,
          19,
          20,
          18,
          27,
          31,
          26,
          35,
          27,
          39,
          35,
          28,
          29,
          25,
          26,
          23,
          27,
          25,
          35,
          40,
          14,
          33,
          35,
          23,
          14,
          18,
          25,
          29,
          15,
          15,
          21,
          18,
          13,
          21,
          30,
          30,
          29,
          30,
          28,
          21,
          21,
          30,
          39,
          12,
          22,
          14,
          10,
          8,
          13,
          14,
          6,
          8,
          17,
          29,
          18,
          18,
          21,
          12,
          9,
          12,
          21,
          8,
          17,
          27,
          15,
          38,
          10,
          23,
          20,
          19,
          30,
          15,
          17,
          16,
          12,
          7,
          20,
          17,
          17,
          23,
          19,
          18,
          27,
          21,
          17,
          19,
          15,
          16,
          14,
          13,
          17,
          13,
          8,
          8,
          14,
          18,
          10,
          16,
          21,
          22,
          13,
          5,
          16,
          4,
          8,
          14,
          14,
          11,
          16,
          12,
          17,
          22,
          10,
          18,
          16,
          20,
          21,
          11,
          9,
          12,
          24,
          26,
          22,
          19,
          22,
          23,
          17,
          21,
          24,
          15,
          9,
          16,
          21,
          15,
          19,
          8,
          7,
          15,
          21,
          12,
          17,
          14,
          10,
          13,
          10,
          22,
          10,
          8,
          14,
          18,
          11,
          13,
          5,
          15,
          8,
          18,
          10,
          23,
          32,
          27,
          14,
          9,
          13,
          12,
          14,
          13,
          14,
          27,
          11,
          23,
          22,
          10,
          23,
          22,
          15,
          5,
          17,
          17,
          9,
          15,
          8,
          9,
          13,
          18,
          21,
          14,
          23,
          13,
          9,
          17,
          16,
          8,
          9,
          17,
          13,
          15,
          16,
          21,
          11,
          10,
          13,
          12,
          12,
          12,
          15,
          12,
          13,
          7,
          21,
          20,
          23,
          26,
          21,
          32,
          30,
          23,
          26,
          17,
          12,
          18,
          20,
          16,
          21,
          18,
          13,
          16,
          12,
          30,
          33,
          13,
          14,
          27,
          29,
          28,
          28,
          30,
          5,
          12,
          9,
          23,
          19,
          19,
          16,
          28,
          16,
          12,
          10,
          15,
          17,
          33,
          21,
          11,
          14,
          14,
          9,
          12,
          15,
          15,
          22,
          35,
          27,
          27,
          30,
          23,
          19,
          12,
          16,
          17,
          15,
          21,
          27,
          26,
          10,
          18,
          16,
          18,
          18,
          24,
          13,
          26,
          29,
          29,
          18,
          35,
          33,
          37,
          8,
          21,
          19,
          39,
          37,
          34,
          10,
          11,
          13,
          23,
          12,
          29,
          23,
          15,
          35,
          20,
          20,
          40,
          18,
          24,
          6,
          14,
          12,
          6,
          8,
          6,
          6,
          10
         ],
         "xaxis": "x",
         "yaxis": "y"
        },
        {
         "name": "2019",
         "type": "histogram",
         "x": [
          10,
          18,
          18,
          15,
          8,
          7,
          9,
          18,
          18,
          14,
          10,
          12,
          19,
          14,
          3,
          15,
          18,
          16,
          12,
          16,
          8,
          18,
          25,
          8,
          12,
          21,
          38,
          14,
          24,
          20,
          30,
          17,
          30,
          10,
          32,
          9,
          26,
          24,
          28,
          29,
          40,
          20,
          7,
          15,
          14,
          12,
          14,
          23,
          15,
          9,
          10,
          8,
          14,
          10,
          14,
          14,
          10,
          11,
          26,
          14,
          23,
          36,
          46,
          28,
          28,
          28,
          22,
          23,
          31,
          20,
          36,
          31,
          38,
          30,
          28,
          34,
          17,
          5,
          6,
          15,
          8,
          10,
          19,
          21,
          18,
          19,
          19,
          15,
          13,
          9,
          13,
          30,
          17,
          25,
          24,
          16,
          24,
          15,
          6,
          17,
          17,
          12,
          16,
          14,
          28,
          18,
          26,
          16,
          8,
          21,
          11,
          24,
          22,
          30,
          33,
          32,
          29,
          17,
          11,
          10,
          9,
          19,
          17,
          26,
          17,
          9,
          13,
          37,
          27,
          23,
          18,
          19,
          27,
          29,
          26,
          21,
          16,
          9,
          16,
          16,
          13,
          7,
          9,
          20,
          15,
          15,
          17,
          23,
          18,
          17,
          5,
          9,
          17,
          14,
          25,
          15,
          16,
          42,
          27,
          14,
          23,
          15,
          23,
          21,
          16,
          28,
          17,
          8,
          19,
          26,
          15,
          13,
          15,
          16,
          21,
          9,
          23,
          18,
          13,
          18,
          10,
          17,
          18,
          26,
          24,
          20,
          8,
          12,
          19,
          25,
          9,
          21,
          13,
          15,
          21,
          14,
          7,
          18,
          22,
          18,
          28,
          17,
          6,
          27,
          13,
          23,
          13,
          17,
          22,
          29,
          32,
          19,
          8,
          15,
          12,
          19,
          24,
          17,
          22,
          18,
          37,
          32,
          25,
          28,
          21,
          27,
          21,
          24,
          23,
          24,
          19,
          11,
          13,
          13,
          19,
          14,
          13,
          9,
          20,
          20,
          9,
          8,
          24,
          14,
          14,
          9,
          17,
          20,
          14,
          18,
          16,
          15,
          19,
          17,
          11,
          16,
          21,
          14,
          15,
          20,
          31,
          33,
          27,
          27,
          33,
          24,
          34,
          25,
          31,
          31,
          24,
          41,
          19,
          35,
          14,
          17,
          25,
          16,
          24,
          19,
          17,
          32,
          18,
          22,
          21,
          28,
          33,
          28,
          38,
          27,
          28,
          12,
          16,
          12,
          21,
          22,
          19,
          24,
          23,
          21,
          19,
          18,
          12,
          19,
          25,
          32,
          36,
          39,
          30,
          18,
          22,
          26,
          28,
          20,
          26,
          20,
          16,
          5,
          14,
          18,
          8,
          8,
          15,
          13,
          20,
          32,
          14,
          12,
          18,
          33,
          39,
          30,
          12,
          23,
          22,
          25,
          19,
          9,
          5,
          26,
          12,
          27,
          34,
          24,
          29,
          31,
          36,
          22,
          22,
          14,
          11,
          31,
          38,
          28,
          36,
          34,
          19,
          26,
          9,
          24,
          13,
          12,
          11,
          7,
          13
         ],
         "xaxis": "x",
         "yaxis": "y"
        },
        {
         "fillcolor": "blue",
         "line": {
          "color": "blue"
         },
         "name": "2018",
         "showlegend": false,
         "type": "box",
         "x": [
          8.9,
          0.6,
          5.5,
          0,
          1.5,
          0,
          5.9,
          0,
          3.1,
          0.4,
          0,
          0,
          0,
          1.3,
          2.8,
          0,
          0,
          0,
          0.7,
          7.5,
          1.3,
          0,
          0.6,
          2,
          0.7,
          0,
          0,
          0.2,
          0.1,
          0,
          4.7,
          0.2,
          0.1,
          0.8,
          0.7,
          0,
          0.1,
          1.1,
          0,
          3,
          0.3,
          1,
          0.1,
          6.5,
          11.6,
          0,
          1.6,
          3.3,
          3.7,
          1.3,
          0.8,
          0,
          0,
          0,
          0,
          0,
          0,
          0,
          0.3,
          3.1,
          1.8,
          1.9,
          2.6,
          1.6,
          0.6,
          0,
          0.4,
          0.5,
          0.2,
          0.4,
          0.8,
          0,
          8.4,
          0.7,
          1.5,
          0,
          0,
          0.3,
          0,
          0,
          0,
          1.2,
          1.5,
          0.5,
          0.2,
          3.6,
          5.6,
          4,
          3.1,
          2.1,
          0,
          3.2,
          3.9,
          0.8,
          0,
          0,
          4.5,
          3.5,
          1.4,
          1.9,
          1.2,
          2.4,
          2.5,
          1.2,
          0.3,
          0,
          0,
          0,
          0,
          0.5,
          1.9,
          0,
          0,
          0,
          0.2,
          0.1,
          0.5,
          0.3,
          0.7,
          0.3,
          0,
          2.5,
          0,
          0,
          0,
          3.2,
          4.1,
          3.4,
          0,
          0,
          0,
          1.5,
          0.2,
          0,
          0,
          0.6,
          0,
          0,
          0,
          0,
          0.1,
          0,
          1.4,
          1.4,
          1.1,
          8.1,
          0,
          3.2,
          3.3,
          0.5,
          4,
          0,
          1,
          6,
          1.9,
          4.1,
          2.6,
          0.3,
          1.8,
          1.9,
          1.6,
          12.9,
          0,
          0.3,
          0.2,
          0.1,
          0,
          0,
          0.1,
          0,
          0,
          0,
          0,
          0,
          0,
          0,
          0,
          0,
          0,
          0.1,
          0,
          4.7,
          7,
          0.3,
          0,
          1.4,
          0.6,
          0,
          0,
          0,
          0.8,
          0,
          0.2,
          0,
          0,
          0,
          4.1,
          0,
          0,
          0.9,
          0,
          0.6,
          0,
          0.1,
          0,
          0,
          0.3,
          2.5,
          0,
          0.4,
          3.4,
          0.1,
          0,
          0,
          0,
          0,
          0,
          0,
          0.7,
          0.4,
          0.5,
          0.1,
          0,
          0.5,
          0,
          0,
          0,
          0.2,
          0,
          0,
          0,
          0.3,
          0.1,
          0,
          0,
          0,
          0.2,
          0.1,
          0,
          0.4,
          1.1,
          0,
          0,
          0,
          0,
          0,
          0,
          0.6,
          0,
          0,
          0,
          0,
          0,
          0,
          0,
          0,
          0,
          0,
          0,
          0,
          0,
          0,
          0,
          4.8,
          0.1,
          0,
          0,
          0,
          0,
          0,
          0,
          0,
          0,
          0.1,
          0,
          0,
          0,
          0,
          4.4,
          0,
          0,
          0,
          0.7,
          1.8,
          0,
          0,
          1.4,
          1.1,
          0,
          0.5,
          0,
          0,
          0,
          0,
          0,
          0,
          0,
          0,
          0,
          0,
          0.3,
          0,
          0,
          0.3,
          1.3,
          0,
          0,
          0,
          0,
          0.3,
          5.6,
          0,
          5.7,
          1.3,
          6.1,
          2.8,
          0,
          0,
          0,
          0,
          0,
          0,
          0,
          0.1,
          0,
          0.8,
          7.9,
          1.6,
          10.7,
          0,
          5.4,
          1.1,
          1.7,
          0.4,
          15.3,
          3.9,
          0,
          0,
          0.7,
          0.1,
          1.1,
          0.9,
          0,
          0,
          0,
          0.4,
          1.4,
          0,
          3.7,
          1.6,
          0,
          3.5,
          2,
          1.1,
          13,
          0,
          0.7,
          0,
          0,
          0,
          0,
          0,
          0,
          0.1,
          0
         ],
         "xaxis": "x2",
         "yaxis": "y2"
        },
        {
         "fillcolor": "red",
         "line": {
          "color": "red"
         },
         "name": "2019",
         "showlegend": false,
         "type": "box",
         "x": [
          0.2,
          0,
          0,
          0,
          0,
          0,
          0,
          0.2,
          0,
          0.1,
          0.2,
          0,
          0.1,
          0.1,
          0,
          1.3,
          1.2,
          0.1,
          4.4,
          0.2,
          0,
          9.8,
          1.3,
          2.4,
          4.6,
          2.1,
          5.9,
          2.6,
          15.1,
          2,
          4.3,
          7.3,
          1,
          0,
          18.6,
          0.8,
          9.4,
          4,
          1.6,
          6.3,
          29.1,
          0.1,
          0,
          0,
          0,
          0,
          0,
          0,
          0.9,
          2.5,
          0,
          0,
          0,
          0,
          0,
          0,
          0,
          0,
          0.9,
          0,
          4.9,
          5.4,
          11.1,
          1.1,
          47.6,
          3.4,
          0.2,
          5.3,
          1.2,
          0.1,
          4.2,
          0.9,
          0.5,
          1.1,
          0.5,
          5,
          1.1,
          1,
          0.6,
          0.1,
          0,
          0,
          0.1,
          0.1,
          0,
          0,
          0,
          0.1,
          2.5,
          5.3,
          2,
          1.8,
          5.2,
          1.1,
          10.1,
          6.1,
          3,
          1.6,
          0.8,
          1.9,
          0.1,
          0,
          0,
          2.3,
          6.2,
          12.3,
          0,
          0,
          0,
          1.6,
          7.8,
          6,
          2.7,
          18.9,
          4.4,
          2,
          1.4,
          0.4,
          0,
          0,
          6,
          0.4,
          0.5,
          0.6,
          0.3,
          0,
          1.2,
          17.8,
          4.4,
          1.7,
          2,
          0,
          0,
          0,
          0,
          0,
          4.6,
          6,
          3.6,
          7,
          0.8,
          1.8,
          7.5,
          1.6,
          0.5,
          0.5,
          1.4,
          1.2,
          0.2,
          0,
          0,
          0,
          0,
          0.5,
          6.3,
          1.5,
          2.7,
          27.3,
          3.4,
          4,
          2.7,
          3.4,
          5.1,
          2.3,
          0,
          0.6,
          0.3,
          0,
          0,
          0.9,
          0,
          0.5,
          0,
          0,
          14.1,
          0.9,
          0,
          0,
          0,
          0,
          0.7,
          1,
          0,
          0,
          0,
          0.6,
          7.5,
          1.7,
          0,
          0,
          0,
          0,
          0.2,
          0,
          0,
          0,
          0,
          0,
          0,
          0,
          2.1,
          0,
          0,
          0,
          0,
          0.8,
          16.3,
          2.8,
          0,
          1.2,
          6.1,
          0.3,
          0,
          0,
          0,
          0,
          0.1,
          4.4,
          0.1,
          0,
          5.5,
          0.2,
          1.1,
          2.4,
          0,
          0.8,
          0.7,
          0,
          7.3,
          9.9,
          0.5,
          0,
          0,
          0,
          0,
          0,
          0,
          0,
          0.2,
          0,
          0,
          0,
          0,
          0,
          0,
          0,
          0.3,
          0,
          0,
          0.2,
          0,
          8.4,
          7.6,
          0,
          0,
          0,
          0,
          0,
          0,
          0,
          0,
          0,
          0,
          0.2,
          6.9,
          1.4,
          24.1,
          2,
          0.5,
          1.3,
          1.1,
          5.3,
          0.8,
          5.7,
          0.2,
          0.3,
          1.1,
          0.4,
          1.5,
          4.3,
          3.9,
          2.6,
          0.5,
          0,
          0,
          1.6,
          2.7,
          1.2,
          13.1,
          1.3,
          5.3,
          7.7,
          1.2,
          1.1,
          1.5,
          9.9,
          9.5,
          0.8,
          0,
          4.6,
          1.7,
          2.3,
          3.2,
          8.9,
          14.5,
          11,
          30,
          4.2,
          8,
          1.1,
          11.4,
          3.2,
          10.1,
          2.1,
          3.8,
          1.8,
          4.8,
          11.2,
          2.3,
          10.3,
          0,
          0,
          0,
          0,
          16,
          8.5,
          3.8,
          2.7,
          8.6,
          9.7,
          3.8,
          1.9,
          0.1,
          13.7,
          0,
          0,
          0,
          0,
          0,
          0.3,
          0.4,
          9.1,
          0.6,
          0.9,
          5.9,
          18.2,
          2.2,
          4.8,
          5,
          16.1,
          2.6,
          0,
          31,
          35.1,
          16.4,
          3,
          9,
          16.7,
          0,
          0.2,
          0,
          0,
          0,
          0,
          0.1
         ],
         "xaxis": "x2",
         "yaxis": "y2"
        },
        {
         "marker": {
          "color": "red"
         },
         "mode": "markers",
         "name": "",
         "showlegend": false,
         "type": "scatter",
         "x": [
          "2018-01-01",
          "2018-01-02",
          "2018-01-03",
          "2018-01-04",
          "2018-01-05",
          "2018-01-06",
          "2018-01-07",
          "2018-01-08",
          "2018-01-09",
          "2018-01-10",
          "2018-01-11",
          "2018-01-12",
          "2018-01-13",
          "2018-01-14",
          "2018-01-15",
          "2018-01-16",
          "2018-01-17",
          "2018-01-18",
          "2018-01-19",
          "2018-01-20",
          "2018-01-21",
          "2018-01-22",
          "2018-01-23",
          "2018-01-24",
          "2018-01-25",
          "2018-01-26",
          "2018-01-27",
          "2018-01-28",
          "2018-01-29",
          "2018-01-30",
          "2018-01-31",
          "2018-02-01",
          "2018-02-02",
          "2018-02-03",
          "2018-02-04",
          "2018-02-05",
          "2018-02-06",
          "2018-02-07",
          "2018-02-08",
          "2018-02-09",
          "2018-02-10",
          "2018-02-11",
          "2018-02-12",
          "2018-02-13",
          "2018-02-14",
          "2018-02-15",
          "2018-02-16",
          "2018-02-17",
          "2018-02-18",
          "2018-02-19",
          "2018-02-20",
          "2018-02-21",
          "2018-02-22",
          "2018-02-23",
          "2018-02-24",
          "2018-02-25",
          "2018-02-26",
          "2018-02-27",
          "2018-02-28",
          "2018-03-01",
          "2018-03-02",
          "2018-03-03",
          "2018-03-04",
          "2018-03-05",
          "2018-03-06",
          "2018-03-07",
          "2018-03-08",
          "2018-03-09",
          "2018-03-10",
          "2018-03-11",
          "2018-03-12",
          "2018-03-13",
          "2018-03-14",
          "2018-03-15",
          "2018-03-16",
          "2018-03-17",
          "2018-03-18",
          "2018-03-19",
          "2018-03-20",
          "2018-03-21",
          "2018-03-22",
          "2018-03-23",
          "2018-03-24",
          "2018-03-25",
          "2018-03-26",
          "2018-03-27",
          "2018-03-28",
          "2018-03-29",
          "2018-03-30",
          "2018-03-31",
          "2018-04-01",
          "2018-04-02",
          "2018-04-03",
          "2018-04-04",
          "2018-04-05",
          "2018-04-06",
          "2018-04-07",
          "2018-04-08",
          "2018-04-09",
          "2018-04-10",
          "2018-04-11",
          "2018-04-12",
          "2018-04-13",
          "2018-04-14",
          "2018-04-15",
          "2018-04-16",
          "2018-04-17",
          "2018-04-18",
          "2018-04-19",
          "2018-04-20",
          "2018-04-21",
          "2018-04-22",
          "2018-04-23",
          "2018-04-24",
          "2018-04-25",
          "2018-04-26",
          "2018-04-27",
          "2018-04-28",
          "2018-04-29",
          "2018-04-30",
          "2018-05-01",
          "2018-05-02",
          "2018-05-03",
          "2018-05-04",
          "2018-05-05",
          "2018-05-06",
          "2018-05-07",
          "2018-05-08",
          "2018-05-09",
          "2018-05-10",
          "2018-05-11",
          "2018-05-12",
          "2018-05-13",
          "2018-05-14",
          "2018-05-15",
          "2018-05-16",
          "2018-05-17",
          "2018-05-18",
          "2018-05-19",
          "2018-05-20",
          "2018-05-21",
          "2018-05-22",
          "2018-05-23",
          "2018-05-24",
          "2018-05-25",
          "2018-05-26",
          "2018-05-27",
          "2018-05-28",
          "2018-05-29",
          "2018-05-30",
          "2018-05-31",
          "2018-06-01",
          "2018-06-02",
          "2018-06-03",
          "2018-06-04",
          "2018-06-05",
          "2018-06-06",
          "2018-06-07",
          "2018-06-08",
          "2018-06-09",
          "2018-06-10",
          "2018-06-11",
          "2018-06-12",
          "2018-06-13",
          "2018-06-14",
          "2018-06-15",
          "2018-06-16",
          "2018-06-17",
          "2018-06-18",
          "2018-06-19",
          "2018-06-20",
          "2018-06-21",
          "2018-06-22",
          "2018-06-23",
          "2018-06-24",
          "2018-06-25",
          "2018-06-26",
          "2018-06-27",
          "2018-06-28",
          "2018-06-29",
          "2018-06-30",
          "2018-07-01",
          "2018-07-02",
          "2018-07-03",
          "2018-07-04",
          "2018-07-05",
          "2018-07-06",
          "2018-07-07",
          "2018-07-08",
          "2018-07-09",
          "2018-07-10",
          "2018-07-11",
          "2018-07-12",
          "2018-07-13",
          "2018-07-14",
          "2018-07-15",
          "2018-07-16",
          "2018-07-17",
          "2018-07-18",
          "2018-07-19",
          "2018-07-20",
          "2018-07-21",
          "2018-07-22",
          "2018-07-23",
          "2018-07-24",
          "2018-07-25",
          "2018-07-26",
          "2018-07-27",
          "2018-07-28",
          "2018-07-29",
          "2018-07-30",
          "2018-07-31",
          "2018-08-01",
          "2018-08-02",
          "2018-08-03",
          "2018-08-04",
          "2018-08-05",
          "2018-08-06",
          "2018-08-07",
          "2018-08-08",
          "2018-08-09",
          "2018-08-10",
          "2018-08-11",
          "2018-08-12",
          "2018-08-13",
          "2018-08-14",
          "2018-08-15",
          "2018-08-16",
          "2018-08-17",
          "2018-08-18",
          "2018-08-19",
          "2018-08-20",
          "2018-08-21",
          "2018-08-22",
          "2018-08-23",
          "2018-08-24",
          "2018-08-25",
          "2018-08-26",
          "2018-08-27",
          "2018-08-28",
          "2018-08-29",
          "2018-08-30",
          "2018-08-31",
          "2018-09-01",
          "2018-09-02",
          "2018-09-03",
          "2018-09-04",
          "2018-09-05",
          "2018-09-06",
          "2018-09-07",
          "2018-09-08",
          "2018-09-09",
          "2018-09-10",
          "2018-09-11",
          "2018-09-12",
          "2018-09-13",
          "2018-09-14",
          "2018-09-15",
          "2018-09-16",
          "2018-09-17",
          "2018-09-18",
          "2018-09-19",
          "2018-09-20",
          "2018-09-21",
          "2018-09-22",
          "2018-09-23",
          "2018-09-24",
          "2018-09-25",
          "2018-09-26",
          "2018-09-27",
          "2018-09-28",
          "2018-09-29",
          "2018-09-30",
          "2018-10-01",
          "2018-10-02",
          "2018-10-03",
          "2018-10-04",
          "2018-10-05",
          "2018-10-06",
          "2018-10-07",
          "2018-10-08",
          "2018-10-09",
          "2018-10-10",
          "2018-10-11",
          "2018-10-12",
          "2018-10-13",
          "2018-10-14",
          "2018-10-15",
          "2018-10-16",
          "2018-10-17",
          "2018-10-18",
          "2018-10-19",
          "2018-10-20",
          "2018-10-21",
          "2018-10-22",
          "2018-10-23",
          "2018-10-24",
          "2018-10-25",
          "2018-10-26",
          "2018-10-27",
          "2018-10-28",
          "2018-10-29",
          "2018-10-30",
          "2018-10-31",
          "2018-11-01",
          "2018-11-02",
          "2018-11-03",
          "2018-11-04",
          "2018-11-05",
          "2018-11-06",
          "2018-11-07",
          "2018-11-08",
          "2018-11-09",
          "2018-11-10",
          "2018-11-11",
          "2018-11-12",
          "2018-11-13",
          "2018-11-14",
          "2018-11-15",
          "2018-11-16",
          "2018-11-17",
          "2018-11-18",
          "2018-11-19",
          "2018-11-20",
          "2018-11-21",
          "2018-11-22",
          "2018-11-23",
          "2018-11-24",
          "2018-11-25",
          "2018-11-26",
          "2018-11-27",
          "2018-11-28",
          "2018-11-29",
          "2018-11-30",
          "2018-12-01",
          "2018-12-02",
          "2018-12-03",
          "2018-12-04",
          "2018-12-05",
          "2018-12-06",
          "2018-12-07",
          "2018-12-08",
          "2018-12-09",
          "2018-12-10",
          "2018-12-11",
          "2018-12-12",
          "2018-12-13",
          "2018-12-14",
          "2018-12-15",
          "2018-12-16",
          "2018-12-17",
          "2018-12-18",
          "2018-12-19",
          "2018-12-20",
          "2018-12-21",
          "2018-12-22",
          "2018-12-23",
          "2018-12-24",
          "2018-12-25",
          "2018-12-26",
          "2018-12-27",
          "2018-12-28",
          "2018-12-29",
          "2018-12-30",
          "2018-12-31",
          "2019-01-01",
          "2019-01-02",
          "2019-01-03",
          "2019-01-04",
          "2019-01-05",
          "2019-01-06",
          "2019-01-07",
          "2019-01-08",
          "2019-01-09",
          "2019-01-10",
          "2019-01-11",
          "2019-01-12",
          "2019-01-13",
          "2019-01-14",
          "2019-01-15",
          "2019-01-16",
          "2019-01-17",
          "2019-01-18",
          "2019-01-19",
          "2019-01-20",
          "2019-01-21",
          "2019-01-22",
          "2019-01-23",
          "2019-01-24",
          "2019-01-25",
          "2019-01-26",
          "2019-01-27",
          "2019-01-28",
          "2019-01-29",
          "2019-01-30",
          "2019-01-31",
          "2019-02-01",
          "2019-02-02",
          "2019-02-03",
          "2019-02-04",
          "2019-02-05",
          "2019-02-06",
          "2019-02-07",
          "2019-02-08",
          "2019-02-09",
          "2019-02-10",
          "2019-02-11",
          "2019-02-12",
          "2019-02-13",
          "2019-02-14",
          "2019-02-15",
          "2019-02-16",
          "2019-02-17",
          "2019-02-18",
          "2019-02-19",
          "2019-02-20",
          "2019-02-21",
          "2019-02-22",
          "2019-02-23",
          "2019-02-24",
          "2019-02-25",
          "2019-02-26",
          "2019-02-27",
          "2019-02-28",
          "2019-03-01",
          "2019-03-02",
          "2019-03-03",
          "2019-03-04",
          "2019-03-05",
          "2019-03-06",
          "2019-03-07",
          "2019-03-08",
          "2019-03-09",
          "2019-03-10",
          "2019-03-11",
          "2019-03-12",
          "2019-03-13",
          "2019-03-14",
          "2019-03-15",
          "2019-03-16",
          "2019-03-17",
          "2019-03-18",
          "2019-03-19",
          "2019-03-20",
          "2019-03-21",
          "2019-03-22",
          "2019-03-23",
          "2019-03-24",
          "2019-03-25",
          "2019-03-26",
          "2019-03-27",
          "2019-03-28",
          "2019-03-29",
          "2019-03-30",
          "2019-03-31",
          "2019-04-01",
          "2019-04-02",
          "2019-04-03",
          "2019-04-04",
          "2019-04-05",
          "2019-04-06",
          "2019-04-07",
          "2019-04-08",
          "2019-04-09",
          "2019-04-10",
          "2019-04-11",
          "2019-04-12",
          "2019-04-13",
          "2019-04-14",
          "2019-04-15",
          "2019-04-16",
          "2019-04-17",
          "2019-04-18",
          "2019-04-19",
          "2019-04-20",
          "2019-04-21",
          "2019-04-22",
          "2019-04-23",
          "2019-04-24",
          "2019-04-25",
          "2019-04-26",
          "2019-04-27",
          "2019-04-28",
          "2019-04-29",
          "2019-04-30",
          "2019-05-01",
          "2019-05-02",
          "2019-05-03",
          "2019-05-04",
          "2019-05-05",
          "2019-05-06",
          "2019-05-07",
          "2019-05-08",
          "2019-05-09",
          "2019-05-10",
          "2019-05-11",
          "2019-05-12",
          "2019-05-13",
          "2019-05-14",
          "2019-05-15",
          "2019-05-16",
          "2019-05-17",
          "2019-05-18",
          "2019-05-19",
          "2019-05-20",
          "2019-05-21",
          "2019-05-22",
          "2019-05-23",
          "2019-05-24",
          "2019-05-25",
          "2019-05-26",
          "2019-05-27",
          "2019-05-28",
          "2019-05-29",
          "2019-05-30",
          "2019-05-31",
          "2019-06-01",
          "2019-06-02",
          "2019-06-03",
          "2019-06-04",
          "2019-06-05",
          "2019-06-06",
          "2019-06-07",
          "2019-06-08",
          "2019-06-09",
          "2019-06-10",
          "2019-06-11",
          "2019-06-12",
          "2019-06-13",
          "2019-06-14",
          "2019-06-15",
          "2019-06-16",
          "2019-06-17",
          "2019-06-18",
          "2019-06-19",
          "2019-06-20",
          "2019-06-21",
          "2019-06-22",
          "2019-06-23",
          "2019-06-24",
          "2019-06-25",
          "2019-06-26",
          "2019-06-27",
          "2019-06-28",
          "2019-06-29",
          "2019-06-30",
          "2019-07-01",
          "2019-07-02",
          "2019-07-03",
          "2019-07-04",
          "2019-07-05",
          "2019-07-06",
          "2019-07-07",
          "2019-07-08",
          "2019-07-09",
          "2019-07-10",
          "2019-07-11",
          "2019-07-12",
          "2019-07-13",
          "2019-07-14",
          "2019-07-15",
          "2019-07-16",
          "2019-07-17",
          "2019-07-18",
          "2019-07-19",
          "2019-07-20",
          "2019-07-21",
          "2019-07-22",
          "2019-07-23",
          "2019-07-24",
          "2019-07-25",
          "2019-07-26",
          "2019-07-27",
          "2019-07-28",
          "2019-07-29",
          "2019-07-30",
          "2019-07-31",
          "2019-08-01",
          "2019-08-02",
          "2019-08-03",
          "2019-08-04",
          "2019-08-05",
          "2019-08-06",
          "2019-08-07",
          "2019-08-08",
          "2019-08-09",
          "2019-08-10",
          "2019-08-11",
          "2019-08-12",
          "2019-08-13",
          "2019-08-14",
          "2019-08-15",
          "2019-08-16",
          "2019-08-17",
          "2019-08-18",
          "2019-08-19",
          "2019-08-20",
          "2019-08-21",
          "2019-08-22",
          "2019-08-23",
          "2019-08-24",
          "2019-08-25",
          "2019-08-26",
          "2019-08-27",
          "2019-08-28",
          "2019-08-29",
          "2019-08-30",
          "2019-08-31",
          "2019-09-01",
          "2019-09-02",
          "2019-09-03",
          "2019-09-04",
          "2019-09-05",
          "2019-09-06",
          "2019-09-07",
          "2019-09-08",
          "2019-09-09",
          "2019-09-10",
          "2019-09-11",
          "2019-09-12",
          "2019-09-13",
          "2019-09-14",
          "2019-09-15",
          "2019-09-16",
          "2019-09-17",
          "2019-09-18",
          "2019-09-19",
          "2019-09-20",
          "2019-09-21",
          "2019-09-22",
          "2019-09-23",
          "2019-09-24",
          "2019-09-25",
          "2019-09-26",
          "2019-09-27",
          "2019-09-28",
          "2019-09-29",
          "2019-09-30",
          "2019-10-01",
          "2019-10-02",
          "2019-10-03",
          "2019-10-04",
          "2019-10-05",
          "2019-10-06",
          "2019-10-07",
          "2019-10-08",
          "2019-10-09",
          "2019-10-10",
          "2019-10-11",
          "2019-10-12",
          "2019-10-13",
          "2019-10-14",
          "2019-10-15",
          "2019-10-16",
          "2019-10-17",
          "2019-10-18",
          "2019-10-19",
          "2019-10-20",
          "2019-10-21",
          "2019-10-22",
          "2019-10-23",
          "2019-10-24",
          "2019-10-25",
          "2019-10-26",
          "2019-10-27",
          "2019-10-28",
          "2019-10-29",
          "2019-10-30",
          "2019-10-31",
          "2019-11-01",
          "2019-11-02",
          "2019-11-03",
          "2019-11-04",
          "2019-11-05",
          "2019-11-06",
          "2019-11-07",
          "2019-11-08",
          "2019-11-09",
          "2019-11-10",
          "2019-11-11",
          "2019-11-12",
          "2019-11-13",
          "2019-11-14",
          "2019-11-15",
          "2019-11-16",
          "2019-11-17",
          "2019-11-18",
          "2019-11-19",
          "2019-11-20",
          "2019-11-21",
          "2019-11-22",
          "2019-11-23",
          "2019-11-24",
          "2019-11-25",
          "2019-11-26",
          "2019-11-27",
          "2019-11-28",
          "2019-11-29",
          "2019-11-30",
          "2019-12-01",
          "2019-12-02",
          "2019-12-03",
          "2019-12-04",
          "2019-12-05",
          "2019-12-06",
          "2019-12-07",
          "2019-12-08",
          "2019-12-09",
          "2019-12-10",
          "2019-12-11",
          "2019-12-12",
          "2019-12-13",
          "2019-12-14",
          "2019-12-15",
          "2019-12-16",
          "2019-12-17",
          "2019-12-18",
          "2019-12-19",
          "2019-12-20",
          "2019-12-21",
          "2019-12-22",
          "2019-12-23",
          "2019-12-24",
          "2019-12-25",
          "2019-12-26",
          "2019-12-27",
          "2019-12-28",
          "2019-12-29",
          "2019-12-30",
          "2019-12-31"
         ],
         "xaxis": "x3",
         "y": [
          5.1,
          8.7,
          8.7,
          5.1,
          8.7,
          3.3,
          5.1,
          3.3,
          3.3,
          8.7,
          5.1,
          6.9,
          3.3,
          3.3,
          8.7,
          3.4,
          8.7,
          8.7,
          3.4,
          5.2,
          8.7,
          3.4,
          5.2,
          5.2,
          3.4,
          3.5,
          8.2,
          6.5,
          4.8,
          6.5,
          4.9,
          4.9,
          9.8,
          9.8,
          4.9,
          4.9,
          5,
          6.6,
          5,
          6.6,
          8.3,
          8.3,
          10.1,
          10.1,
          10.2,
          10.2,
          8.4,
          10.2,
          6.8,
          5.2,
          10,
          10.4,
          10.4,
          10.8,
          8.5,
          10.9,
          10.9,
          11,
          5.5,
          10.1,
          10.1,
          5.6,
          8.6,
          10.1,
          5.6,
          8.7,
          10.2,
          5.9,
          7.3,
          10.2,
          7.3,
          11.6,
          5.9,
          6,
          6,
          11.6,
          8.8,
          7.4,
          7.4,
          11.6,
          11.6,
          11.6,
          10.2,
          8.9,
          11.6,
          11.6,
          10.3,
          9,
          10.3,
          10.3,
          9,
          6.5,
          7.8,
          7.8,
          6.5,
          6.5,
          7.8,
          9.1,
          10.3,
          7.9,
          11.6,
          11.6,
          11.6,
          7.9,
          9.1,
          11.6,
          10.4,
          11.6,
          11.6,
          9.3,
          9.3,
          9.3,
          8.2,
          7,
          9.3,
          13.4,
          10.2,
          9.1,
          10.2,
          14.5,
          12.4,
          12.4,
          11.3,
          11.3,
          13.4,
          11.4,
          10.3,
          11.4,
          9.3,
          9.3,
          11.4,
          14.5,
          14.5,
          14.5,
          14.5,
          10.4,
          11.5,
          9.5,
          10.5,
          9.5,
          12.5,
          11.5,
          13.5,
          13.5,
          11.5,
          9.6,
          12.5,
          11.5,
          10.6,
          11.6,
          14.5,
          14.5,
          13.5,
          12.6,
          9.7,
          9.7,
          11.6,
          9.7,
          13.7,
          13.8,
          14.7,
          13.8,
          12.9,
          14.7,
          15.9,
          13.8,
          14.7,
          16,
          16,
          12.9,
          16,
          14.7,
          16,
          16,
          12.9,
          16,
          16,
          15.9,
          15.9,
          15.9,
          15.6,
          15.9,
          15.9,
          15.9,
          15.9,
          15.9,
          14.6,
          15.9,
          15.8,
          15.8,
          15.8,
          15.8,
          13.7,
          15.8,
          14.5,
          14.5,
          13.5,
          14.5,
          10.5,
          13.5,
          11.5,
          14.5,
          14.5,
          14.5,
          14.5,
          13.5,
          9.4,
          10.4,
          14.5,
          13.5,
          10.4,
          13.5,
          14.5,
          14.5,
          14.5,
          14.5,
          11.4,
          9.3,
          12.4,
          14.5,
          11.3,
          11.3,
          12.4,
          9.2,
          13.4,
          7.1,
          9.3,
          11.6,
          7.1,
          9.3,
          10.5,
          11.6,
          9.3,
          11.6,
          11.6,
          10.4,
          11.6,
          10.4,
          10.4,
          9.1,
          9.1,
          10.4,
          11.6,
          11.6,
          11.6,
          11.6,
          7.8,
          9.1,
          11.6,
          10.3,
          11.6,
          7.8,
          11.6,
          11.6,
          10.3,
          11.6,
          11.6,
          11.6,
          11.6,
          11.6,
          11.6,
          11.6,
          11.6,
          10.3,
          7.6,
          6.2,
          7.6,
          6,
          6,
          8.8,
          5.8,
          7.2,
          5.7,
          5.7,
          5.7,
          11.4,
          7.1,
          5.6,
          11.3,
          5.6,
          7.1,
          7.1,
          8.6,
          10.1,
          11.1,
          8.6,
          7,
          8.5,
          5.5,
          7,
          8.5,
          5.4,
          5.4,
          10,
          10.7,
          5.3,
          5.3,
          6.9,
          10.6,
          3.8,
          3.8,
          3.8,
          5.4,
          3.8,
          3.8,
          3.7,
          3.7,
          5.4,
          3.7,
          7,
          3.7,
          7,
          3.5,
          5.2,
          5.2,
          5.2,
          5.2,
          7,
          7,
          3.5,
          8.7,
          8.7,
          6.9,
          5.2,
          3.4,
          3.4,
          6.9,
          5.2,
          3.4,
          3.4,
          3.4,
          3.3,
          6.9,
          3.3,
          3.3,
          8.7,
          8.7,
          6.9,
          8.7,
          3.3,
          3.3,
          3.3,
          5.1,
          3.3,
          8.7,
          3.3,
          3.3,
          3.3,
          6.9,
          3.3,
          3.3,
          5.1,
          3.3,
          5.1,
          6.9,
          5.1,
          6.9,
          8.7,
          8.7,
          5.1,
          8.7,
          6.9,
          8.7,
          8.7,
          8.7
         ],
         "yaxis": "y3"
        },
        {
         "marker": {
          "color": "blue"
         },
         "mode": "markers",
         "name": "",
         "showlegend": false,
         "type": "scatter",
         "x": [
          "2018-01-01",
          "2018-01-02",
          "2018-01-03",
          "2018-01-04",
          "2018-01-05",
          "2018-01-06",
          "2018-01-07",
          "2018-01-08",
          "2018-01-09",
          "2018-01-10",
          "2018-01-11",
          "2018-01-12",
          "2018-01-13",
          "2018-01-14",
          "2018-01-15",
          "2018-01-16",
          "2018-01-17",
          "2018-01-18",
          "2018-01-19",
          "2018-01-20",
          "2018-01-21",
          "2018-01-22",
          "2018-01-23",
          "2018-01-24",
          "2018-01-25",
          "2018-01-26",
          "2018-01-27",
          "2018-01-28",
          "2018-01-29",
          "2018-01-30",
          "2018-01-31",
          "2018-02-01",
          "2018-02-02",
          "2018-02-03",
          "2018-02-04",
          "2018-02-05",
          "2018-02-06",
          "2018-02-07",
          "2018-02-08",
          "2018-02-09",
          "2018-02-10",
          "2018-02-11",
          "2018-02-12",
          "2018-02-13",
          "2018-02-14",
          "2018-02-15",
          "2018-02-16",
          "2018-02-17",
          "2018-02-18",
          "2018-02-19",
          "2018-02-20",
          "2018-02-21",
          "2018-02-22",
          "2018-02-23",
          "2018-02-24",
          "2018-02-25",
          "2018-02-26",
          "2018-02-27",
          "2018-02-28",
          "2018-03-01",
          "2018-03-02",
          "2018-03-03",
          "2018-03-04",
          "2018-03-05",
          "2018-03-06",
          "2018-03-07",
          "2018-03-08",
          "2018-03-09",
          "2018-03-10",
          "2018-03-11",
          "2018-03-12",
          "2018-03-13",
          "2018-03-14",
          "2018-03-15",
          "2018-03-16",
          "2018-03-17",
          "2018-03-18",
          "2018-03-19",
          "2018-03-20",
          "2018-03-21",
          "2018-03-22",
          "2018-03-23",
          "2018-03-24",
          "2018-03-25",
          "2018-03-26",
          "2018-03-27",
          "2018-03-28",
          "2018-03-29",
          "2018-03-30",
          "2018-03-31",
          "2018-04-01",
          "2018-04-02",
          "2018-04-03",
          "2018-04-04",
          "2018-04-05",
          "2018-04-06",
          "2018-04-07",
          "2018-04-08",
          "2018-04-09",
          "2018-04-10",
          "2018-04-11",
          "2018-04-12",
          "2018-04-13",
          "2018-04-14",
          "2018-04-15",
          "2018-04-16",
          "2018-04-17",
          "2018-04-18",
          "2018-04-19",
          "2018-04-20",
          "2018-04-21",
          "2018-04-22",
          "2018-04-23",
          "2018-04-24",
          "2018-04-25",
          "2018-04-26",
          "2018-04-27",
          "2018-04-28",
          "2018-04-29",
          "2018-04-30",
          "2018-05-01",
          "2018-05-02",
          "2018-05-03",
          "2018-05-04",
          "2018-05-05",
          "2018-05-06",
          "2018-05-07",
          "2018-05-08",
          "2018-05-09",
          "2018-05-10",
          "2018-05-11",
          "2018-05-12",
          "2018-05-13",
          "2018-05-14",
          "2018-05-15",
          "2018-05-16",
          "2018-05-17",
          "2018-05-18",
          "2018-05-19",
          "2018-05-20",
          "2018-05-21",
          "2018-05-22",
          "2018-05-23",
          "2018-05-24",
          "2018-05-25",
          "2018-05-26",
          "2018-05-27",
          "2018-05-28",
          "2018-05-29",
          "2018-05-30",
          "2018-05-31",
          "2018-06-01",
          "2018-06-02",
          "2018-06-03",
          "2018-06-04",
          "2018-06-05",
          "2018-06-06",
          "2018-06-07",
          "2018-06-08",
          "2018-06-09",
          "2018-06-10",
          "2018-06-11",
          "2018-06-12",
          "2018-06-13",
          "2018-06-14",
          "2018-06-15",
          "2018-06-16",
          "2018-06-17",
          "2018-06-18",
          "2018-06-19",
          "2018-06-20",
          "2018-06-21",
          "2018-06-22",
          "2018-06-23",
          "2018-06-24",
          "2018-06-25",
          "2018-06-26",
          "2018-06-27",
          "2018-06-28",
          "2018-06-29",
          "2018-06-30",
          "2018-07-01",
          "2018-07-02",
          "2018-07-03",
          "2018-07-04",
          "2018-07-05",
          "2018-07-06",
          "2018-07-07",
          "2018-07-08",
          "2018-07-09",
          "2018-07-10",
          "2018-07-11",
          "2018-07-12",
          "2018-07-13",
          "2018-07-14",
          "2018-07-15",
          "2018-07-16",
          "2018-07-17",
          "2018-07-18",
          "2018-07-19",
          "2018-07-20",
          "2018-07-21",
          "2018-07-22",
          "2018-07-23",
          "2018-07-24",
          "2018-07-25",
          "2018-07-26",
          "2018-07-27",
          "2018-07-28",
          "2018-07-29",
          "2018-07-30",
          "2018-07-31",
          "2018-08-01",
          "2018-08-02",
          "2018-08-03",
          "2018-08-04",
          "2018-08-05",
          "2018-08-06",
          "2018-08-07",
          "2018-08-08",
          "2018-08-09",
          "2018-08-10",
          "2018-08-11",
          "2018-08-12",
          "2018-08-13",
          "2018-08-14",
          "2018-08-15",
          "2018-08-16",
          "2018-08-17",
          "2018-08-18",
          "2018-08-19",
          "2018-08-20",
          "2018-08-21",
          "2018-08-22",
          "2018-08-23",
          "2018-08-24",
          "2018-08-25",
          "2018-08-26",
          "2018-08-27",
          "2018-08-28",
          "2018-08-29",
          "2018-08-30",
          "2018-08-31",
          "2018-09-01",
          "2018-09-02",
          "2018-09-03",
          "2018-09-04",
          "2018-09-05",
          "2018-09-06",
          "2018-09-07",
          "2018-09-08",
          "2018-09-09",
          "2018-09-10",
          "2018-09-11",
          "2018-09-12",
          "2018-09-13",
          "2018-09-14",
          "2018-09-15",
          "2018-09-16",
          "2018-09-17",
          "2018-09-18",
          "2018-09-19",
          "2018-09-20",
          "2018-09-21",
          "2018-09-22",
          "2018-09-23",
          "2018-09-24",
          "2018-09-25",
          "2018-09-26",
          "2018-09-27",
          "2018-09-28",
          "2018-09-29",
          "2018-09-30",
          "2018-10-01",
          "2018-10-02",
          "2018-10-03",
          "2018-10-04",
          "2018-10-05",
          "2018-10-06",
          "2018-10-07",
          "2018-10-08",
          "2018-10-09",
          "2018-10-10",
          "2018-10-11",
          "2018-10-12",
          "2018-10-13",
          "2018-10-14",
          "2018-10-15",
          "2018-10-16",
          "2018-10-17",
          "2018-10-18",
          "2018-10-19",
          "2018-10-20",
          "2018-10-21",
          "2018-10-22",
          "2018-10-23",
          "2018-10-24",
          "2018-10-25",
          "2018-10-26",
          "2018-10-27",
          "2018-10-28",
          "2018-10-29",
          "2018-10-30",
          "2018-10-31",
          "2018-11-01",
          "2018-11-02",
          "2018-11-03",
          "2018-11-04",
          "2018-11-05",
          "2018-11-06",
          "2018-11-07",
          "2018-11-08",
          "2018-11-09",
          "2018-11-10",
          "2018-11-11",
          "2018-11-12",
          "2018-11-13",
          "2018-11-14",
          "2018-11-15",
          "2018-11-16",
          "2018-11-17",
          "2018-11-18",
          "2018-11-19",
          "2018-11-20",
          "2018-11-21",
          "2018-11-22",
          "2018-11-23",
          "2018-11-24",
          "2018-11-25",
          "2018-11-26",
          "2018-11-27",
          "2018-11-28",
          "2018-11-29",
          "2018-11-30",
          "2018-12-01",
          "2018-12-02",
          "2018-12-03",
          "2018-12-04",
          "2018-12-05",
          "2018-12-06",
          "2018-12-07",
          "2018-12-08",
          "2018-12-09",
          "2018-12-10",
          "2018-12-11",
          "2018-12-12",
          "2018-12-13",
          "2018-12-14",
          "2018-12-15",
          "2018-12-16",
          "2018-12-17",
          "2018-12-18",
          "2018-12-19",
          "2018-12-20",
          "2018-12-21",
          "2018-12-22",
          "2018-12-23",
          "2018-12-24",
          "2018-12-25",
          "2018-12-26",
          "2018-12-27",
          "2018-12-28",
          "2018-12-29",
          "2018-12-30",
          "2018-12-31",
          "2019-01-01",
          "2019-01-02",
          "2019-01-03",
          "2019-01-04",
          "2019-01-05",
          "2019-01-06",
          "2019-01-07",
          "2019-01-08",
          "2019-01-09",
          "2019-01-10",
          "2019-01-11",
          "2019-01-12",
          "2019-01-13",
          "2019-01-14",
          "2019-01-15",
          "2019-01-16",
          "2019-01-17",
          "2019-01-18",
          "2019-01-19",
          "2019-01-20",
          "2019-01-21",
          "2019-01-22",
          "2019-01-23",
          "2019-01-24",
          "2019-01-25",
          "2019-01-26",
          "2019-01-27",
          "2019-01-28",
          "2019-01-29",
          "2019-01-30",
          "2019-01-31",
          "2019-02-01",
          "2019-02-02",
          "2019-02-03",
          "2019-02-04",
          "2019-02-05",
          "2019-02-06",
          "2019-02-07",
          "2019-02-08",
          "2019-02-09",
          "2019-02-10",
          "2019-02-11",
          "2019-02-12",
          "2019-02-13",
          "2019-02-14",
          "2019-02-15",
          "2019-02-16",
          "2019-02-17",
          "2019-02-18",
          "2019-02-19",
          "2019-02-20",
          "2019-02-21",
          "2019-02-22",
          "2019-02-23",
          "2019-02-24",
          "2019-02-25",
          "2019-02-26",
          "2019-02-27",
          "2019-02-28",
          "2019-03-01",
          "2019-03-02",
          "2019-03-03",
          "2019-03-04",
          "2019-03-05",
          "2019-03-06",
          "2019-03-07",
          "2019-03-08",
          "2019-03-09",
          "2019-03-10",
          "2019-03-11",
          "2019-03-12",
          "2019-03-13",
          "2019-03-14",
          "2019-03-15",
          "2019-03-16",
          "2019-03-17",
          "2019-03-18",
          "2019-03-19",
          "2019-03-20",
          "2019-03-21",
          "2019-03-22",
          "2019-03-23",
          "2019-03-24",
          "2019-03-25",
          "2019-03-26",
          "2019-03-27",
          "2019-03-28",
          "2019-03-29",
          "2019-03-30",
          "2019-03-31",
          "2019-04-01",
          "2019-04-02",
          "2019-04-03",
          "2019-04-04",
          "2019-04-05",
          "2019-04-06",
          "2019-04-07",
          "2019-04-08",
          "2019-04-09",
          "2019-04-10",
          "2019-04-11",
          "2019-04-12",
          "2019-04-13",
          "2019-04-14",
          "2019-04-15",
          "2019-04-16",
          "2019-04-17",
          "2019-04-18",
          "2019-04-19",
          "2019-04-20",
          "2019-04-21",
          "2019-04-22",
          "2019-04-23",
          "2019-04-24",
          "2019-04-25",
          "2019-04-26",
          "2019-04-27",
          "2019-04-28",
          "2019-04-29",
          "2019-04-30",
          "2019-05-01",
          "2019-05-02",
          "2019-05-03",
          "2019-05-04",
          "2019-05-05",
          "2019-05-06",
          "2019-05-07",
          "2019-05-08",
          "2019-05-09",
          "2019-05-10",
          "2019-05-11",
          "2019-05-12",
          "2019-05-13",
          "2019-05-14",
          "2019-05-15",
          "2019-05-16",
          "2019-05-17",
          "2019-05-18",
          "2019-05-19",
          "2019-05-20",
          "2019-05-21",
          "2019-05-22",
          "2019-05-23",
          "2019-05-24",
          "2019-05-25",
          "2019-05-26",
          "2019-05-27",
          "2019-05-28",
          "2019-05-29",
          "2019-05-30",
          "2019-05-31",
          "2019-06-01",
          "2019-06-02",
          "2019-06-03",
          "2019-06-04",
          "2019-06-05",
          "2019-06-06",
          "2019-06-07",
          "2019-06-08",
          "2019-06-09",
          "2019-06-10",
          "2019-06-11",
          "2019-06-12",
          "2019-06-13",
          "2019-06-14",
          "2019-06-15",
          "2019-06-16",
          "2019-06-17",
          "2019-06-18",
          "2019-06-19",
          "2019-06-20",
          "2019-06-21",
          "2019-06-22",
          "2019-06-23",
          "2019-06-24",
          "2019-06-25",
          "2019-06-26",
          "2019-06-27",
          "2019-06-28",
          "2019-06-29",
          "2019-06-30",
          "2019-07-01",
          "2019-07-02",
          "2019-07-03",
          "2019-07-04",
          "2019-07-05",
          "2019-07-06",
          "2019-07-07",
          "2019-07-08",
          "2019-07-09",
          "2019-07-10",
          "2019-07-11",
          "2019-07-12",
          "2019-07-13",
          "2019-07-14",
          "2019-07-15",
          "2019-07-16",
          "2019-07-17",
          "2019-07-18",
          "2019-07-19",
          "2019-07-20",
          "2019-07-21",
          "2019-07-22",
          "2019-07-23",
          "2019-07-24",
          "2019-07-25",
          "2019-07-26",
          "2019-07-27",
          "2019-07-28",
          "2019-07-29",
          "2019-07-30",
          "2019-07-31",
          "2019-08-01",
          "2019-08-02",
          "2019-08-03",
          "2019-08-04",
          "2019-08-05",
          "2019-08-06",
          "2019-08-07",
          "2019-08-08",
          "2019-08-09",
          "2019-08-10",
          "2019-08-11",
          "2019-08-12",
          "2019-08-13",
          "2019-08-14",
          "2019-08-15",
          "2019-08-16",
          "2019-08-17",
          "2019-08-18",
          "2019-08-19",
          "2019-08-20",
          "2019-08-21",
          "2019-08-22",
          "2019-08-23",
          "2019-08-24",
          "2019-08-25",
          "2019-08-26",
          "2019-08-27",
          "2019-08-28",
          "2019-08-29",
          "2019-08-30",
          "2019-08-31",
          "2019-09-01",
          "2019-09-02",
          "2019-09-03",
          "2019-09-04",
          "2019-09-05",
          "2019-09-06",
          "2019-09-07",
          "2019-09-08",
          "2019-09-09",
          "2019-09-10",
          "2019-09-11",
          "2019-09-12",
          "2019-09-13",
          "2019-09-14",
          "2019-09-15",
          "2019-09-16",
          "2019-09-17",
          "2019-09-18",
          "2019-09-19",
          "2019-09-20",
          "2019-09-21",
          "2019-09-22",
          "2019-09-23",
          "2019-09-24",
          "2019-09-25",
          "2019-09-26",
          "2019-09-27",
          "2019-09-28",
          "2019-09-29",
          "2019-09-30",
          "2019-10-01",
          "2019-10-02",
          "2019-10-03",
          "2019-10-04",
          "2019-10-05",
          "2019-10-06",
          "2019-10-07",
          "2019-10-08",
          "2019-10-09",
          "2019-10-10",
          "2019-10-11",
          "2019-10-12",
          "2019-10-13",
          "2019-10-14",
          "2019-10-15",
          "2019-10-16",
          "2019-10-17",
          "2019-10-18",
          "2019-10-19",
          "2019-10-20",
          "2019-10-21",
          "2019-10-22",
          "2019-10-23",
          "2019-10-24",
          "2019-10-25",
          "2019-10-26",
          "2019-10-27",
          "2019-10-28",
          "2019-10-29",
          "2019-10-30",
          "2019-10-31",
          "2019-11-01",
          "2019-11-02",
          "2019-11-03",
          "2019-11-04",
          "2019-11-05",
          "2019-11-06",
          "2019-11-07",
          "2019-11-08",
          "2019-11-09",
          "2019-11-10",
          "2019-11-11",
          "2019-11-12",
          "2019-11-13",
          "2019-11-14",
          "2019-11-15",
          "2019-11-16",
          "2019-11-17",
          "2019-11-18",
          "2019-11-19",
          "2019-11-20",
          "2019-11-21",
          "2019-11-22",
          "2019-11-23",
          "2019-11-24",
          "2019-11-25",
          "2019-11-26",
          "2019-11-27",
          "2019-11-28",
          "2019-11-29",
          "2019-11-30",
          "2019-12-01",
          "2019-12-02",
          "2019-12-03",
          "2019-12-04",
          "2019-12-05",
          "2019-12-06",
          "2019-12-07",
          "2019-12-08",
          "2019-12-09",
          "2019-12-10",
          "2019-12-11",
          "2019-12-12",
          "2019-12-13",
          "2019-12-14",
          "2019-12-15",
          "2019-12-16",
          "2019-12-17",
          "2019-12-18",
          "2019-12-19",
          "2019-12-20",
          "2019-12-21",
          "2019-12-22",
          "2019-12-23",
          "2019-12-24",
          "2019-12-25",
          "2019-12-26",
          "2019-12-27",
          "2019-12-28",
          "2019-12-29",
          "2019-12-30",
          "2019-12-31"
         ],
         "xaxis": "x3",
         "y": [
          5.1,
          3.3,
          3.3,
          3.3,
          6.9,
          3.3,
          3.3,
          5.1,
          5.1,
          8.7,
          8.7,
          8.7,
          3.3,
          5.1,
          3.4,
          3.4,
          8.7,
          3.4,
          3.4,
          3.4,
          3.4,
          3.4,
          5.2,
          5.2,
          6.9,
          8.7,
          9.6,
          4.8,
          4.8,
          6.5,
          6.6,
          9.8,
          9.8,
          8.3,
          4.9,
          9.9,
          6.6,
          6.6,
          10,
          9.9,
          5,
          8.3,
          10.1,
          8.3,
          5.1,
          5.1,
          10,
          10,
          5.1,
          5.2,
          5.2,
          10.4,
          10.8,
          10.8,
          10.9,
          10.9,
          11,
          11,
          7,
          5.5,
          10.1,
          11.1,
          10.1,
          7.1,
          8.6,
          11.6,
          10.2,
          10.2,
          11.6,
          7.3,
          8.8,
          10.2,
          7.4,
          8.8,
          8.8,
          6,
          10.2,
          8.8,
          10.2,
          8.8,
          7.5,
          6.1,
          11.6,
          10.2,
          10.3,
          6.4,
          9,
          6.4,
          7.7,
          11.6,
          7.7,
          7.8,
          9,
          7.8,
          9.1,
          9.1,
          6.6,
          6.6,
          6.6,
          9.1,
          7.9,
          7.9,
          11.6,
          10.4,
          10.4,
          11.6,
          11.6,
          11.6,
          11.6,
          11.6,
          11.6,
          11.6,
          9.3,
          11.6,
          12.2,
          13.4,
          10.2,
          14.5,
          9.2,
          9.2,
          14.5,
          9.2,
          14.5,
          14.5,
          14.5,
          14.5,
          14.5,
          13.5,
          14.5,
          12.4,
          13.5,
          11.4,
          14.5,
          13.5,
          13.5,
          14.5,
          13.5,
          12.5,
          14.5,
          14.5,
          14.5,
          14.5,
          14.5,
          11.5,
          11.5,
          12.5,
          14.5,
          13.5,
          13.5,
          11.6,
          9.6,
          11.6,
          11.6,
          11.6,
          11.6,
          9.7,
          9.7,
          11.6,
          15.9,
          15.9,
          15.9,
          11.9,
          15.6,
          12.9,
          12.9,
          14.7,
          14.7,
          12.9,
          12.9,
          13.8,
          16,
          16,
          16,
          16,
          16,
          16,
          16,
          15.9,
          15.9,
          15.9,
          15.9,
          15.9,
          15.9,
          15.6,
          14.7,
          14.7,
          15.9,
          15.9,
          15.8,
          15.8,
          15.8,
          15.8,
          15.8,
          15.8,
          14.5,
          14.5,
          14.5,
          14.5,
          14.5,
          11.5,
          14.5,
          11.5,
          14.5,
          12.5,
          14.5,
          14.5,
          14.5,
          13.5,
          13.5,
          10.4,
          10.4,
          14.5,
          14.5,
          14.5,
          14.5,
          14.5,
          14.5,
          14.5,
          13.4,
          13.4,
          13.4,
          13.4,
          14.5,
          12.4,
          14.2,
          11.6,
          11.6,
          10.5,
          11.6,
          11.6,
          11.6,
          9.3,
          10.4,
          11.6,
          11.6,
          11.6,
          10.4,
          10.4,
          10.4,
          11.6,
          10.4,
          10.4,
          11.6,
          11.6,
          11.6,
          11.6,
          11.6,
          11.6,
          10.3,
          10.3,
          11.6,
          11.6,
          11.6,
          11.6,
          11.6,
          6.4,
          11.6,
          11.6,
          10.3,
          11.6,
          9,
          9,
          10.3,
          11.6,
          7.6,
          6.2,
          10.2,
          10.2,
          11.6,
          11.6,
          11.5,
          11.5,
          11.4,
          11.4,
          7.2,
          10.1,
          11.3,
          11.3,
          8.6,
          5.6,
          11.2,
          11.1,
          10.1,
          10.1,
          11,
          11,
          8.5,
          7,
          10.9,
          10.1,
          10.8,
          10.8,
          10.8,
          10.8,
          8.5,
          10.7,
          10.7,
          10.6,
          3.8,
          7.1,
          5.4,
          3.8,
          8.7,
          5.4,
          7.1,
          8.7,
          8.7,
          8.7,
          3.7,
          3.7,
          8.7,
          8.7,
          8.7,
          8.7,
          5.2,
          5.2,
          8.7,
          8.7,
          8.7,
          8.7,
          8.7,
          8.7,
          8.7,
          5.2,
          8.7,
          3.4,
          3.4,
          8.7,
          3.4,
          6.9,
          3.4,
          5.1,
          5.1,
          8.7,
          3.3,
          3.3,
          3.3,
          5.1,
          6.9,
          3.3,
          5.1,
          3.3,
          8.7,
          8.7,
          8.7,
          5.1,
          8.7,
          8.7,
          3.3,
          6.9,
          6.9,
          5.1,
          5.1,
          6.9,
          3.3,
          3.3,
          3.3,
          6.9,
          8.7,
          8.7,
          8.7,
          8.7,
          8.7,
          3.3,
          8.7
         ],
         "yaxis": "y3"
        },
        {
         "fillcolor": "blue",
         "line": {
          "color": "blue"
         },
         "showlegend": false,
         "type": "violin",
         "xaxis": "x4",
         "y": [
          12,
          13,
          15,
          14,
          12,
          9,
          9,
          9,
          11,
          11,
          10,
          8,
          7,
          9,
          12,
          12,
          10,
          12,
          10,
          13,
          13,
          13,
          15,
          13,
          10,
          10,
          9,
          12,
          12,
          12,
          11,
          8,
          8,
          9,
          5,
          4,
          5,
          4,
          6,
          7,
          9,
          11,
          7,
          8,
          12,
          12,
          9,
          10,
          9,
          11,
          12,
          8,
          7,
          6,
          7,
          6,
          2,
          1,
          1,
          10,
          8,
          12,
          11,
          12,
          10,
          11,
          13,
          14,
          15,
          13,
          11,
          12,
          14,
          12,
          11,
          9,
          9,
          6,
          7,
          7,
          7,
          12,
          12,
          14,
          12,
          13,
          12,
          10,
          10,
          10,
          11,
          15,
          14,
          13,
          12,
          18,
          13,
          12,
          14,
          13,
          15,
          17,
          16,
          16,
          15,
          14,
          19,
          24,
          23,
          25,
          24,
          21,
          16,
          16,
          15,
          15,
          14,
          14,
          10,
          10,
          12,
          12,
          15,
          17,
          21,
          24,
          25,
          21,
          16,
          14,
          18,
          12,
          13,
          17,
          20,
          21,
          19,
          19,
          19,
          20,
          23,
          21,
          22,
          23,
          20,
          23,
          22,
          23,
          21,
          21,
          19,
          20,
          23,
          24,
          21,
          21,
          19,
          21,
          24,
          25,
          22,
          17,
          21,
          20,
          18,
          19,
          18,
          19,
          20,
          22,
          28,
          22,
          20,
          22,
          23,
          25,
          27,
          28,
          27,
          27,
          30,
          29,
          24,
          24,
          25,
          22,
          25,
          27,
          29,
          27,
          27,
          23,
          24,
          26,
          28,
          28,
          26,
          23,
          26,
          24,
          23,
          23,
          25,
          27,
          29,
          29,
          29,
          24,
          22,
          22,
          24,
          23,
          25,
          30,
          33,
          31,
          31,
          32,
          29,
          23,
          20,
          21,
          25,
          24,
          23,
          23,
          26,
          25,
          22,
          24,
          26,
          25,
          26,
          28,
          23,
          20,
          21,
          22,
          24,
          29,
          20,
          21,
          22,
          26,
          25,
          26,
          25,
          24,
          23,
          21,
          26,
          27,
          25,
          26,
          26,
          20,
          21,
          23,
          24,
          27,
          24,
          23,
          24,
          19,
          20,
          20,
          18,
          19,
          24,
          26,
          25,
          20,
          19,
          17,
          16,
          20,
          23,
          24,
          20,
          16,
          19,
          23,
          20,
          20,
          23,
          24,
          23,
          16,
          19,
          17,
          21,
          20,
          19,
          19,
          18,
          17,
          20,
          19,
          14,
          11,
          10,
          8,
          12,
          12,
          14,
          13,
          12,
          13,
          16,
          16,
          15,
          13,
          15,
          15,
          14,
          14,
          15,
          15,
          17,
          16,
          10,
          9,
          6,
          5,
          7,
          12,
          9,
          12,
          8,
          9,
          12,
          13,
          15,
          13,
          14,
          15,
          15,
          14,
          14,
          14,
          13,
          14,
          13,
          11,
          9,
          6,
          3,
          4,
          13,
          12,
          12,
          11,
          10,
          12,
          14,
          14,
          14,
          13,
          10,
          7,
          7,
          7,
          7,
          9,
          9
         ],
         "yaxis": "y4"
        },
        {
         "fillcolor": "red",
         "line": {
          "color": "red"
         },
         "showlegend": false,
         "type": "violin",
         "xaxis": "x4",
         "y": [
          9,
          8,
          6,
          5,
          6,
          5,
          10,
          10,
          7,
          7,
          10,
          9,
          10,
          10,
          9,
          8,
          9,
          7,
          11,
          7,
          7,
          8,
          7,
          7,
          11,
          10,
          8,
          8,
          9,
          7,
          8,
          9,
          7,
          8,
          7,
          10,
          12,
          11,
          11,
          12,
          11,
          10,
          12,
          10,
          13,
          15,
          14,
          15,
          12,
          12,
          13,
          17,
          17,
          18,
          14,
          15,
          19,
          20,
          13,
          14,
          13,
          14,
          11,
          13,
          12,
          11,
          12,
          13,
          12,
          11,
          11,
          10,
          11,
          13,
          11,
          11,
          11,
          12,
          13,
          15,
          18,
          17,
          13,
          12,
          12,
          13,
          14,
          16,
          17,
          19,
          18,
          12,
          10,
          10,
          10,
          10,
          14,
          12,
          16,
          14,
          14,
          14,
          12,
          9,
          14,
          15,
          19,
          21,
          24,
          21,
          21,
          19,
          18,
          14,
          13,
          14,
          13,
          12,
          16,
          18,
          17,
          15,
          15,
          11,
          12,
          15,
          14,
          15,
          15,
          15,
          16,
          16,
          16,
          18,
          18,
          17,
          17,
          14,
          17,
          18,
          20,
          21,
          21,
          20,
          19,
          17,
          19,
          15,
          15,
          20,
          25,
          29,
          23,
          20,
          19,
          16,
          18,
          15,
          18,
          16,
          17,
          15,
          16,
          18,
          19,
          18,
          19,
          25,
          28,
          20,
          20,
          20,
          23,
          27,
          23,
          26,
          31,
          34,
          34,
          32,
          26,
          24,
          25,
          26,
          28,
          30,
          31,
          28,
          27,
          25,
          28,
          26,
          26,
          27,
          26,
          26,
          29,
          27,
          22,
          26,
          25,
          26,
          33,
          39,
          33,
          32,
          22,
          23,
          23,
          24,
          21,
          23,
          27,
          29,
          29,
          26,
          25,
          23,
          25,
          28,
          23,
          23,
          23,
          22,
          22,
          20,
          22,
          22,
          19,
          21,
          21,
          23,
          26,
          28,
          30,
          33,
          30,
          33,
          29,
          24,
          25,
          30,
          23,
          23,
          24,
          26,
          20,
          19,
          23,
          22,
          21,
          17,
          22,
          22,
          24,
          28,
          29,
          31,
          21,
          27,
          23,
          23,
          27,
          28,
          21,
          20,
          20,
          17,
          19,
          19,
          19,
          20,
          21,
          19,
          19,
          19,
          17,
          18,
          18,
          14,
          18,
          16,
          18,
          20,
          21,
          20,
          20,
          16,
          16,
          17,
          16,
          16,
          15,
          16,
          16,
          15,
          14,
          18,
          19,
          15,
          12,
          14,
          17,
          16,
          17,
          14,
          14,
          13,
          12,
          13,
          11,
          11,
          10,
          11,
          11,
          11,
          9,
          11,
          8,
          9,
          8,
          10,
          9,
          7,
          11,
          10,
          12,
          12,
          13,
          14,
          13,
          13,
          13,
          9,
          7,
          7,
          7,
          8,
          7,
          11,
          13,
          13,
          11,
          11,
          9,
          12,
          10,
          12,
          10,
          11,
          12,
          12,
          13,
          12,
          11,
          10,
          10,
          14,
          11,
          12,
          13,
          11,
          9,
          12,
          10
         ],
         "yaxis": "y4"
        }
       ],
       "layout": {
        "annotations": [
         {
          "font": {
           "size": 16
          },
          "showarrow": false,
          "text": "Vitesse du vent en nombre de jours (y)",
          "x": 0.225,
          "xanchor": "center",
          "xref": "paper",
          "y": 1,
          "yanchor": "bottom",
          "yref": "paper"
         },
         {
          "font": {
           "size": 16
          },
          "showarrow": false,
          "text": "Quantité de pluie en mm",
          "x": 0.775,
          "xanchor": "center",
          "xref": "paper",
          "y": 1,
          "yanchor": "bottom",
          "yref": "paper"
         },
         {
          "font": {
           "size": 16
          },
          "showarrow": false,
          "text": "Heures de soleil",
          "x": 0.225,
          "xanchor": "center",
          "xref": "paper",
          "y": 0.375,
          "yanchor": "bottom",
          "yref": "paper"
         },
         {
          "font": {
           "size": 16
          },
          "showarrow": false,
          "text": "Température max par jour(en °C)",
          "x": 0.775,
          "xanchor": "center",
          "xref": "paper",
          "y": 0.375,
          "yanchor": "bottom",
          "yref": "paper"
         }
        ],
        "autosize": false,
        "height": 900,
        "template": {
         "data": {
          "bar": [
           {
            "error_x": {
             "color": "#2a3f5f"
            },
            "error_y": {
             "color": "#2a3f5f"
            },
            "marker": {
             "line": {
              "color": "#E5ECF6",
              "width": 0.5
             },
             "pattern": {
              "fillmode": "overlay",
              "size": 10,
              "solidity": 0.2
             }
            },
            "type": "bar"
           }
          ],
          "barpolar": [
           {
            "marker": {
             "line": {
              "color": "#E5ECF6",
              "width": 0.5
             },
             "pattern": {
              "fillmode": "overlay",
              "size": 10,
              "solidity": 0.2
             }
            },
            "type": "barpolar"
           }
          ],
          "carpet": [
           {
            "aaxis": {
             "endlinecolor": "#2a3f5f",
             "gridcolor": "white",
             "linecolor": "white",
             "minorgridcolor": "white",
             "startlinecolor": "#2a3f5f"
            },
            "baxis": {
             "endlinecolor": "#2a3f5f",
             "gridcolor": "white",
             "linecolor": "white",
             "minorgridcolor": "white",
             "startlinecolor": "#2a3f5f"
            },
            "type": "carpet"
           }
          ],
          "choropleth": [
           {
            "colorbar": {
             "outlinewidth": 0,
             "ticks": ""
            },
            "type": "choropleth"
           }
          ],
          "contour": [
           {
            "colorbar": {
             "outlinewidth": 0,
             "ticks": ""
            },
            "colorscale": [
             [
              0,
              "#0d0887"
             ],
             [
              0.1111111111111111,
              "#46039f"
             ],
             [
              0.2222222222222222,
              "#7201a8"
             ],
             [
              0.3333333333333333,
              "#9c179e"
             ],
             [
              0.4444444444444444,
              "#bd3786"
             ],
             [
              0.5555555555555556,
              "#d8576b"
             ],
             [
              0.6666666666666666,
              "#ed7953"
             ],
             [
              0.7777777777777778,
              "#fb9f3a"
             ],
             [
              0.8888888888888888,
              "#fdca26"
             ],
             [
              1,
              "#f0f921"
             ]
            ],
            "type": "contour"
           }
          ],
          "contourcarpet": [
           {
            "colorbar": {
             "outlinewidth": 0,
             "ticks": ""
            },
            "type": "contourcarpet"
           }
          ],
          "heatmap": [
           {
            "colorbar": {
             "outlinewidth": 0,
             "ticks": ""
            },
            "colorscale": [
             [
              0,
              "#0d0887"
             ],
             [
              0.1111111111111111,
              "#46039f"
             ],
             [
              0.2222222222222222,
              "#7201a8"
             ],
             [
              0.3333333333333333,
              "#9c179e"
             ],
             [
              0.4444444444444444,
              "#bd3786"
             ],
             [
              0.5555555555555556,
              "#d8576b"
             ],
             [
              0.6666666666666666,
              "#ed7953"
             ],
             [
              0.7777777777777778,
              "#fb9f3a"
             ],
             [
              0.8888888888888888,
              "#fdca26"
             ],
             [
              1,
              "#f0f921"
             ]
            ],
            "type": "heatmap"
           }
          ],
          "heatmapgl": [
           {
            "colorbar": {
             "outlinewidth": 0,
             "ticks": ""
            },
            "colorscale": [
             [
              0,
              "#0d0887"
             ],
             [
              0.1111111111111111,
              "#46039f"
             ],
             [
              0.2222222222222222,
              "#7201a8"
             ],
             [
              0.3333333333333333,
              "#9c179e"
             ],
             [
              0.4444444444444444,
              "#bd3786"
             ],
             [
              0.5555555555555556,
              "#d8576b"
             ],
             [
              0.6666666666666666,
              "#ed7953"
             ],
             [
              0.7777777777777778,
              "#fb9f3a"
             ],
             [
              0.8888888888888888,
              "#fdca26"
             ],
             [
              1,
              "#f0f921"
             ]
            ],
            "type": "heatmapgl"
           }
          ],
          "histogram": [
           {
            "marker": {
             "pattern": {
              "fillmode": "overlay",
              "size": 10,
              "solidity": 0.2
             }
            },
            "type": "histogram"
           }
          ],
          "histogram2d": [
           {
            "colorbar": {
             "outlinewidth": 0,
             "ticks": ""
            },
            "colorscale": [
             [
              0,
              "#0d0887"
             ],
             [
              0.1111111111111111,
              "#46039f"
             ],
             [
              0.2222222222222222,
              "#7201a8"
             ],
             [
              0.3333333333333333,
              "#9c179e"
             ],
             [
              0.4444444444444444,
              "#bd3786"
             ],
             [
              0.5555555555555556,
              "#d8576b"
             ],
             [
              0.6666666666666666,
              "#ed7953"
             ],
             [
              0.7777777777777778,
              "#fb9f3a"
             ],
             [
              0.8888888888888888,
              "#fdca26"
             ],
             [
              1,
              "#f0f921"
             ]
            ],
            "type": "histogram2d"
           }
          ],
          "histogram2dcontour": [
           {
            "colorbar": {
             "outlinewidth": 0,
             "ticks": ""
            },
            "colorscale": [
             [
              0,
              "#0d0887"
             ],
             [
              0.1111111111111111,
              "#46039f"
             ],
             [
              0.2222222222222222,
              "#7201a8"
             ],
             [
              0.3333333333333333,
              "#9c179e"
             ],
             [
              0.4444444444444444,
              "#bd3786"
             ],
             [
              0.5555555555555556,
              "#d8576b"
             ],
             [
              0.6666666666666666,
              "#ed7953"
             ],
             [
              0.7777777777777778,
              "#fb9f3a"
             ],
             [
              0.8888888888888888,
              "#fdca26"
             ],
             [
              1,
              "#f0f921"
             ]
            ],
            "type": "histogram2dcontour"
           }
          ],
          "mesh3d": [
           {
            "colorbar": {
             "outlinewidth": 0,
             "ticks": ""
            },
            "type": "mesh3d"
           }
          ],
          "parcoords": [
           {
            "line": {
             "colorbar": {
              "outlinewidth": 0,
              "ticks": ""
             }
            },
            "type": "parcoords"
           }
          ],
          "pie": [
           {
            "automargin": true,
            "type": "pie"
           }
          ],
          "scatter": [
           {
            "fillpattern": {
             "fillmode": "overlay",
             "size": 10,
             "solidity": 0.2
            },
            "type": "scatter"
           }
          ],
          "scatter3d": [
           {
            "line": {
             "colorbar": {
              "outlinewidth": 0,
              "ticks": ""
             }
            },
            "marker": {
             "colorbar": {
              "outlinewidth": 0,
              "ticks": ""
             }
            },
            "type": "scatter3d"
           }
          ],
          "scattercarpet": [
           {
            "marker": {
             "colorbar": {
              "outlinewidth": 0,
              "ticks": ""
             }
            },
            "type": "scattercarpet"
           }
          ],
          "scattergeo": [
           {
            "marker": {
             "colorbar": {
              "outlinewidth": 0,
              "ticks": ""
             }
            },
            "type": "scattergeo"
           }
          ],
          "scattergl": [
           {
            "marker": {
             "colorbar": {
              "outlinewidth": 0,
              "ticks": ""
             }
            },
            "type": "scattergl"
           }
          ],
          "scattermapbox": [
           {
            "marker": {
             "colorbar": {
              "outlinewidth": 0,
              "ticks": ""
             }
            },
            "type": "scattermapbox"
           }
          ],
          "scatterpolar": [
           {
            "marker": {
             "colorbar": {
              "outlinewidth": 0,
              "ticks": ""
             }
            },
            "type": "scatterpolar"
           }
          ],
          "scatterpolargl": [
           {
            "marker": {
             "colorbar": {
              "outlinewidth": 0,
              "ticks": ""
             }
            },
            "type": "scatterpolargl"
           }
          ],
          "scatterternary": [
           {
            "marker": {
             "colorbar": {
              "outlinewidth": 0,
              "ticks": ""
             }
            },
            "type": "scatterternary"
           }
          ],
          "surface": [
           {
            "colorbar": {
             "outlinewidth": 0,
             "ticks": ""
            },
            "colorscale": [
             [
              0,
              "#0d0887"
             ],
             [
              0.1111111111111111,
              "#46039f"
             ],
             [
              0.2222222222222222,
              "#7201a8"
             ],
             [
              0.3333333333333333,
              "#9c179e"
             ],
             [
              0.4444444444444444,
              "#bd3786"
             ],
             [
              0.5555555555555556,
              "#d8576b"
             ],
             [
              0.6666666666666666,
              "#ed7953"
             ],
             [
              0.7777777777777778,
              "#fb9f3a"
             ],
             [
              0.8888888888888888,
              "#fdca26"
             ],
             [
              1,
              "#f0f921"
             ]
            ],
            "type": "surface"
           }
          ],
          "table": [
           {
            "cells": {
             "fill": {
              "color": "#EBF0F8"
             },
             "line": {
              "color": "white"
             }
            },
            "header": {
             "fill": {
              "color": "#C8D4E3"
             },
             "line": {
              "color": "white"
             }
            },
            "type": "table"
           }
          ]
         },
         "layout": {
          "annotationdefaults": {
           "arrowcolor": "#2a3f5f",
           "arrowhead": 0,
           "arrowwidth": 1
          },
          "autotypenumbers": "strict",
          "coloraxis": {
           "colorbar": {
            "outlinewidth": 0,
            "ticks": ""
           }
          },
          "colorscale": {
           "diverging": [
            [
             0,
             "#8e0152"
            ],
            [
             0.1,
             "#c51b7d"
            ],
            [
             0.2,
             "#de77ae"
            ],
            [
             0.3,
             "#f1b6da"
            ],
            [
             0.4,
             "#fde0ef"
            ],
            [
             0.5,
             "#f7f7f7"
            ],
            [
             0.6,
             "#e6f5d0"
            ],
            [
             0.7,
             "#b8e186"
            ],
            [
             0.8,
             "#7fbc41"
            ],
            [
             0.9,
             "#4d9221"
            ],
            [
             1,
             "#276419"
            ]
           ],
           "sequential": [
            [
             0,
             "#0d0887"
            ],
            [
             0.1111111111111111,
             "#46039f"
            ],
            [
             0.2222222222222222,
             "#7201a8"
            ],
            [
             0.3333333333333333,
             "#9c179e"
            ],
            [
             0.4444444444444444,
             "#bd3786"
            ],
            [
             0.5555555555555556,
             "#d8576b"
            ],
            [
             0.6666666666666666,
             "#ed7953"
            ],
            [
             0.7777777777777778,
             "#fb9f3a"
            ],
            [
             0.8888888888888888,
             "#fdca26"
            ],
            [
             1,
             "#f0f921"
            ]
           ],
           "sequentialminus": [
            [
             0,
             "#0d0887"
            ],
            [
             0.1111111111111111,
             "#46039f"
            ],
            [
             0.2222222222222222,
             "#7201a8"
            ],
            [
             0.3333333333333333,
             "#9c179e"
            ],
            [
             0.4444444444444444,
             "#bd3786"
            ],
            [
             0.5555555555555556,
             "#d8576b"
            ],
            [
             0.6666666666666666,
             "#ed7953"
            ],
            [
             0.7777777777777778,
             "#fb9f3a"
            ],
            [
             0.8888888888888888,
             "#fdca26"
            ],
            [
             1,
             "#f0f921"
            ]
           ]
          },
          "colorway": [
           "#636efa",
           "#EF553B",
           "#00cc96",
           "#ab63fa",
           "#FFA15A",
           "#19d3f3",
           "#FF6692",
           "#B6E880",
           "#FF97FF",
           "#FECB52"
          ],
          "font": {
           "color": "#2a3f5f"
          },
          "geo": {
           "bgcolor": "white",
           "lakecolor": "white",
           "landcolor": "#E5ECF6",
           "showlakes": true,
           "showland": true,
           "subunitcolor": "white"
          },
          "hoverlabel": {
           "align": "left"
          },
          "hovermode": "closest",
          "mapbox": {
           "style": "light"
          },
          "paper_bgcolor": "white",
          "plot_bgcolor": "#E5ECF6",
          "polar": {
           "angularaxis": {
            "gridcolor": "white",
            "linecolor": "white",
            "ticks": ""
           },
           "bgcolor": "#E5ECF6",
           "radialaxis": {
            "gridcolor": "white",
            "linecolor": "white",
            "ticks": ""
           }
          },
          "scene": {
           "xaxis": {
            "backgroundcolor": "#E5ECF6",
            "gridcolor": "white",
            "gridwidth": 2,
            "linecolor": "white",
            "showbackground": true,
            "ticks": "",
            "zerolinecolor": "white"
           },
           "yaxis": {
            "backgroundcolor": "#E5ECF6",
            "gridcolor": "white",
            "gridwidth": 2,
            "linecolor": "white",
            "showbackground": true,
            "ticks": "",
            "zerolinecolor": "white"
           },
           "zaxis": {
            "backgroundcolor": "#E5ECF6",
            "gridcolor": "white",
            "gridwidth": 2,
            "linecolor": "white",
            "showbackground": true,
            "ticks": "",
            "zerolinecolor": "white"
           }
          },
          "shapedefaults": {
           "line": {
            "color": "#2a3f5f"
           }
          },
          "ternary": {
           "aaxis": {
            "gridcolor": "white",
            "linecolor": "white",
            "ticks": ""
           },
           "baxis": {
            "gridcolor": "white",
            "linecolor": "white",
            "ticks": ""
           },
           "bgcolor": "#E5ECF6",
           "caxis": {
            "gridcolor": "white",
            "linecolor": "white",
            "ticks": ""
           }
          },
          "title": {
           "x": 0.05
          },
          "xaxis": {
           "automargin": true,
           "gridcolor": "white",
           "linecolor": "white",
           "ticks": "",
           "title": {
            "standoff": 15
           },
           "zerolinecolor": "white",
           "zerolinewidth": 2
          },
          "yaxis": {
           "automargin": true,
           "gridcolor": "white",
           "linecolor": "white",
           "ticks": "",
           "title": {
            "standoff": 15
           },
           "zerolinecolor": "white",
           "zerolinewidth": 2
          }
         }
        },
        "title": {
         "text": "Groupement des 4 figures en Plotly via subplots",
         "x": 0.5
        },
        "width": 1100,
        "xaxis": {
         "anchor": "y",
         "domain": [
          0,
          0.45
         ]
        },
        "xaxis2": {
         "anchor": "y2",
         "domain": [
          0.55,
          1
         ]
        },
        "xaxis3": {
         "anchor": "y3",
         "domain": [
          0,
          0.45
         ],
         "ticktext": [
          "Jan",
          "Mars",
          "Mai",
          "Juil",
          "Sept",
          "Nov",
          "Jan"
         ],
         "tickvals": [
          "2018-01-01",
          "2018-03-01",
          "2018-05-01",
          "2018-07-01",
          "2018-09-01",
          "2018-11-01",
          "2019-01-01"
         ]
        },
        "xaxis4": {
         "anchor": "y4",
         "domain": [
          0.55,
          1
         ],
         "visible": false
        },
        "yaxis": {
         "anchor": "x",
         "domain": [
          0.625,
          1
         ],
         "title": {
          "text": "nb jours"
         }
        },
        "yaxis2": {
         "anchor": "x2",
         "domain": [
          0.625,
          1
         ]
        },
        "yaxis3": {
         "anchor": "x3",
         "domain": [
          0,
          0.375
         ]
        },
        "yaxis4": {
         "anchor": "x4",
         "domain": [
          0,
          0.375
         ]
        }
       }
      }
     },
     "metadata": {},
     "output_type": "display_data"
    }
   ],
   "source": [
    "from textwrap import fill\n",
    "from turtle import color, title\n",
    "from matplotlib.axis import XAxis\n",
    "from matplotlib.pyplot import xticks\n",
    "from numpy import True_\n",
    "from plotly.subplots import make_subplots\n",
    "import plotly.graph_objs as go\n",
    "\n",
    "# Create the subplots grid\n",
    "fig_4 = make_subplots(rows = 2, cols = 2, subplot_titles=[\"Vitesse du vent en nombre de jours (y)\",\"Quantité de pluie en mm\",\"Heures de soleil\",\"Température max par jour(en °C)\"])\n",
    "\n",
    "#Je dessine mes graph avec deux lignes distinctes pour différencier 2018 de 2019 \n",
    "#Sur un go je dois utiliser Histogram avec un H Maj qui n'utilise pas les même arguments que le histogram  de plotly et donc pas color pour ajouter la disctinction entre les deux années.\n",
    "#Pas de choses particulière sur l'Histogram \n",
    "fig_4.add_trace(go.Histogram( x = weather_db_total['WINDSPEED_MAX_KMH'][weather_db_total['YEAR'] == '2018'], name='2018'), row = 1, col = 1)\n",
    "fig_4.add_trace(go.Histogram( x = weather_db_total['WINDSPEED_MAX_KMH'][weather_db_total['YEAR'] == '2019'], name='2019'), row = 1, col = 1)\n",
    "\n",
    "#Sur un Box je dois spécifier les couleurs pour les deux années, ainsi que la couleur de la ligne (les valeurs des points), \n",
    "# je supprime aussi la légende puisque celle de l'Histogram est suffisante (les deux dates) J'ajoute un label. Le \\ c'est pour couper la ligne\n",
    "fig_4.add_trace(go.Box(x = weather_db_total['PRECIP_TOTAL_DAY_MM'][weather_db_total['YEAR'] == '2018'],\\\n",
    "                        fillcolor=\"blue\",line=dict(color='blue'),showlegend=False, name=\"2018\"), row = 1, col = 2)\n",
    "fig_4.add_trace(go.Box(x = weather_db_total['PRECIP_TOTAL_DAY_MM'][weather_db_total['YEAR'] == '2019'], \\\n",
    "                       fillcolor=\"red\",line=dict(color='red'), showlegend=False, name=\"2019\"), row = 1, col = 2)\n",
    "\n",
    "#même situation que la précédente sauf que la couleur se fait par les marqueurs\n",
    "fig_4.add_trace(go.Scatter( y=weather_db_total['SUNHOUR'][weather_db_total['YEAR'] == '2019'], \\\n",
    "                           x=weather_db_total['DATE'],showlegend=False, mode='markers', marker_color='red', name=\"\"), row = 2, col = 1)\n",
    "fig_4.add_trace(go.Scatter( y=weather_db_total['SUNHOUR'][weather_db_total['YEAR'] == '2018'], \\\n",
    "                           x=weather_db_total['DATE'],showlegend=False, mode='markers', marker_color='blue', name=\"\"), row = 2, col = 1)\n",
    "\n",
    "#même situation que précédemment \n",
    "fig_4.add_trace(go.Violin( y=weather_db_total['MAX_TEMPERATURE_C'][weather_db_total['YEAR'] == '2018'], \\\n",
    "                          fillcolor=\"blue\",line=dict(color='blue'),showlegend=False), row = 2, col = 2)\n",
    "fig_4.add_trace(go.Violin( y=weather_db_total['MAX_TEMPERATURE_C'][weather_db_total['YEAR'] == '2019'], \\\n",
    "                          fillcolor=\"red\",line=dict(color='red'),showlegend=False), row = 2, col = 2)\n",
    "\n",
    "#Ajout des labels des axes et je cache les inutiles à modifier\n",
    "#fig_4['layout']['xaxis']['title']='Label x-axis 1'\n",
    "#fig_4['layout']['xaxis2']['title']='label x-axis 2'\n",
    "fig_4['layout']['yaxis']['title']='nb jours'\n",
    "#fig_4['layout']['yaxis2']['title']='Label y-axis 2'\n",
    "#fig_4['layout']['xaxis3']['title']='Label x-axis 3'\n",
    "#fig_4['layout']['xaxis4']['title']='Label x-axis 4'\n",
    "#fig_4['layout']['yaxis3']['title']='Label y-axis 3'\n",
    "#fig_4['layout']['yaxis4']['title']='Label y-axis 4'\n",
    "\n",
    "#Création de liste pour refaire les ticks du 3ème graph qui affiche 2018 alors que les données concernent les deux années.\n",
    "liste_dates =['2018-01-01','2018-03-01','2018-05-01','2018-07-01','2018-09-01','2018-11-01','2019-01-01']\n",
    "liste_nom_dates =['Jan', 'Mars', 'Mai', 'Juil', 'Sept', 'Nov', 'Jan']\n",
    "\n",
    "#suppression de la visibilité de l'axe x du graph 4 Toutes sont configurables via row et col\n",
    "fig_4.update_xaxes(visible=False, row=2, col=2)\n",
    "fig_4.update_xaxes( row=2, col=1, tickvals=liste_dates , ticktext=liste_nom_dates)\n",
    "\n",
    "\n",
    "\n",
    "#Ajout d'un titre\n",
    "fig_4.update_layout(\n",
    "    title = 'Groupement des 4 figures en Plotly via subplots', \n",
    "    title_x = 0.5,\n",
    "    autosize=False,\n",
    "    width=1100,\n",
    "    height=900\n",
    "    )\n",
    "\n",
    "#je montre la figure\n",
    "fig_4.show()"
   ]
  },
  {
   "cell_type": "code",
   "execution_count": null,
   "metadata": {},
   "outputs": [
    {
     "data": {
      "text/plain": [
       "Index(['DATE', 'MAX_TEMPERATURE_C', 'MIN_TEMPERATURE_C', 'WINDSPEED_MAX_KMH',\n",
       "       'TEMPERATURE_MORNING_C', 'TEMPERATURE_NOON_C', 'TEMPERATURE_EVENING_C',\n",
       "       'PRECIP_TOTAL_DAY_MM', 'HUMIDITY_MAX_PERCENT', 'VISIBILITY_AVG_KM',\n",
       "       'PRESSURE_MAX_MB', 'CLOUDCOVER_AVG_PERCENT', 'HEATINDEX_MAX_C',\n",
       "       'DEWPOINT_MAX_C', 'WINDTEMP_MAX_C', 'WEATHER_CODE_EVENING',\n",
       "       'TOTAL_SNOW_MM', 'UV_INDEX', 'SUNHOUR', 'OPINION', 'flag', 'MONTH',\n",
       "       'DAY', 'WEATHER_CODE_MORNING', 'WEATHER_CODE_NOON', 'YEAR'],\n",
       "      dtype='object')"
      ]
     },
     "execution_count": 51,
     "metadata": {},
     "output_type": "execute_result"
    }
   ],
   "source": [
    "#Pour avoir les noms des colonnes\n",
    "weather_db_total.columns"
   ]
  },
  {
   "cell_type": "markdown",
   "metadata": {},
   "source": [
    "Version de Phil, automatisation sns (non testée)"
   ]
  },
  {
   "cell_type": "code",
   "execution_count": null,
   "metadata": {},
   "outputs": [],
   "source": [
    "Automatisation & utilisation des variables :\n",
    "# COULEURS\n",
    "colors = {'2018' : 'blue', '2019' : 'dodgerblue'}\n",
    "# DICTIONNAIRE\n",
    "    # KEY : POSITION,\n",
    "    # VALUE : (DANS UNE LISTE)\n",
    "    #         1. FIGURE\n",
    "    #         2. COLONNE X\n",
    "    #         3. COLONNE Y\n",
    "    #         4. HUE\n",
    "    #         5. TITLE\n",
    "    #         6. XLABEL\n",
    "    #         7. YLABEL\n",
    "dict_viz = {\n",
    "            221 : [sns.histplot, 'WINDSPEED_MAX_KMH', '', 'YEAR', 'WIND SPEED', 'Speed Km/h', 'Nb of days'],\n",
    "            222 : [sns.boxplot, 'YEAR', 'PRECIP_TOTAL_DAY_MM', '', '2018 vs 2019 PRECIPITATIONS', 'Year', 'Millimeters of precipitation'],\n",
    "            223 : [sns.scatterplot, 'DATE', 'SUNHOUR', 'YEAR', 'SUNHOUR BY DAY', 'Date', 'Sunhour' ],\n",
    "            224 : [sns.violinplot, 'YEAR', 'MAX_TEMPERATURE_C', '', '2018 vs 2019 TEMPERATURES', 'Year', 'T°C']\n",
    "        }\n",
    "fig, axes = plt.subplots(figsize=(25, 20))\n",
    "for position, infos in dict_viz.items():\n",
    "    # print(position, infos)\n",
    "    # FIGURE\n",
    "    plt.subplot(position)\n",
    "    # VIZ\n",
    "    infos[0](\n",
    "            data = df_all,\n",
    "            x = infos[1],\n",
    "            y = infos[2] if infos[2] != '' else None,\n",
    "            hue = infos[3] if infos[3] != '' else None,\n",
    "            palette = colors\n",
    "    )\n",
    "    # LEGENDE\n",
    "    plt.title(infos[4])\n",
    "    plt.xlabel(infos[5])\n",
    "    plt.ylabel(infos[6])"
   ]
  }
 ],
 "metadata": {
  "kernelspec": {
   "display_name": "Python 3",
   "language": "python",
   "name": "python3"
  },
  "language_info": {
   "codemirror_mode": {
    "name": "ipython",
    "version": 3
   },
   "file_extension": ".py",
   "mimetype": "text/x-python",
   "name": "python",
   "nbconvert_exporter": "python",
   "pygments_lexer": "ipython3",
   "version": "3.11.9"
  }
 },
 "nbformat": 4,
 "nbformat_minor": 2
}
