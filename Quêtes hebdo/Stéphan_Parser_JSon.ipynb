{
 "cells": [
  {
   "cell_type": "markdown",
   "metadata": {},
   "source": [
    "Dans un nouveau notebook, exécute le code ci-dessous :"
   ]
  },
  {
   "cell_type": "code",
   "execution_count": 228,
   "metadata": {},
   "outputs": [],
   "source": [
    "import json\n",
    "import requests\n",
    "\n",
    "link = \"https://raw.githubusercontent.com/WildCodeSchool/java-jsonparse/master/weather.json\"\n",
    "\n",
    "# This function gets the file content from the URL\n",
    "r = requests.get(link)\n",
    "\n",
    "# You can access to the text content with this function\n",
    "r.text\n",
    "\n",
    "data = json.loads( r.text)"
   ]
  },
  {
   "cell_type": "markdown",
   "metadata": {},
   "source": [
    "Affiche la valeur de l'attribut name\n"
   ]
  },
  {
   "cell_type": "code",
   "execution_count": 4,
   "metadata": {},
   "outputs": [
    {
     "data": {
      "text/plain": [
       "{'coord': {'lon': -0.13, 'lat': 51.51},\n",
       " 'weather': [{'id': 300,\n",
       "   'main': 'Drizzle',\n",
       "   'description': 'light intensity drizzle',\n",
       "   'icon': '09d'},\n",
       "  {'id': 800, 'main': 'Clear', 'description': 'clear sky', 'icon': '01n'}],\n",
       " 'base': 'stations',\n",
       " 'main': {'temp': 280.32,\n",
       "  'pressure': 1012,\n",
       "  'humidity': 81,\n",
       "  'temp_min': 279.15,\n",
       "  'temp_max': 281.15},\n",
       " 'visibility': 10000,\n",
       " 'wind': {'speed': 4.1, 'deg': 80},\n",
       " 'clouds': {'all': 90},\n",
       " 'dt': 1485789600,\n",
       " 'sys': {'type': 1,\n",
       "  'id': 5091,\n",
       "  'message': 0.0103,\n",
       "  'country': 'GB',\n",
       "  'sunrise': 1485762037,\n",
       "  'sunset': 1485794875},\n",
       " 'id': 2643743,\n",
       " 'name': 'London',\n",
       " 'cod': 200}"
      ]
     },
     "execution_count": 4,
     "metadata": {},
     "output_type": "execute_result"
    }
   ],
   "source": [
    "data"
   ]
  },
  {
   "cell_type": "code",
   "execution_count": null,
   "metadata": {},
   "outputs": [
    {
     "name": "stdout",
     "output_type": "stream",
     "text": [
      "City name : London\n"
     ]
    }
   ],
   "source": [
    "#on print la variable unique name avec un formatage du texte pour coller à la solution\n",
    "print('City name :',str(data['name']))"
   ]
  },
  {
   "cell_type": "markdown",
   "metadata": {},
   "source": [
    "Affiche les valeurs des attributs lat et lon de l'élément coord contenu dans la racine\n",
    "\n"
   ]
  },
  {
   "cell_type": "code",
   "execution_count": null,
   "metadata": {},
   "outputs": [
    {
     "name": "stdout",
     "output_type": "stream",
     "text": [
      "City Longitude:  -0.13\n",
      "City latitude:  51.51\n"
     ]
    }
   ],
   "source": [
    "#on va parcourir le dictionnaire coord et afficher lat et lon quand on les retrouve avec un print formater pour choisir le texte\n",
    "for ele, val in data['coord'].items():\n",
    "    if ele=='lon':\n",
    "        print(\"City Longitude: \",val)\n",
    "    if ele=='lat':\n",
    "        print(\"City latitude: \",val)"
   ]
  },
  {
   "cell_type": "markdown",
   "metadata": {},
   "source": [
    "Parcours tous les éléments dans weather et affiche le contenu de main (peut-être avec une boucle ?)"
   ]
  },
  {
   "cell_type": "code",
   "execution_count": null,
   "metadata": {},
   "outputs": [
    {
     "name": "stdout",
     "output_type": "stream",
     "text": [
      "weather :  Drizzle\n",
      "weather :  Clear\n"
     ]
    }
   ],
   "source": [
    "#on parcours le dictionnaire du data\n",
    "for ele, val in data.items():\n",
    "    #Quand on arrive à la partie weather on passe sur une liste puisque c'est une liste que l'on va parcourir\n",
    "    if ele == 'weather':\n",
    "        for index in val:\n",
    "            #Chaque valeur de cette liste est un dictionnaire que l'on parcours pour retrouver l'index main\n",
    "            for indice, valeur in index.items():\n",
    "                if indice == 'main':\n",
    "                    print(ele, \": \", valeur)"
   ]
  },
  {
   "cell_type": "markdown",
   "metadata": {},
   "source": [
    "Voici le résultat attendu de ces 3 premières questions :\n",
    "\n",
    "* City name: London\n",
    "* City latitude: 51.51\n",
    "* City longitude: -0.13\n",
    "* Weather: Drizzle\n",
    "* Weather: Clear"
   ]
  },
  {
   "cell_type": "markdown",
   "metadata": {},
   "source": [
    "Essaye maintenant d'importer ton fichier json dans pandas :"
   ]
  },
  {
   "cell_type": "code",
   "execution_count": 223,
   "metadata": {},
   "outputs": [
    {
     "data": {
      "text/html": [
       "<div>\n",
       "<style scoped>\n",
       "    .dataframe tbody tr th:only-of-type {\n",
       "        vertical-align: middle;\n",
       "    }\n",
       "\n",
       "    .dataframe tbody tr th {\n",
       "        vertical-align: top;\n",
       "    }\n",
       "\n",
       "    .dataframe thead th {\n",
       "        text-align: right;\n",
       "    }\n",
       "</style>\n",
       "<table border=\"1\" class=\"dataframe\">\n",
       "  <thead>\n",
       "    <tr style=\"text-align: right;\">\n",
       "      <th></th>\n",
       "      <th>weather</th>\n",
       "      <th>base</th>\n",
       "      <th>visibility</th>\n",
       "      <th>dt</th>\n",
       "      <th>id</th>\n",
       "      <th>name</th>\n",
       "      <th>cod</th>\n",
       "      <th>coord.lon</th>\n",
       "      <th>coord.lat</th>\n",
       "      <th>main.temp</th>\n",
       "      <th>...</th>\n",
       "      <th>main.temp_max</th>\n",
       "      <th>wind.speed</th>\n",
       "      <th>wind.deg</th>\n",
       "      <th>clouds.all</th>\n",
       "      <th>sys.type</th>\n",
       "      <th>sys.id</th>\n",
       "      <th>sys.message</th>\n",
       "      <th>sys.country</th>\n",
       "      <th>sys.sunrise</th>\n",
       "      <th>sys.sunset</th>\n",
       "    </tr>\n",
       "  </thead>\n",
       "  <tbody>\n",
       "    <tr>\n",
       "      <th>0</th>\n",
       "      <td>[{'id': 300, 'main': 'Drizzle', 'description':...</td>\n",
       "      <td>stations</td>\n",
       "      <td>10000</td>\n",
       "      <td>1485789600</td>\n",
       "      <td>2643743</td>\n",
       "      <td>London</td>\n",
       "      <td>200</td>\n",
       "      <td>-0.13</td>\n",
       "      <td>51.51</td>\n",
       "      <td>280.32</td>\n",
       "      <td>...</td>\n",
       "      <td>281.15</td>\n",
       "      <td>4.1</td>\n",
       "      <td>80</td>\n",
       "      <td>90</td>\n",
       "      <td>1</td>\n",
       "      <td>5091</td>\n",
       "      <td>0.0103</td>\n",
       "      <td>GB</td>\n",
       "      <td>1485762037</td>\n",
       "      <td>1485794875</td>\n",
       "    </tr>\n",
       "  </tbody>\n",
       "</table>\n",
       "<p>1 rows × 23 columns</p>\n",
       "</div>"
      ],
      "text/plain": [
       "                                             weather      base  visibility  \\\n",
       "0  [{'id': 300, 'main': 'Drizzle', 'description':...  stations       10000   \n",
       "\n",
       "           dt       id    name  cod  coord.lon  coord.lat  main.temp  ...  \\\n",
       "0  1485789600  2643743  London  200      -0.13      51.51     280.32  ...   \n",
       "\n",
       "   main.temp_max  wind.speed  wind.deg  clouds.all  sys.type  sys.id  \\\n",
       "0         281.15         4.1        80          90         1    5091   \n",
       "\n",
       "   sys.message  sys.country  sys.sunrise  sys.sunset  \n",
       "0       0.0103           GB   1485762037  1485794875  \n",
       "\n",
       "[1 rows x 23 columns]"
      ]
     },
     "execution_count": 223,
     "metadata": {},
     "output_type": "execute_result"
    }
   ],
   "source": [
    "import pandas as pd\n",
    "pd.json_normalize(r.json())"
   ]
  },
  {
   "cell_type": "markdown",
   "metadata": {},
   "source": [
    "Tu obtiens un DataFrame avec une seule ligne ? C'est normal, notre fichier JSON contient un premier niveau \"weather\". Nous allons indiquer à Pandas de descendre au niveau inférieur (ici dans l'enregistrement weather). Pour cela, nous utilisons le paramètre record_path. Nous pouvons aussi utiliser le paramètre meta pour indiquer de conserver des éléments d'un niveau supérieur:"
   ]
  },
  {
   "cell_type": "code",
   "execution_count": 224,
   "metadata": {},
   "outputs": [
    {
     "data": {
      "text/html": [
       "<div>\n",
       "<style scoped>\n",
       "    .dataframe tbody tr th:only-of-type {\n",
       "        vertical-align: middle;\n",
       "    }\n",
       "\n",
       "    .dataframe tbody tr th {\n",
       "        vertical-align: top;\n",
       "    }\n",
       "\n",
       "    .dataframe thead th {\n",
       "        text-align: right;\n",
       "    }\n",
       "</style>\n",
       "<table border=\"1\" class=\"dataframe\">\n",
       "  <thead>\n",
       "    <tr style=\"text-align: right;\">\n",
       "      <th></th>\n",
       "      <th>id</th>\n",
       "      <th>main</th>\n",
       "      <th>description</th>\n",
       "      <th>icon</th>\n",
       "      <th>dt</th>\n",
       "    </tr>\n",
       "  </thead>\n",
       "  <tbody>\n",
       "    <tr>\n",
       "      <th>0</th>\n",
       "      <td>300</td>\n",
       "      <td>Drizzle</td>\n",
       "      <td>light intensity drizzle</td>\n",
       "      <td>09d</td>\n",
       "      <td>1485789600</td>\n",
       "    </tr>\n",
       "    <tr>\n",
       "      <th>1</th>\n",
       "      <td>800</td>\n",
       "      <td>Clear</td>\n",
       "      <td>clear sky</td>\n",
       "      <td>01n</td>\n",
       "      <td>1485789600</td>\n",
       "    </tr>\n",
       "  </tbody>\n",
       "</table>\n",
       "</div>"
      ],
      "text/plain": [
       "    id     main              description icon          dt\n",
       "0  300  Drizzle  light intensity drizzle  09d  1485789600\n",
       "1  800    Clear                clear sky  01n  1485789600"
      ]
     },
     "execution_count": 224,
     "metadata": {},
     "output_type": "execute_result"
    }
   ],
   "source": [
    "pd.json_normalize(r.json(),  \n",
    "                  record_path= \"weather\",\n",
    "                  meta = 'dt')"
   ]
  },
  {
   "cell_type": "markdown",
   "metadata": {},
   "source": [
    "Filtre maintenant ton DataFrame avec Pandas pour afficher uniquement les colonnes suivantes : main (celui qui est à l'intérieur de weather), name, and visibility."
   ]
  },
  {
   "cell_type": "code",
   "execution_count": null,
   "metadata": {},
   "outputs": [
    {
     "data": {
      "text/html": [
       "<div>\n",
       "<style scoped>\n",
       "    .dataframe tbody tr th:only-of-type {\n",
       "        vertical-align: middle;\n",
       "    }\n",
       "\n",
       "    .dataframe tbody tr th {\n",
       "        vertical-align: top;\n",
       "    }\n",
       "\n",
       "    .dataframe thead th {\n",
       "        text-align: right;\n",
       "    }\n",
       "</style>\n",
       "<table border=\"1\" class=\"dataframe\">\n",
       "  <thead>\n",
       "    <tr style=\"text-align: right;\">\n",
       "      <th></th>\n",
       "      <th>id</th>\n",
       "      <th>main</th>\n",
       "      <th>description</th>\n",
       "      <th>icon</th>\n",
       "      <th>name</th>\n",
       "      <th>visibility</th>\n",
       "    </tr>\n",
       "  </thead>\n",
       "  <tbody>\n",
       "    <tr>\n",
       "      <th>0</th>\n",
       "      <td>300</td>\n",
       "      <td>Drizzle</td>\n",
       "      <td>light intensity drizzle</td>\n",
       "      <td>09d</td>\n",
       "      <td>London</td>\n",
       "      <td>10000</td>\n",
       "    </tr>\n",
       "    <tr>\n",
       "      <th>1</th>\n",
       "      <td>800</td>\n",
       "      <td>Clear</td>\n",
       "      <td>clear sky</td>\n",
       "      <td>01n</td>\n",
       "      <td>London</td>\n",
       "      <td>10000</td>\n",
       "    </tr>\n",
       "  </tbody>\n",
       "</table>\n",
       "</div>"
      ],
      "text/plain": [
       "    id     main              description icon    name visibility\n",
       "0  300  Drizzle  light intensity drizzle  09d  London      10000\n",
       "1  800    Clear                clear sky  01n  London      10000"
      ]
     },
     "execution_count": 149,
     "metadata": {},
     "output_type": "execute_result"
    }
   ],
   "source": [
    "#différents tests inutiles au final\n",
    "\n",
    "# for ele, val in data_1.items():\n",
    "#     if ele == \"visibility\":\n",
    "#         print(val)\n",
    "# pd.json_normalize(r.json(),   \n",
    "#                  \"weather\",\n",
    "#                 ['name','visibility']\n",
    "                \n",
    "# )\n",
    "# pd.json_normalize(r.json(),   \n",
    "#                 record_path= [\"weather\"][0],\n",
    "#                 meta=[['weather'],'name','visibility', ['main','temp']]\n",
    "                \n",
    "# )"
   ]
  },
  {
   "cell_type": "code",
   "execution_count": 227,
   "metadata": {},
   "outputs": [
    {
     "data": {
      "text/html": [
       "<div>\n",
       "<style scoped>\n",
       "    .dataframe tbody tr th:only-of-type {\n",
       "        vertical-align: middle;\n",
       "    }\n",
       "\n",
       "    .dataframe tbody tr th {\n",
       "        vertical-align: top;\n",
       "    }\n",
       "\n",
       "    .dataframe thead th {\n",
       "        text-align: right;\n",
       "    }\n",
       "</style>\n",
       "<table border=\"1\" class=\"dataframe\">\n",
       "  <thead>\n",
       "    <tr style=\"text-align: right;\">\n",
       "      <th></th>\n",
       "      <th>main</th>\n",
       "      <th>name</th>\n",
       "      <th>visibility</th>\n",
       "    </tr>\n",
       "  </thead>\n",
       "  <tbody>\n",
       "    <tr>\n",
       "      <th>0</th>\n",
       "      <td>Drizzle</td>\n",
       "      <td>London</td>\n",
       "      <td>10000</td>\n",
       "    </tr>\n",
       "    <tr>\n",
       "      <th>1</th>\n",
       "      <td>Clear</td>\n",
       "      <td>London</td>\n",
       "      <td>10000</td>\n",
       "    </tr>\n",
       "  </tbody>\n",
       "</table>\n",
       "</div>"
      ],
      "text/plain": [
       "      main    name visibility\n",
       "0  Drizzle  London      10000\n",
       "1    Clear  London      10000"
      ]
     },
     "execution_count": 227,
     "metadata": {},
     "output_type": "execute_result"
    }
   ],
   "source": [
    "#on récupère les informations souhaitées\n",
    "df_filtre = pd.json_normalize(r.json(),\n",
    "                record_path=['weather'],\n",
    "                meta=['name','visibility']\n",
    "                )\n",
    "#on filtre le dataset récupéré\n",
    "df_filtre[['main','name','visibility']]\n",
    "\n",
    "#ou\n",
    "\n",
    "df_filtre.loc[:,['main','name','visibility']]"
   ]
  }
 ],
 "metadata": {
  "kernelspec": {
   "display_name": "Python 3",
   "language": "python",
   "name": "python3"
  },
  "language_info": {
   "codemirror_mode": {
    "name": "ipython",
    "version": 3
   },
   "file_extension": ".py",
   "mimetype": "text/x-python",
   "name": "python",
   "nbconvert_exporter": "python",
   "pygments_lexer": "ipython3",
   "version": "3.11.9"
  }
 },
 "nbformat": 4,
 "nbformat_minor": 2
}
