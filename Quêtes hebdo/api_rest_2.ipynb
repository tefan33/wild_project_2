{
 "cells": [
  {
   "cell_type": "code",
   "execution_count": 104,
   "metadata": {},
   "outputs": [],
   "source": [
    "# lecture du fichier csv en ligne pour l'analyser\n",
    "\n",
    "# import de pandas\n",
    "import datetime as dt\n",
    "import pandas as pd\n",
    "\n",
    "link = \"https://raw.githubusercontent.com/murpi/wilddata/master/quests/flower_color_symbolism.csv\"\n",
    "\n",
    "df = pd.read_csv(link)"
   ]
  },
  {
   "cell_type": "code",
   "execution_count": 21,
   "metadata": {},
   "outputs": [
    {
     "data": {
      "text/html": [
       "<div>\n",
       "<style scoped>\n",
       "    .dataframe tbody tr th:only-of-type {\n",
       "        vertical-align: middle;\n",
       "    }\n",
       "\n",
       "    .dataframe tbody tr th {\n",
       "        vertical-align: top;\n",
       "    }\n",
       "\n",
       "    .dataframe thead th {\n",
       "        text-align: right;\n",
       "    }\n",
       "</style>\n",
       "<table border=\"1\" class=\"dataframe\">\n",
       "  <thead>\n",
       "    <tr style=\"text-align: right;\">\n",
       "      <th></th>\n",
       "      <th>Flower Color</th>\n",
       "      <th>Meaning</th>\n",
       "    </tr>\n",
       "  </thead>\n",
       "  <tbody>\n",
       "    <tr>\n",
       "      <th>0</th>\n",
       "      <td>Red Flowers</td>\n",
       "      <td>Fresh red flowers send the clear and powerful ...</td>\n",
       "    </tr>\n",
       "    <tr>\n",
       "      <th>1</th>\n",
       "      <td>Orange Flowers</td>\n",
       "      <td>If one could capture and concentrate the sun t...</td>\n",
       "    </tr>\n",
       "    <tr>\n",
       "      <th>2</th>\n",
       "      <td>Yellow Flowers</td>\n",
       "      <td>Yellow flowers represent friendship and filial...</td>\n",
       "    </tr>\n",
       "    <tr>\n",
       "      <th>3</th>\n",
       "      <td>Green Flowers</td>\n",
       "      <td>Bright healthy green in an arrangement represe...</td>\n",
       "    </tr>\n",
       "    <tr>\n",
       "      <th>4</th>\n",
       "      <td>Blue Flowers</td>\n",
       "      <td>Rich deep blues found in the beautiful hydrang...</td>\n",
       "    </tr>\n",
       "    <tr>\n",
       "      <th>5</th>\n",
       "      <td>Purple Flowers</td>\n",
       "      <td>Purple flowers have an enchanted other worldly...</td>\n",
       "    </tr>\n",
       "    <tr>\n",
       "      <th>6</th>\n",
       "      <td>White Flowers</td>\n",
       "      <td>Fresh white flowers are most closely associate...</td>\n",
       "    </tr>\n",
       "  </tbody>\n",
       "</table>\n",
       "</div>"
      ],
      "text/plain": [
       "    Flower Color                                             Meaning\n",
       "0     Red Flowers  Fresh red flowers send the clear and powerful ...\n",
       "1  Orange Flowers  If one could capture and concentrate the sun t...\n",
       "2  Yellow Flowers  Yellow flowers represent friendship and filial...\n",
       "3   Green Flowers  Bright healthy green in an arrangement represe...\n",
       "4    Blue Flowers  Rich deep blues found in the beautiful hydrang...\n",
       "5  Purple Flowers  Purple flowers have an enchanted other worldly...\n",
       "6   White Flowers  Fresh white flowers are most closely associate..."
      ]
     },
     "execution_count": 21,
     "metadata": {},
     "output_type": "execute_result"
    }
   ],
   "source": [
    "df"
   ]
  },
  {
   "cell_type": "code",
   "execution_count": 105,
   "metadata": {},
   "outputs": [],
   "source": [
    "# création d'une colonne\n",
    "df['color'] = df['Flower Color '].apply(lambda x: x.split(' ')[0])"
   ]
  },
  {
   "cell_type": "code",
   "execution_count": 40,
   "metadata": {},
   "outputs": [
    {
     "data": {
      "text/html": [
       "<div>\n",
       "<style scoped>\n",
       "    .dataframe tbody tr th:only-of-type {\n",
       "        vertical-align: middle;\n",
       "    }\n",
       "\n",
       "    .dataframe tbody tr th {\n",
       "        vertical-align: top;\n",
       "    }\n",
       "\n",
       "    .dataframe thead th {\n",
       "        text-align: right;\n",
       "    }\n",
       "</style>\n",
       "<table border=\"1\" class=\"dataframe\">\n",
       "  <thead>\n",
       "    <tr style=\"text-align: right;\">\n",
       "      <th></th>\n",
       "      <th>Flower Color</th>\n",
       "      <th>Meaning</th>\n",
       "      <th>color</th>\n",
       "    </tr>\n",
       "  </thead>\n",
       "  <tbody>\n",
       "    <tr>\n",
       "      <th>0</th>\n",
       "      <td>Red Flowers</td>\n",
       "      <td>Fresh red flowers send the clear and powerful ...</td>\n",
       "      <td>Red</td>\n",
       "    </tr>\n",
       "    <tr>\n",
       "      <th>1</th>\n",
       "      <td>Orange Flowers</td>\n",
       "      <td>If one could capture and concentrate the sun t...</td>\n",
       "      <td>Orange</td>\n",
       "    </tr>\n",
       "    <tr>\n",
       "      <th>2</th>\n",
       "      <td>Yellow Flowers</td>\n",
       "      <td>Yellow flowers represent friendship and filial...</td>\n",
       "      <td>Yellow</td>\n",
       "    </tr>\n",
       "    <tr>\n",
       "      <th>3</th>\n",
       "      <td>Green Flowers</td>\n",
       "      <td>Bright healthy green in an arrangement represe...</td>\n",
       "      <td>Green</td>\n",
       "    </tr>\n",
       "    <tr>\n",
       "      <th>4</th>\n",
       "      <td>Blue Flowers</td>\n",
       "      <td>Rich deep blues found in the beautiful hydrang...</td>\n",
       "      <td>Blue</td>\n",
       "    </tr>\n",
       "    <tr>\n",
       "      <th>5</th>\n",
       "      <td>Purple Flowers</td>\n",
       "      <td>Purple flowers have an enchanted other worldly...</td>\n",
       "      <td>Purple</td>\n",
       "    </tr>\n",
       "    <tr>\n",
       "      <th>6</th>\n",
       "      <td>White Flowers</td>\n",
       "      <td>Fresh white flowers are most closely associate...</td>\n",
       "      <td>White</td>\n",
       "    </tr>\n",
       "  </tbody>\n",
       "</table>\n",
       "</div>"
      ],
      "text/plain": [
       "    Flower Color                                             Meaning   color\n",
       "0     Red Flowers  Fresh red flowers send the clear and powerful ...     Red\n",
       "1  Orange Flowers  If one could capture and concentrate the sun t...  Orange\n",
       "2  Yellow Flowers  Yellow flowers represent friendship and filial...  Yellow\n",
       "3   Green Flowers  Bright healthy green in an arrangement represe...   Green\n",
       "4    Blue Flowers  Rich deep blues found in the beautiful hydrang...    Blue\n",
       "5  Purple Flowers  Purple flowers have an enchanted other worldly...  Purple\n",
       "6   White Flowers  Fresh white flowers are most closely associate...   White"
      ]
     },
     "execution_count": 40,
     "metadata": {},
     "output_type": "execute_result"
    }
   ],
   "source": [
    "df"
   ]
  },
  {
   "cell_type": "code",
   "execution_count": 112,
   "metadata": {},
   "outputs": [],
   "source": [
    "# création d'une fonction qui affiche le texte d'une couleur quand il prend en paramètre cette couleur\n",
    "\n",
    "def show_color(couleur):\n",
    "    # On récupère la ligne dans laquelle le data frame est de la couleur souhaitée et on affiche uniquement la colonne Meaning\n",
    "     \n",
    "    return df['Meaning'].loc[df['color'] == couleur].iloc[0]"
   ]
  },
  {
   "cell_type": "code",
   "execution_count": 108,
   "metadata": {},
   "outputs": [
    {
     "data": {
      "text/plain": [
       "'Fresh red flowers send the clear and powerful message of intense romantic love. Red is the unquestioned color of passion and any red bouquet or red flower arrangement will communicate your strong and powerful love. Red flowers are the closest symbolic likeness to the heart. Red is the color of seduction and desire. Red roses are the most common red flower but red carnations red tulips and red gerbera daisies will all transmit your message of desire and passion.'"
      ]
     },
     "execution_count": 108,
     "metadata": {},
     "output_type": "execute_result"
    }
   ],
   "source": [
    "show_color(\"Red\")"
   ]
  },
  {
   "cell_type": "code",
   "execution_count": 111,
   "metadata": {},
   "outputs": [
    {
     "data": {
      "text/plain": [
       "'Fresh red flowers send the clear and powerful message of intense romantic love. Red is the unquestioned color of passion and any red bouquet or red flower arrangement will communicate your strong and powerful love. Red flowers are the closest symbolic likeness to the heart. Red is the color of seduction and desire. Red roses are the most common red flower but red carnations red tulips and red gerbera daisies will all transmit your message of desire and passion.'"
      ]
     },
     "execution_count": 111,
     "metadata": {},
     "output_type": "execute_result"
    }
   ],
   "source": [
    "df[df['color'] =='Red']['Meaning'].iloc[0]"
   ]
  },
  {
   "cell_type": "code",
   "execution_count": 42,
   "metadata": {},
   "outputs": [
    {
     "data": {
      "text/html": [
       "<div>\n",
       "<style scoped>\n",
       "    .dataframe tbody tr th:only-of-type {\n",
       "        vertical-align: middle;\n",
       "    }\n",
       "\n",
       "    .dataframe tbody tr th {\n",
       "        vertical-align: top;\n",
       "    }\n",
       "\n",
       "    .dataframe thead th {\n",
       "        text-align: right;\n",
       "    }\n",
       "</style>\n",
       "<table border=\"1\" class=\"dataframe\">\n",
       "  <thead>\n",
       "    <tr style=\"text-align: right;\">\n",
       "      <th></th>\n",
       "      <th>Flower Color</th>\n",
       "      <th>Meaning</th>\n",
       "      <th>color</th>\n",
       "    </tr>\n",
       "  </thead>\n",
       "  <tbody>\n",
       "    <tr>\n",
       "      <th>0</th>\n",
       "      <td>Red Flowers</td>\n",
       "      <td>Fresh red flowers send the clear and powerful ...</td>\n",
       "      <td>Red</td>\n",
       "    </tr>\n",
       "    <tr>\n",
       "      <th>1</th>\n",
       "      <td>Orange Flowers</td>\n",
       "      <td>If one could capture and concentrate the sun t...</td>\n",
       "      <td>Orange</td>\n",
       "    </tr>\n",
       "    <tr>\n",
       "      <th>2</th>\n",
       "      <td>Yellow Flowers</td>\n",
       "      <td>Yellow flowers represent friendship and filial...</td>\n",
       "      <td>Yellow</td>\n",
       "    </tr>\n",
       "    <tr>\n",
       "      <th>3</th>\n",
       "      <td>Green Flowers</td>\n",
       "      <td>Bright healthy green in an arrangement represe...</td>\n",
       "      <td>Green</td>\n",
       "    </tr>\n",
       "    <tr>\n",
       "      <th>4</th>\n",
       "      <td>Blue Flowers</td>\n",
       "      <td>Rich deep blues found in the beautiful hydrang...</td>\n",
       "      <td>Blue</td>\n",
       "    </tr>\n",
       "    <tr>\n",
       "      <th>5</th>\n",
       "      <td>Purple Flowers</td>\n",
       "      <td>Purple flowers have an enchanted other worldly...</td>\n",
       "      <td>Purple</td>\n",
       "    </tr>\n",
       "    <tr>\n",
       "      <th>6</th>\n",
       "      <td>White Flowers</td>\n",
       "      <td>Fresh white flowers are most closely associate...</td>\n",
       "      <td>White</td>\n",
       "    </tr>\n",
       "  </tbody>\n",
       "</table>\n",
       "</div>"
      ],
      "text/plain": [
       "    Flower Color                                             Meaning   color\n",
       "0     Red Flowers  Fresh red flowers send the clear and powerful ...     Red\n",
       "1  Orange Flowers  If one could capture and concentrate the sun t...  Orange\n",
       "2  Yellow Flowers  Yellow flowers represent friendship and filial...  Yellow\n",
       "3   Green Flowers  Bright healthy green in an arrangement represe...   Green\n",
       "4    Blue Flowers  Rich deep blues found in the beautiful hydrang...    Blue\n",
       "5  Purple Flowers  Purple flowers have an enchanted other worldly...  Purple\n",
       "6   White Flowers  Fresh white flowers are most closely associate...   White"
      ]
     },
     "execution_count": 42,
     "metadata": {},
     "output_type": "execute_result"
    }
   ],
   "source": [
    "df"
   ]
  },
  {
   "cell_type": "code",
   "execution_count": 73,
   "metadata": {},
   "outputs": [
    {
     "data": {
      "text/plain": [
       "'Fresh red flowers send the clear and powerful message of intense romantic love. Red is the unquestioned color of passion and any red bouquet or red flower arrangement will communicate your strong and powerful love. Red flowers are the closest symbolic likeness to the heart. Red is the color of seduction and desire. Red roses are the most common red flower but red carnations red tulips and red gerbera daisies will all transmit your message of desire and passion.'"
      ]
     },
     "execution_count": 73,
     "metadata": {},
     "output_type": "execute_result"
    }
   ],
   "source": [
    "df['Meaning'].loc[df['color'] == 'Red'].iloc[0]\n"
   ]
  },
  {
   "cell_type": "code",
   "execution_count": 101,
   "metadata": {},
   "outputs": [],
   "source": [
    "date = dt.date.today().strftime('%Y-%m-%d')"
   ]
  },
  {
   "cell_type": "code",
   "execution_count": 102,
   "metadata": {},
   "outputs": [
    {
     "data": {
      "text/plain": [
       "'2024-11-20'"
      ]
     },
     "execution_count": 102,
     "metadata": {},
     "output_type": "execute_result"
    }
   ],
   "source": [
    "date\n"
   ]
  }
 ],
 "metadata": {
  "kernelspec": {
   "display_name": "Python 3",
   "language": "python",
   "name": "python3"
  },
  "language_info": {
   "codemirror_mode": {
    "name": "ipython",
    "version": 3
   },
   "file_extension": ".py",
   "mimetype": "text/x-python",
   "name": "python",
   "nbconvert_exporter": "python",
   "pygments_lexer": "ipython3",
   "version": "3.11.9"
  }
 },
 "nbformat": 4,
 "nbformat_minor": 2
}
