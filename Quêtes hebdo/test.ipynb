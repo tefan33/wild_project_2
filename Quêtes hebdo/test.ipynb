{
 "cells": [
  {
   "cell_type": "code",
   "execution_count": 5,
   "metadata": {},
   "outputs": [
    {
     "name": "stdout",
     "output_type": "stream",
     "text": [
      "Manhattan\n",
      "Queens\n",
      "Bronx\n",
      "Brooklyn\n"
     ]
    }
   ],
   "source": [
    "\n",
    "import seaborn as sns\n",
    "\n",
    "\n",
    "# On récupère les dataset de sns\n",
    "sns.get_dataset_names()\n",
    "# on récupère le dataset taxi\n",
    "\n",
    "taxis_df = sns.load_dataset(\"taxis\")\n",
    "\n",
    "#display(taxis_df.head())\n",
    "\n",
    "toto = taxis_df[taxis_df['pickup_borough'].notna()]['pickup_borough'].unique()\n",
    "\n",
    "for ele in toto:\n",
    "    print(ele)\n",
    "\n"
   ]
  }
 ],
 "metadata": {
  "kernelspec": {
   "display_name": "Python 3",
   "language": "python",
   "name": "python3"
  },
  "language_info": {
   "codemirror_mode": {
    "name": "ipython",
    "version": 3
   },
   "file_extension": ".py",
   "mimetype": "text/x-python",
   "name": "python",
   "nbconvert_exporter": "python",
   "pygments_lexer": "ipython3",
   "version": "3.11.9"
  }
 },
 "nbformat": 4,
 "nbformat_minor": 2
}
